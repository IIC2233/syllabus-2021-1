{
 "cells": [
  {
   "cell_type": "markdown",
   "metadata": {
    "slideshow": {
     "slide_type": "slide"
    }
   },
   "source": [
    "# Ayudantía 09 - Estructuras Nodales I y II\n",
    "\n",
    "__Autores: Roberto Negrin (@roberto009) y Pablo Sanhueza (@pabloist)__"
   ]
  },
  {
   "cell_type": "markdown",
   "metadata": {
    "slideshow": {
     "slide_type": "fragment"
    }
   },
   "source": [
    "Una estructura de datos se define como una forma determinada  de **organizar** los datos para que puedan ser utilizarlos de la manera **más efectiva posible**."
   ]
  },
  {
   "cell_type": "markdown",
   "metadata": {
    "slideshow": {
     "slide_type": "slide"
    }
   },
   "source": [
    "###  Nodos\n",
    "Veamos la estructura básica de un nodo:"
   ]
  },
  {
   "cell_type": "code",
   "execution_count": 1,
   "metadata": {
    "slideshow": {
     "slide_type": "subslide"
    }
   },
   "outputs": [],
   "source": [
    "# El nodo más básico\n",
    "class Node:\n",
    "    def __init__(self, value, next_node):\n",
    "        self.value = value\n",
    "        self.next = next_node"
   ]
  },
  {
   "cell_type": "markdown",
   "metadata": {
    "slideshow": {
     "slide_type": "slide"
    }
   },
   "source": [
    "¿Qué podemos hacer con un nodo que sólo tiene una referencia?\n",
    "\n",
    "## Listas Ligadas"
   ]
  },
  {
   "cell_type": "markdown",
   "metadata": {
    "slideshow": {
     "slide_type": "subslide"
    }
   },
   "source": [
    "Una lista ligada es una estructura que almacena nodos en un **orden secuencial**, en que cada nodo posee una referencia a un único nodo sucesor (next node).\n",
    "\n",
    "El primer nodo de una lista ligada es denominado **cabeza (head)** de la lista, y el último, que no posee sucesor, es denominado **cola (tail)**.\n",
    " <div style=\"text-align: center;\">\n",
    "    <img src=\"./imagenes/linked-list.png\" />\n",
    "</div>\n",
    "\n",
    "\n",
    "Veamos una simple forma de crear una lista ligada "
   ]
  },
  {
   "cell_type": "code",
   "execution_count": 2,
   "metadata": {
    "slideshow": {
     "slide_type": "slide"
    }
   },
   "outputs": [],
   "source": [
    "class Node:\n",
    "    def __init__(self, value=None, next_node=None):\n",
    "        self.value = value\n",
    "        self.next_node = next_node\n",
    "        \n",
    "    def append(self, value):\n",
    "        if not self.next_node:\n",
    "            self.next_node = Node(value)\n",
    "        else:\n",
    "            self.next_node.append(value)\n",
    "            \n",
    "    def __str__(self):\n",
    "        if not self.next_node:\n",
    "            return str(self.value)\n",
    "        else:\n",
    "            return f'{self.value} -> {str(self.next_node)}'"
   ]
  },
  {
   "cell_type": "code",
   "execution_count": 3,
   "metadata": {
    "slideshow": {
     "slide_type": "subslide"
    }
   },
   "outputs": [
    {
     "name": "stdout",
     "output_type": "stream",
     "text": [
      "0\n",
      "0 -> 5 -> 10 -> 15\n"
     ]
    }
   ],
   "source": [
    "lista_ligada = Node(0) # Este nodo corresponde al la cabeza de la lista ligada\n",
    "print(lista_ligada)\n",
    "\n",
    "lista_ligada.append(5)\n",
    "lista_ligada.append(10)\n",
    "lista_ligada.append(15) # El último nodo que agreguemos será la cola\n",
    "print(lista_ligada )"
   ]
  },
  {
   "cell_type": "markdown",
   "metadata": {
    "slideshow": {
     "slide_type": "slide"
    }
   },
   "source": [
    "## Árboles"
   ]
  },
  {
   "cell_type": "markdown",
   "metadata": {
    "slideshow": {
     "slide_type": "fragment"
    }
   },
   "source": [
    "Los árboles son una estructura de dátos muy cómun.\n",
    "A diferencia de las listas ligadas, tiene una **estructura jerárquica**.\n",
    "Todos los nodos, excepto el **nodo raíz** tienen un **padre** y cero o más **hijos**.\n",
    "\n",
    "¿Qué nodos no tienen hijos?\n",
    "Los denominados **hojas** del árbol."
   ]
  },
  {
   "cell_type": "markdown",
   "metadata": {
    "slideshow": {
     "slide_type": "fragment"
    }
   },
   "source": [
    " <div style=\"text-align: center;\">\n",
    "    <img src=\"./imagenes/arboles.jpg\" />\n",
    "</div>\n"
   ]
  },
  {
   "cell_type": "markdown",
   "metadata": {
    "slideshow": {
     "slide_type": "slide"
    }
   },
   "source": [
    "¿Y cómo creamos un árbol?\n",
    "\n",
    "Si nos damos cuenta, un árbol es está formado por árboles más pequeños."
   ]
  },
  {
   "cell_type": "markdown",
   "metadata": {
    "slideshow": {
     "slide_type": "subslide"
    }
   },
   "source": [
    " <div style=\"text-align: center;\">\n",
    "    <img src=\"./imagenes/subtree.png\" />\n",
    "</div>"
   ]
  },
  {
   "cell_type": "markdown",
   "metadata": {
    "slideshow": {
     "slide_type": "fragment"
    }
   },
   "source": [
    "Por lo que podemos crear los árboles como estructuras recusivas, donde cada nodo es la raíz de un árbol más pequeño."
   ]
  },
  {
   "cell_type": "code",
   "execution_count": 4,
   "metadata": {
    "slideshow": {
     "slide_type": "slide"
    }
   },
   "outputs": [],
   "source": [
    "class Arbol:\n",
    "    def __init__(self, valor):\n",
    "        self.valor = valor\n",
    "        self.hijos = set()"
   ]
  },
  {
   "cell_type": "markdown",
   "metadata": {
    "slideshow": {
     "slide_type": "slide"
    }
   },
   "source": [
    "#### Agregar hijos"
   ]
  },
  {
   "cell_type": "code",
   "execution_count": 5,
   "metadata": {
    "slideshow": {
     "slide_type": "fragment"
    }
   },
   "outputs": [],
   "source": [
    "class Arbol:\n",
    "    def __init__(self,ID , valor):\n",
    "        self.ID\n",
    "        self.valor = valor\n",
    "        self.hijos = set()\n",
    "    \n",
    "    def agregar_hijo(self, hijo):\n",
    "        self.hijos.add(hijo)"
   ]
  },
  {
   "cell_type": "markdown",
   "metadata": {
    "slideshow": {
     "slide_type": "slide"
    }
   },
   "source": [
    "## Recorridos: DFS y BFS"
   ]
  },
  {
   "cell_type": "markdown",
   "metadata": {
    "slideshow": {
     "slide_type": "fragment"
    }
   },
   "source": [
    "Podemos recorrer un árbol:\n",
    "- Vérticalmente, en profundidad (DFS).\n",
    "- Horizontalmente, en amplitud (BFS)."
   ]
  },
  {
   "cell_type": "markdown",
   "metadata": {
    "slideshow": {
     "slide_type": "slide"
    }
   },
   "source": [
    "## DFS "
   ]
  },
  {
   "cell_type": "markdown",
   "metadata": {
    "slideshow": {
     "slide_type": "fragment"
    }
   },
   "source": [
    " <div style=\"text-align: center;\">\n",
    "    <img src=\"./imagenes/dfs.png\" />\n",
    "</div>"
   ]
  },
  {
   "cell_type": "markdown",
   "metadata": {
    "slideshow": {
     "slide_type": "slide"
    }
   },
   "source": [
    "## BFS"
   ]
  },
  {
   "cell_type": "markdown",
   "metadata": {
    "slideshow": {
     "slide_type": "fragment"
    }
   },
   "source": [
    " <div style=\"text-align: center;\">\n",
    "    <img src=\"./imagenes/bfs.png\" />\n",
    "</div>"
   ]
  },
  {
   "cell_type": "markdown",
   "metadata": {
    "slideshow": {
     "slide_type": "slide"
    }
   },
   "source": [
    "Dependiendo del tipo de problema, será mas conveniente usar DFS o BFS\n",
    "\n",
    "¡ Agreguemosle un BFS a nuestro Árbol !"
   ]
  },
  {
   "cell_type": "code",
   "execution_count": 9,
   "metadata": {
    "slideshow": {
     "slide_type": "subslide"
    }
   },
   "outputs": [],
   "source": [
    "class Arbol:\n",
    "    def __init__(self,ID , valor):\n",
    "        self.ID = ID\n",
    "        self.valor = valor\n",
    "        self.hijos = []\n",
    "    \n",
    "    def agregar_hijo(self, ID, valor):\n",
    "        self.hijos.append(Arbol(ID, valor))\n",
    "        \n",
    "    def buscar_nodo(self, id_buscada):\n",
    "        if self.ID == id_buscada:\n",
    "                return self\n",
    "        por_visitar = [hijo for hijo in self.hijos]\n",
    "        while len(por_visitar):\n",
    "            nodo_actual = por_visitar.pop(0)\n",
    "            if nodo_actual.ID == id_buscada:\n",
    "                return nodo_actual\n",
    "            por_visitar += [hijo for hijo in nodo_actual.hijos]\n",
    "        return None\n",
    "    \n",
    "    def __repr__(self):\n",
    "        return f\"{(self.ID, self.valor)}\""
   ]
  },
  {
   "cell_type": "code",
   "execution_count": 11,
   "metadata": {
    "scrolled": false,
    "slideshow": {
     "slide_type": "slide"
    }
   },
   "outputs": [
    {
     "name": "stdout",
     "output_type": "stream",
     "text": [
      "(3, 35)\n",
      "[]\n",
      "(3, 35)\n",
      "[(4, 100)]\n"
     ]
    }
   ],
   "source": [
    "# Creamos la raíz\n",
    "raiz = Arbol(0, 50)\n",
    "\n",
    "#Le agregamos nodos\n",
    "raiz.agregar_hijo(1, 155)\n",
    "raiz.agregar_hijo(2, 5)\n",
    "raiz.agregar_hijo(3, 35)\n",
    "\n",
    "#Buscamos un nodo y lo módificamos \n",
    "nodo_buscado = raiz.buscar_nodo(3)\n",
    "print(nodo_buscado)\n",
    "print(nodo_buscado.hijos)\n",
    "nodo_buscado.agregar_hijo(4, 100)\n",
    "\n",
    "#Lo volvemos a buscar para comprobar que se agregó el hijo\n",
    "nodo_buscado = raiz.buscar_nodo(3)\n",
    "print(nodo_buscado)\n",
    "print(nodo_buscado.hijos)"
   ]
  },
  {
   "cell_type": "markdown",
   "metadata": {
    "slideshow": {
     "slide_type": "slide"
    }
   },
   "source": [
    "## I Grafos ¿Qué son? 👀\n",
    "\n",
    "Los grafos son conjuntos de objetos que contienen **aristas** y **nodos**, estas estructuras nos permiten establecer _**relaciones binarias**_ entre entidades. "
   ]
  },
  {
   "cell_type": "markdown",
   "metadata": {
    "slideshow": {
     "slide_type": "fragment"
    }
   },
   "source": [
    " <div style=\"text-align: center;\">\n",
    "    <img src=\"./imagenes/grafos.jpg\" alt=\"image4\" width=\"40%\" weight=\"40%\"/>\n",
    "</div>"
   ]
  },
  {
   "cell_type": "markdown",
   "metadata": {
    "slideshow": {
     "slide_type": "fragment"
    }
   },
   "source": [
    " <div style=\"text-align: center;\">\n",
    "    <img src=\"./imagenes/grafo_social.png\" alt=\"image4\" width=\"40%\" weight=\"40%\"/>\n",
    "</div>"
   ]
  },
  {
   "cell_type": "markdown",
   "metadata": {
    "slideshow": {
     "slide_type": "slide"
    }
   },
   "source": [
    " <div style=\"text-align: center;\">\n",
    "    <img src=\"./imagenes/Konigsberg_bridges.png\" alt=\"image4\" width=\"40%\" weight=\"40%\"/>\n",
    "</div>"
   ]
  },
  {
   "cell_type": "markdown",
   "metadata": {
    "slideshow": {
     "slide_type": "slide"
    }
   },
   "source": [
    "## II Tipos de grafos"
   ]
  },
  {
   "cell_type": "markdown",
   "metadata": {
    "slideshow": {
     "slide_type": "slide"
    }
   },
   "source": [
    "### a) Grafo no dirigido (¿mundo ideal? 🤞) "
   ]
  },
  {
   "cell_type": "markdown",
   "metadata": {
    "slideshow": {
     "slide_type": "fragment"
    }
   },
   "source": [
    " <div style=\"text-align: center;\">\n",
    "    <img src=\"./imagenes/undirected_graph.png\" alt=\"image4\" width=\"40%\" weight=\"40%\"/>\n",
    "</div>\n"
   ]
  },
  {
   "cell_type": "markdown",
   "metadata": {
    "slideshow": {
     "slide_type": "slide"
    }
   },
   "source": [
    "### b) Grafo dirigido (Mundo Real 🙃)"
   ]
  },
  {
   "cell_type": "markdown",
   "metadata": {
    "slideshow": {
     "slide_type": "fragment"
    }
   },
   "source": [
    " <div style=\"text-align: center;\">\n",
    "    <img src=\"./imagenes/Directed_acyclic_graph.png\" alt=\"image4\" width=\"35%\" weight=\"35%\" />\n",
    "</div>"
   ]
  },
  {
   "cell_type": "markdown",
   "metadata": {
    "slideshow": {
     "slide_type": "slide"
    }
   },
   "source": [
    "Ya súper bonito, ¿pero de que sirven? 🤔\n",
    "\n",
    "La **teoría de grafos** tiene aplicación en múltiples áreas tanto de programación como de otras áreas:\n",
    "* Deep learning\n",
    "* Algoritmos de recomendación\n",
    "* Resolución de problemas matemáticos\n",
    "* Sistemas mecánicos - eléctricos"
   ]
  },
  {
   "cell_type": "markdown",
   "metadata": {
    "slideshow": {
     "slide_type": "slide"
    }
   },
   "source": [
    "## III Grafos en Python 👩‍💻👨‍💻\n",
    "\n",
    "\n",
    "Existen diversas formas de crear grafos en Python:\n",
    "\n",
    "### * Definiendo múltiples clases"
   ]
  },
  {
   "cell_type": "code",
   "execution_count": 4,
   "metadata": {
    "slideshow": {
     "slide_type": "subslide"
    }
   },
   "outputs": [],
   "source": [
    "class Nodo:\n",
    "    \n",
    "    def __init__(self, valor):\n",
    "        self.valor = valor\n",
    "        self.conexiones = list()\n",
    "        \n",
    "    def __repr__(self):\n",
    "        seccion_1 = f'Nodo: {self.valor}\\n'\n",
    "        seccion_2 = \"Conexiones: \" + ', '.join(nodo.valor for nodo in self.conexiones)\n",
    "        return seccion_1 + seccion_2\n",
    "        "
   ]
  },
  {
   "cell_type": "markdown",
   "metadata": {
    "slideshow": {
     "slide_type": "slide"
    }
   },
   "source": [
    "### * Una sola clase"
   ]
  },
  {
   "cell_type": "code",
   "execution_count": 5,
   "metadata": {
    "slideshow": {
     "slide_type": "subslide"
    }
   },
   "outputs": [],
   "source": [
    "class Grafo:\n",
    "    \n",
    "    def __init__(self):\n",
    "        self.nodos = dict()\n",
    "    \n",
    "    def agregar_nodo(self, nodo):\n",
    "        self.nodos[nodo.valor] = nodo\n",
    "    \n",
    "    def conectar_nodos(self, nodo_a, nodo_b):\n",
    "        self.nodos[nodo_a.valor].conexiones.append(nodo_b)\n",
    "        self.nodos[nodo_b.valor].conexiones.append(nodo_a)\n",
    "        \n",
    "    def eliminar_nodos(self, nodo_a, nodo_b):\n",
    "        self.nodos[nodo_a.valor].conexiones.remove(nodo_b)\n",
    "        self.nodos[nodo_b.valor].conexiones.remove(nodo_a)\n",
    "    \n",
    "    def __repr__(self):\n",
    "        return \"\\n\".join(str(nodo) for nodo in self.nodos.values())"
   ]
  },
  {
   "cell_type": "code",
   "execution_count": 6,
   "metadata": {
    "slideshow": {
     "slide_type": "slide"
    }
   },
   "outputs": [
    {
     "name": "stdout",
     "output_type": "stream",
     "text": [
      "Nodo: A\n",
      "Conexiones: B, C, D\n",
      "Nodo: B\n",
      "Conexiones: A\n",
      "Nodo: C\n",
      "Conexiones: A\n",
      "Nodo: D\n",
      "Conexiones: A\n"
     ]
    }
   ],
   "source": [
    "nodo_1 = Nodo(\"A\")\n",
    "nodo_2 = Nodo(\"B\")\n",
    "nodo_3 = Nodo(\"C\")\n",
    "nodo_4 = Nodo(\"D\")\n",
    "grafo = Grafo()\n",
    "grafo.agregar_nodo(nodo_1)\n",
    "grafo.agregar_nodo(nodo_2)\n",
    "grafo.agregar_nodo(nodo_3)\n",
    "grafo.agregar_nodo(nodo_4)\n",
    "grafo.conectar_nodos(nodo_1, nodo_2)\n",
    "grafo.conectar_nodos(nodo_1, nodo_3)\n",
    "grafo.conectar_nodos(nodo_1, nodo_4)\n",
    "grafo.conectar_nodos(nodo_3, nodo_4)\n",
    "grafo.eliminar_nodos(nodo_3, nodo_4)\n",
    "print(grafo)"
   ]
  },
  {
   "cell_type": "markdown",
   "metadata": {
    "slideshow": {
     "slide_type": "slide"
    }
   },
   "source": [
    "### * Otros (defaultdicts, listas de adyacencia, matriz de adyacencia, etc)"
   ]
  },
  {
   "cell_type": "markdown",
   "metadata": {
    "slideshow": {
     "slide_type": "slide"
    }
   },
   "source": [
    "## IV Funcionalidades de grafos"
   ]
  },
  {
   "cell_type": "markdown",
   "metadata": {
    "slideshow": {
     "slide_type": "slide"
    }
   },
   "source": [
    "**Funcionalidades**\n",
    "\n",
    "Independiente de la forma en la que se creen los grafos, en general todos tienen un conjunto de funcionalidades en común:\n",
    "\n",
    "* Modificación de nodos (agregar nodos, eliminar nodos, modificar nodos, etc).\n",
    "* Modificación de aristas (agregar aristas, eliminar aristas, modificar aristas, etc).\n",
    "* Recorrido o barrido del grafo desde un nodo inicial (DFS, BFS)."
   ]
  },
  {
   "cell_type": "markdown",
   "metadata": {
    "slideshow": {
     "slide_type": "slide"
    }
   },
   "source": [
    "## V Recorrido"
   ]
  },
  {
   "cell_type": "markdown",
   "metadata": {
    "slideshow": {
     "slide_type": "slide"
    }
   },
   "source": [
    "### b) DFS (Depths First Search)"
   ]
  },
  {
   "cell_type": "markdown",
   "metadata": {
    "slideshow": {
     "slide_type": "fragment"
    }
   },
   "source": [
    " <div style=\"text-align: center;\">\n",
    "    <center><img src=\"./imagenes/Depth-First-Search.gif\" alt=\"image4\" width=\"40%\" weight=\"40%\"/></center>\n",
    "</div>"
   ]
  },
  {
   "cell_type": "code",
   "execution_count": 2,
   "metadata": {
    "slideshow": {
     "slide_type": "subslide"
    }
   },
   "outputs": [],
   "source": [
    "def dfs(grafo, inicio):\n",
    "    # Vamos a mantener un set con los nodos visitados.\n",
    "    visitados = set()\n",
    "\n",
    "    # El stack de siempre, comienza desde el nodo inicio.\n",
    "    stack = [inicio]\n",
    "\n",
    "    while len(stack) > 0:\n",
    "        vertice = stack.pop()\n",
    "        # Detalle clave: si ya visitamos el nodo, ¡no hacemos nada!\n",
    "        if vertice in visitados:\n",
    "            continue\n",
    "\n",
    "        # Lo visitamos\n",
    "        print(vertice)\n",
    "        visitados.add(vertice)\n",
    "\n",
    "        # Agregamos los vecinos al stack si es que no han sido visitados.\n",
    "        for vecino in grafo[vertice]:\n",
    "            if vecino not in visitados:\n",
    "                stack.append(vecino)\n",
    "\n",
    "    return list(visitados)"
   ]
  },
  {
   "cell_type": "markdown",
   "metadata": {
    "slideshow": {
     "slide_type": "slide"
    }
   },
   "source": [
    "<center> También es posible establecer una forma recursiva de DFS (¿funciones recursivas? ❌😱) </center>"
   ]
  },
  {
   "cell_type": "code",
   "execution_count": 1,
   "metadata": {
    "slideshow": {
     "slide_type": "subslide"
    }
   },
   "outputs": [],
   "source": [
    "# Vamos a mantener (como parámetro) un set con los nodos visitados.\n",
    "def dfs_recursivo(grafo, vertice, visitados=None):\n",
    "    visitados = visitados or set()\n",
    "\n",
    "    # Lo visitamos\n",
    "    print(vertice)\n",
    "    visitados.add(vertice)\n",
    "\n",
    "    for vecino in grafo[vertice]:\n",
    "        # Detalle clave: si ya visitamos el nodo, ¡no hacemos nada!\n",
    "        if vecino not in visitados:\n",
    "            dfs_recursivo(grafo, vecino, visitados)\n",
    "\n",
    "    return list(visitados)"
   ]
  },
  {
   "cell_type": "markdown",
   "metadata": {
    "slideshow": {
     "slide_type": "slide"
    }
   },
   "source": [
    "### a) BFS (Breadth First Search)"
   ]
  },
  {
   "cell_type": "markdown",
   "metadata": {
    "slideshow": {
     "slide_type": "fragment"
    }
   },
   "source": [
    " <div style=\"text-align: center;\">\n",
    "    <center><img src=\"./imagenes/Breadth-First-Search-Algorithm.gif\" alt=\"image4\" width=\"40%\" weight=\"40%\"/></center>\n",
    "</div>"
   ]
  },
  {
   "cell_type": "markdown",
   "metadata": {
    "slideshow": {
     "slide_type": "slide"
    }
   },
   "source": [
    "<center>En la práctica se utiliza de forma mas común DFS sobre BFS para recorrer todos los nodos de un grafo. 🤩👌</center>"
   ]
  },
  {
   "cell_type": "markdown",
   "metadata": {
    "slideshow": {
     "slide_type": "slide"
    }
   },
   "source": [
    "## VI Ejercicio DCComienzo 👾🔎"
   ]
  },
  {
   "cell_type": "markdown",
   "metadata": {
    "slideshow": {
     "slide_type": "fragment"
    }
   },
   "source": [
    "Han pasado 40 años desde la última galita (😓) y ya cansado del ~~terrible~~ magnífico manejo de la pandemia de Chile te decides a descrifrar finalmente cómo comenzó todo 🔎, ¿Fue el virus creado por el malvado científico Xue Hua Piao Piao 👾 o se desarrolló naturalmente?. \n",
    "\n",
    "Uno de tus viejos contactos de la OMS te ha facilitado dos documentos, en el primero se encuentra el registro de todas las personas del mundo (de un mundo muy pequeño 😅) y se indica si han sido pacientes confirmados de PrograVirus 2.0; mientras que en el segundo se encuentran los contactos que han tenido con otras personas. Debes encontrar el camino más largo que conecte a personas que hayan sido casos confirmados, así podrás encontrar con una alta probabilidad al paciente 0 🌍.\n",
    "\n",
    "Buena suerte!."
   ]
  },
  {
   "cell_type": "markdown",
   "metadata": {
    "slideshow": {
     "slide_type": "subslide"
    }
   },
   "source": [
    "Siguiendo la lógica del dividir para conquistar, es necesario primero definir una función que nos permita establecer si existe una línea de personas confirmadas que hayan estado en contacto"
   ]
  },
  {
   "cell_type": "markdown",
   "metadata": {
    "slideshow": {
     "slide_type": "slide"
    }
   },
   "source": [
    "## a) Archivos\n",
    "\n",
    "Se entregarán dos archivos: _personas.txt_ donde cada linea representa un **Nodo** y donde el segundo elemento representa si es o fue un caso confirmado de PrograVirus 2.0.\n",
    "\n",
    "Ej:\n",
    "\n",
    "    Elsa patito, 1\n",
    "    Aquiles brinco, 0\n",
    "    Xue Hua Piao Piao, 1\n",
    "    .\n",
    "    .\n",
    "    .\n",
    "\n",
    "\n",
    "Y _contactos.txt_, donde cada linea representa la conexión entre dos nodos. Puedes asumir que no se repetirán conexiones.\n",
    "\n",
    "Ej:\n",
    "\n",
    "    Pangui, Nachito Sánchez\n",
    "    Elsa Patito, Aquiles Brinco\n",
    "    Aquiles Brinco, Xue Hua Piao Piao\n",
    "    .\n",
    "    .\n",
    "    ."
   ]
  },
  {
   "cell_type": "markdown",
   "metadata": {
    "slideshow": {
     "slide_type": "slide"
    }
   },
   "source": [
    "## b) Definición de entidades y métodos\n",
    "\n",
    "### Clase Nodo"
   ]
  },
  {
   "cell_type": "code",
   "execution_count": null,
   "metadata": {
    "slideshow": {
     "slide_type": "subslide"
    }
   },
   "outputs": [],
   "source": [
    "class Nodo:\n",
    "    \n",
    "    def __init__(self, nombre, status):\n",
    "        self.nombre = nombre\n",
    "        self.status = status\n",
    "        self.contactos = []\n",
    "    \n",
    "    def agregar_contacto(self, contacto):\n",
    "        self.contactos.append(contacto)\n",
    "        \n",
    "    def eliminar_contacto(self, contacto):\n",
    "        self.contactos.remove(contacto)\n",
    "        \n",
    "    def __str__(self):\n",
    "        print(self.nombre, self.status)"
   ]
  },
  {
   "cell_type": "markdown",
   "metadata": {
    "slideshow": {
     "slide_type": "slide"
    }
   },
   "source": [
    "### Grafo"
   ]
  },
  {
   "cell_type": "code",
   "execution_count": null,
   "metadata": {
    "slideshow": {
     "slide_type": "subslide"
    }
   },
   "outputs": [],
   "source": [
    "class Grafo:\n",
    "    \n",
    "    def __init__(self):\n",
    "        self.nodos = {}"
   ]
  },
  {
   "cell_type": "markdown",
   "metadata": {
    "slideshow": {
     "slide_type": "slide"
    }
   },
   "source": [
    "#### Funcionalidades del grafo: Modificación de nodos"
   ]
  },
  {
   "cell_type": "code",
   "execution_count": null,
   "metadata": {
    "slideshow": {
     "slide_type": "subslide"
    }
   },
   "outputs": [],
   "source": [
    "    def agregar_nodo(self, nodo):\n",
    "        \n",
    "    def eliminar_nodo(self, nodo):"
   ]
  },
  {
   "cell_type": "markdown",
   "metadata": {
    "slideshow": {
     "slide_type": "slide"
    }
   },
   "source": [
    "#### Funcionalidades del grafo: Modificación de conexiones"
   ]
  },
  {
   "cell_type": "code",
   "execution_count": null,
   "metadata": {
    "slideshow": {
     "slide_type": "subslide"
    }
   },
   "outputs": [],
   "source": [
    "    def agregar_contacto(self, nodoid_a, nodoid_b):\n",
    "        \n",
    "    def eliminar_contacto(self, nodoid_a, nodoid_b):"
   ]
  },
  {
   "cell_type": "markdown",
   "metadata": {
    "slideshow": {
     "slide_type": "fragment"
    }
   },
   "source": [
    "#### Funcionalidades del grafo: Recorrido: Existen casos confirmados entre dos personas?\n",
    "\n",
    "Necesitamos saber si entre dos personas existen contactos que hayan sido identificados como casos confirmados, para lo anterior definimos la función:\n",
    "\n",
    "_hay casos (persona_A, persona_B)_\n",
    "\n",
    "La función hace un recorrido y retorna **True** en caso de que existan casos confirmados entre dos personas y **False** en caso contrario"
   ]
  },
  {
   "cell_type": "code",
   "execution_count": null,
   "metadata": {
    "slideshow": {
     "slide_type": "subslide"
    }
   },
   "outputs": [],
   "source": [
    "    def hay_casos(self, nodo_a, nodo_b):"
   ]
  },
  {
   "cell_type": "markdown",
   "metadata": {
    "slideshow": {
     "slide_type": "slide"
    }
   },
   "source": [
    "Ya sabemos si es que existen contactos confirmados entre dos personas, ahora ¿Quiénes son? Para hacer la trazabilidad necesitamos entonces generar una lista de las personas que son casos confirmados y contactos entre dos personas:\n",
    "\n",
    "_trazabilidad(Persona_A, Persona_B)_\n",
    "\n",
    "La función retorna una lista con los contactos que existen entre dos personas (**Importante: solo debe hacerlo entre personas que existan contactos confirmados**)"
   ]
  },
  {
   "cell_type": "code",
   "execution_count": 7,
   "metadata": {
    "slideshow": {
     "slide_type": "subslide"
    }
   },
   "outputs": [],
   "source": [
    "    def trazabilidad(self, nodo_a, nodo_b, visitados = set()):"
   ]
  },
  {
   "cell_type": "code",
   "execution_count": null,
   "metadata": {
    "slideshow": {
     "slide_type": "slide"
    }
   },
   "outputs": [],
   "source": [
    "class Grafo:\n",
    "    \n",
    "    def __init__(self):\n",
    "        self.nodos = {}\n",
    "        \n",
    "    def agregar_nodo(self, nodo):\n",
    "        pass\n",
    "        \n",
    "    def eliminar_nodo(self, nodo):\n",
    "        pass\n",
    "        \n",
    "    def agregar_contacto(self, nodoid_a, nodoid_b):\n",
    "        pass\n",
    "        \n",
    "    def eliminar_contacto(self, nodoid_a, nodoid_b):\n",
    "        pass\n",
    "        \n",
    "    def hay_casos(self, nodo_a, nodo_b):\n",
    "        pass\n",
    "    \n",
    "    def trazabilidad(self, nodo_a, nodo_b, visitados = set()):\n",
    "        pass\n",
    "        \n",
    "    def mostrar_ruta(self, ruta):\n",
    "        linea = \"\"\n",
    "        for elemento in ruta:\n",
    "            linea += \"->\"+elemento.nombre + elemento.status\n",
    "        print(linea)\n",
    "        \n",
    "    def __str__(self):\n",
    "        return f\"Nodos {self.nodos}\""
   ]
  },
  {
   "cell_type": "markdown",
   "metadata": {
    "slideshow": {
     "slide_type": "slide"
    }
   },
   "source": [
    "## Lectura de datos"
   ]
  },
  {
   "cell_type": "code",
   "execution_count": null,
   "metadata": {
    "slideshow": {
     "slide_type": "subslide"
    }
   },
   "outputs": [],
   "source": [
    "def leer_archivos(archivo_nodos, archivo_conexiones):\n",
    "    grafo = Grafo()\n",
    "    \n",
    "    with open(archivo_nodos, \"r\") as nodos:\n",
    "        for linea in nodos:\n",
    "            nodo = Nodo(*linea.strip().split(\",\"))\n",
    "            grafo.agregar_nodo(nodo)\n",
    "        \n",
    "    with open(archivo_conexiones, \"r\") as conexiones:\n",
    "        for linea in conexiones:\n",
    "            nodo_a, nodo_b = linea.strip().split(\",\")\n",
    "            grafo.agregar_contacto(nodo_a, nodo_b)\n",
    "        \n",
    "    return grafo"
   ]
  },
  {
   "cell_type": "markdown",
   "metadata": {
    "slideshow": {
     "slide_type": "slide"
    }
   },
   "source": [
    "## Probando lo desarrollado"
   ]
  },
  {
   "cell_type": "code",
   "execution_count": null,
   "metadata": {
    "slideshow": {
     "slide_type": "subslide"
    }
   },
   "outputs": [],
   "source": [
    "grafo = leer_archivos(\"Personas.txt\", \"Contactos.txt\")"
   ]
  },
  {
   "cell_type": "code",
   "execution_count": null,
   "metadata": {
    "slideshow": {
     "slide_type": "subslide"
    }
   },
   "outputs": [],
   "source": [
    "print(grafo.hay_ruta(\"Peppa\", \"Hue Xia Piao Piao\"))"
   ]
  },
  {
   "cell_type": "code",
   "execution_count": null,
   "metadata": {
    "slideshow": {
     "slide_type": "subslide"
    }
   },
   "outputs": [],
   "source": [
    "rutas = grafo.trazabilidad(\"Peppa\", \"Hue Xia Piao Piao\")\n",
    "print(\" -> \".join(str(n) for n in rutas))"
   ]
  },
  {
   "cell_type": "markdown",
   "metadata": {
    "slideshow": {
     "slide_type": "slide"
    }
   },
   "source": [
    "## Propuesto 👩‍✈️👨‍✈️"
   ]
  },
  {
   "cell_type": "markdown",
   "metadata": {
    "slideshow": {
     "slide_type": "slide"
    }
   },
   "source": [
    "Ya hemos definido la trazabilidad entre dos personas, ahora necesitamos poder definir cual es la línea de contactos más larga y llegar al posible paciente 0 👾. Para ello debes definir la siguiente función:\n",
    "\n",
    "_Paciente\\_0(grafo)_\n",
    "\n",
    "Que debe retornar la línea de trazabilidad más larga entre las personas existentes en el grafo. ¡Buena suerte! 🤞"
   ]
  }
 ],
 "metadata": {
  "celltoolbar": "Slideshow",
  "kernelspec": {
   "display_name": "Python 3",
   "language": "python",
   "name": "python3"
  },
  "language_info": {
   "codemirror_mode": {
    "name": "ipython",
    "version": 3
   },
   "file_extension": ".py",
   "mimetype": "text/x-python",
   "name": "python",
   "nbconvert_exporter": "python",
   "pygments_lexer": "ipython3",
   "version": "3.7.4"
  }
 },
 "nbformat": 4,
 "nbformat_minor": 5
}
