{
 "cells": [
  {
   "cell_type": "markdown",
   "metadata": {
    "id": "9KBeoA16tH4G",
    "slideshow": {
     "slide_type": "slide"
    }
   },
   "source": [
    "# Ayudantía 2: OOP 1"
   ]
  },
  {
   "cell_type": "markdown",
   "metadata": {
    "slideshow": {
     "slide_type": "-"
    }
   },
   "source": [
    "\n",
    "Natalia Anglada  \n",
    "Vicente Sagüez  \n",
    "Ignacio Urrutia\n"
   ]
  },
  {
   "cell_type": "markdown",
   "metadata": {
    "slideshow": {
     "slide_type": "slide"
    }
   },
   "source": [
    "## Objetos\n",
    "\n",
    "Colección de datos, a los que llamamos **atributos**, y comportamientos, a los que llamamos **métodos**.  \n",
    "\n",
    "Los atributos son como las variables en un programa y los métodos son similares a las funciones, pero que solo funcionan dentro de su respectivo objeto. "
   ]
  },
  {
   "cell_type": "code",
   "execution_count": 7,
   "metadata": {
    "id": "KWZtXUAlqMQL",
    "slideshow": {
     "slide_type": "slide"
    }
   },
   "outputs": [],
   "source": [
    "class Persona:\n",
    "  def __init__(self, nombre, edad, altura):\n",
    "    self.energia = 50\n",
    "    self.nombre = nombre\n",
    "    self.edad = edad\n",
    "  \n",
    "  def comer_pan_con_palta(self):\n",
    "    self.energia += 20\n",
    "    print(self.nombre + \": Ñami-ñami que rico pan con palta! :p\")\n",
    "\n",
    "  def pasar_de_largo_carretando(self):\n",
    "    self.energia -= 40\n",
    "    print(self.nombre + \": Por que acepté ese útimo tequilazo? Nunca más tomo diosito!\")\n",
    "  "
   ]
  },
  {
   "cell_type": "code",
   "execution_count": 8,
   "metadata": {
    "colab": {
     "base_uri": "https://localhost:8080/"
    },
    "id": "S59zJ_yRy4i0",
    "outputId": "f7ff6d01-eeb0-46a3-c755-37468fa09c89",
    "slideshow": {
     "slide_type": "slide"
    }
   },
   "outputs": [
    {
     "name": "stdout",
     "output_type": "stream",
     "text": [
      "La energía de Juan es de 50\n",
      "La energía de Daniela es de 50\n"
     ]
    }
   ],
   "source": [
    "persona1 = Persona(\"Juan\", 76,1.73)\n",
    "persona2 = Persona(\"Daniela\", 20, 1.60)\n",
    "\n",
    "print(\"La energía de\", persona1.nombre, \"es de\", persona1.energia)\n",
    "print(f\"La energía de {persona2.nombre} es de {persona2.energia}\")"
   ]
  },
  {
   "cell_type": "markdown",
   "metadata": {
    "slideshow": {
     "slide_type": "slide"
    }
   },
   "source": [
    "Cabe mencionar que acá podemos hacer una distinción entre los conceptos clase y objeto. \n",
    "\n",
    "**Clase**: Persona()\n",
    "\n",
    "**Objeto**: persona1 y persona2 "
   ]
  },
  {
   "cell_type": "code",
   "execution_count": 9,
   "metadata": {
    "slideshow": {
     "slide_type": "slide"
    }
   },
   "outputs": [
    {
     "name": "stdout",
     "output_type": "stream",
     "text": [
      "Juan: Ñami-ñami que rico pan con palta! :p\n",
      "Daniela: Por que acepté ese útimo tequilazo? Nunca más tomo diosito!\n"
     ]
    }
   ],
   "source": [
    "persona1.comer_pan_con_palta()\n",
    "persona2.pasar_de_largo_carretando()"
   ]
  },
  {
   "cell_type": "code",
   "execution_count": 4,
   "metadata": {
    "slideshow": {
     "slide_type": "fragment"
    }
   },
   "outputs": [
    {
     "name": "stdout",
     "output_type": "stream",
     "text": [
      "La energía de Juan es de 70\n",
      "La energía de Daniela es de 10\n"
     ]
    }
   ],
   "source": [
    "print(\"La energía de\", persona1.nombre, \"es de\", persona1.energia)\n",
    "print(f\"La energía de {persona2.nombre} es de {persona2.energia}\")"
   ]
  },
  {
   "cell_type": "markdown",
   "metadata": {
    "slideshow": {
     "slide_type": "slide"
    }
   },
   "source": [
    "## Encapsulamiento\n",
    "\n",
    "Se refiere al ocultamiento de los atributos de un objeto de manera que éstos sólo puedan ser modificados mediante los métodos que el programador defina.\n"
   ]
  },
  {
   "cell_type": "code",
   "execution_count": 10,
   "metadata": {
    "id": "vKyYCKsG17Ri",
    "slideshow": {
     "slide_type": "slide"
    }
   },
   "outputs": [],
   "source": [
    "class Persona:\n",
    "  def __init__(self, nombre, edad, altura, clave_de_facebook):\n",
    "    self.energia = 50\n",
    "    self.nombre = nombre\n",
    "    self.edad = edad\n",
    "    self.clave_secreta = clave_de_facebook\n",
    "\n",
    "  def postear_en_facebook(self):\n",
    "    clave = input(\"ingrese clave: \")\n",
    "    if clave == self.clave_secreta:\n",
    "      print(\"Foto posteada\")\n",
    "    else:\n",
    "      print(\"Clave inválida\")\n"
   ]
  },
  {
   "cell_type": "code",
   "execution_count": 12,
   "metadata": {
    "colab": {
     "base_uri": "https://localhost:8080/"
    },
    "id": "FiGOMBi73fLF",
    "outputId": "5649aa4f-fd0e-4b36-cafa-c7876dcf7788",
    "slideshow": {
     "slide_type": "slide"
    }
   },
   "outputs": [
    {
     "name": "stdout",
     "output_type": "stream",
     "text": [
      "ingrese clave: 1234\n",
      "Foto posteada\n"
     ]
    }
   ],
   "source": [
    "persona2 = Persona(\"Daniela\", 20, 1.60, \"1234\")\n",
    "persona2.postear_en_facebook()"
   ]
  },
  {
   "cell_type": "markdown",
   "metadata": {
    "id": "fDcLaKWD41u3",
    "slideshow": {
     "slide_type": "slide"
    }
   },
   "source": [
    "Vemos aquí que la clase funciona perfecto! Pero... qué pasa si queremos acceder a la clave secreta de Daniela?"
   ]
  },
  {
   "cell_type": "code",
   "execution_count": 13,
   "metadata": {
    "colab": {
     "base_uri": "https://localhost:8080/"
    },
    "id": "8qHl9PPT49rG",
    "outputId": "0f487266-78f9-473b-b908-874d54a91948",
    "slideshow": {
     "slide_type": "fragment"
    }
   },
   "outputs": [
    {
     "name": "stdout",
     "output_type": "stream",
     "text": [
      "Muajaja ya sabemos que tu clave secreta es 1234 ahora podremos publicar cosas en tu facebook!\n"
     ]
    }
   ],
   "source": [
    "print(\"Muajaja ya sabemos que tu clave secreta es\", persona2.clave_secreta,\"ahora podremos publicar cosas en tu facebook!\")"
   ]
  },
  {
   "cell_type": "markdown",
   "metadata": {
    "id": "Emcqejf85S5Q",
    "slideshow": {
     "slide_type": "slide"
    }
   },
   "source": [
    "Caracoles, nos han robado la clave secreta! Si tan solo hubiera una forma de ocultarla.\n",
    "\n",
    "De aquí nace la necesidad de encapsular ciertos atributos."
   ]
  },
  {
   "cell_type": "code",
   "execution_count": 14,
   "metadata": {
    "id": "VLMLKMgq5aCG",
    "slideshow": {
     "slide_type": "slide"
    }
   },
   "outputs": [],
   "source": [
    "class Persona:\n",
    "  def __init__(self, nombre, edad, altura, clave_de_facebook, clave_del_celular):\n",
    "    self.energia = 50\n",
    "    self.nombre = nombre\n",
    "    self.edad = edad\n",
    "    self.__clave_secreta = clave_de_facebook\n",
    "    self._clave_no_tan_secreta = clave_del_celular\n",
    "\n",
    "  def postear_en_facebook(self):\n",
    "    clave = input(\"ingrese clave: \")\n",
    "    if clave == self.__clave_secreta:\n",
    "      print(\"Foto posteada\")\n",
    "    else:\n",
    "      print(\"Clave inválida\")"
   ]
  },
  {
   "cell_type": "code",
   "execution_count": 15,
   "metadata": {
    "colab": {
     "base_uri": "https://localhost:8080/"
    },
    "id": "CGkVT6Mw6v1q",
    "outputId": "1d9a4015-8be8-4f5b-bfe5-bb0614e563a8",
    "slideshow": {
     "slide_type": "slide"
    }
   },
   "outputs": [
    {
     "name": "stdout",
     "output_type": "stream",
     "text": [
      "ingrese clave: sds\n",
      "Clave inválida\n"
     ]
    }
   ],
   "source": [
    "persona2 = Persona(\"Daniela\", 20, 1.60, \"1234\", \"123\")\n",
    "persona2.postear_en_facebook()"
   ]
  },
  {
   "cell_type": "markdown",
   "metadata": {
    "slideshow": {
     "slide_type": "slide"
    }
   },
   "source": [
    "De esta forma, al intentar acceder al atributo desde afuera de la clase, sucede lo siguiente:"
   ]
  },
  {
   "cell_type": "code",
   "execution_count": 16,
   "metadata": {
    "colab": {
     "base_uri": "https://localhost:8080/",
     "height": 180
    },
    "id": "b7xtTYV26L4m",
    "outputId": "827aac41-a442-4161-8eb8-0031ae8a9cda",
    "slideshow": {
     "slide_type": "fragment"
    }
   },
   "outputs": [
    {
     "ename": "AttributeError",
     "evalue": "'Persona' object has no attribute '__clave_secreta'",
     "output_type": "error",
     "traceback": [
      "\u001b[1;31m---------------------------------------------------------------------------\u001b[0m",
      "\u001b[1;31mAttributeError\u001b[0m                            Traceback (most recent call last)",
      "\u001b[1;32m<ipython-input-16-d1c779015156>\u001b[0m in \u001b[0;36m<module>\u001b[1;34m\u001b[0m\n\u001b[1;32m----> 1\u001b[1;33m \u001b[0mprint\u001b[0m\u001b[1;33m(\u001b[0m\u001b[1;34m\"Muajaja ya sabemos que tu clave secreta es\"\u001b[0m\u001b[1;33m,\u001b[0m \u001b[0mpersona2\u001b[0m\u001b[1;33m.\u001b[0m\u001b[0m__clave_secreta\u001b[0m\u001b[1;33m)\u001b[0m \u001b[1;31m#Intentar con el guion bajo\u001b[0m\u001b[1;33m\u001b[0m\u001b[1;33m\u001b[0m\u001b[0m\n\u001b[0m",
      "\u001b[1;31mAttributeError\u001b[0m: 'Persona' object has no attribute '__clave_secreta'"
     ]
    }
   ],
   "source": [
    "print(\"Muajaja ya sabemos que tu clave secreta es\", persona2.__clave_secreta) #Intentar con el guion bajo"
   ]
  },
  {
   "cell_type": "markdown",
   "metadata": {
    "slideshow": {
     "slide_type": "slide"
    }
   },
   "source": [
    "En cambio, la clave del celular (que **no** está encapsulada) si se puede ver. Sin embargo, es una convención entre los programadores escribir un solo _ (underscore) cuando no queremos que el atributo sea accedido desde afuera."
   ]
  },
  {
   "cell_type": "code",
   "execution_count": 17,
   "metadata": {
    "colab": {
     "base_uri": "https://localhost:8080/"
    },
    "id": "rH-iQQUM9Op2",
    "outputId": "62066619-2282-43ec-9d6b-8c97b474efae",
    "slideshow": {
     "slide_type": "fragment"
    }
   },
   "outputs": [
    {
     "name": "stdout",
     "output_type": "stream",
     "text": [
      "Al menos sabemos que tu clave del celular es 123\n"
     ]
    }
   ],
   "source": [
    "print(\"Al menos sabemos que tu clave del celular es\", persona2._clave_no_tan_secreta)"
   ]
  },
  {
   "cell_type": "markdown",
   "metadata": {
    "slideshow": {
     "slide_type": "slide"
    }
   },
   "source": [
    "## Properties \n",
    "\n",
    "En Python, una property funciona como un atributo, pero sobre el cual podemos modificar su comportamiento cada vez que es leído (get), escrito (set), o eliminado (del).\n"
   ]
  },
  {
   "cell_type": "markdown",
   "metadata": {
    "id": "amz28Fsn95Vb",
    "slideshow": {
     "slide_type": "slide"
    }
   },
   "source": [
    "Siguiendo con ejemplo anterior, ahora sabemos que estos ladrones nos quieren robar las claves para publicar cosas en nuestro Facebook. Por lo tanto, es mejor asegurarse y cambiar la clave por una más segura."
   ]
  },
  {
   "cell_type": "code",
   "execution_count": 19,
   "metadata": {
    "id": "YcWNGj-r7Hjq",
    "slideshow": {
     "slide_type": "slide"
    }
   },
   "outputs": [],
   "source": [
    "class Persona:\n",
    "  def __init__(self, nombre, edad, altura, clave_de_facebook):\n",
    "    self.energia = 50\n",
    "    self.nombre = nombre\n",
    "    self.edad = edad\n",
    "    self.__clave_secreta = clave_de_facebook\n",
    "\n",
    "  @property\n",
    "  def clave_secreta(self):\n",
    "    print(\"Okaaaaay, te voy a decir mi clave pero no se lo digas a nadiee\")\n",
    "    return self.__clave_secreta\n",
    "  \n",
    "  @clave_secreta.setter\n",
    "  def clave_secreta(self, nueva_clave):\n",
    "    min = 10\n",
    "    if len(nueva_clave) < min:\n",
    "      print(\"Su clave es muy facil, intente otra\")\n",
    "    else:\n",
    "      self.__clave_secreta = nueva_clave\n",
    "      print(\"Su clave ha sido cambiada con éxito, ahora está seguro\")\n",
    "        \n",
    "  @clave_secreta.deleter\n",
    "  def clave_secreta(self): \n",
    "    print(\"Borrando clave..\")\n",
    "    del self.__clave_secreta"
   ]
  },
  {
   "cell_type": "code",
   "execution_count": 20,
   "metadata": {
    "colab": {
     "base_uri": "https://localhost:8080/"
    },
    "id": "TIj8rgkRBhNF",
    "outputId": "06972371-7d72-4401-be64-f68baadfc969",
    "slideshow": {
     "slide_type": "slide"
    }
   },
   "outputs": [
    {
     "name": "stdout",
     "output_type": "stream",
     "text": [
      "Okaaaaay, te voy a decir mi clave pero no se lo digas a nadiee\n",
      "1234\n",
      "Su clave es muy facil, intente otra\n",
      "Borrando clave..\n"
     ]
    }
   ],
   "source": [
    "persona2 = Persona(\"Daniela\", 20, 1.60, \"1234\")\n",
    "print(persona2.clave_secreta)\n",
    "\n",
    "persona2.clave_secreta = \"12345\"\n",
    "del persona2.clave_secreta"
   ]
  },
  {
   "cell_type": "code",
   "execution_count": 21,
   "metadata": {
    "colab": {
     "base_uri": "https://localhost:8080/"
    },
    "id": "TF7-7fbMCI7-",
    "outputId": "0d44322a-0047-42ec-b83e-3f26cf8d4c6f",
    "slideshow": {
     "slide_type": "slide"
    }
   },
   "outputs": [
    {
     "name": "stdout",
     "output_type": "stream",
     "text": [
      "Su clave ha sido cambiada con éxito, ahora está seguro\n"
     ]
    }
   ],
   "source": [
    "persona2.clave_secreta = \"12345lalalalllalalaalala\""
   ]
  },
  {
   "cell_type": "markdown",
   "metadata": {
    "id": "6iOOkhp15Zxd",
    "slideshow": {
     "slide_type": "slide"
    }
   },
   "source": [
    "También existe otra forma de escribir properties, utilizando \\_get\\_, \\_set\\_ y \\_del\\_"
   ]
  },
  {
   "cell_type": "code",
   "execution_count": 22,
   "metadata": {
    "id": "UmE0bQcMC9MK",
    "slideshow": {
     "slide_type": "slide"
    }
   },
   "outputs": [],
   "source": [
    "class Persona:\n",
    "  def __init__(self, nombre, edad, altura, clave_de_facebook):\n",
    "    self.energia = 50\n",
    "    self.nombre = nombre\n",
    "    self.edad = edad\n",
    "    self.__clave_secreta = clave_de_facebook\n",
    "\n",
    "  def _get_clave_secreta(self):\n",
    "    print(\"Okaaaaay, te voy a decir mi clave pero no se lo digas a nadiee\")\n",
    "    return self.__clave_secreta\n",
    "  \n",
    "  def _set_clave_secreta(self, nueva_clave):\n",
    "    min = 10\n",
    "    if len(nueva_clave) < min:\n",
    "      print(\"Su clave es muy facil, intente otra\")\n",
    "    else:\n",
    "      self.__clave_secreta = nueva_clave\n",
    "      print(\"Su clave ha sido cambiada con éxito, ahora está seguro\")\n",
    "    \n",
    "  def _del_clave_secreta(self): \n",
    "    print(\"Borrando clave..\")\n",
    "    del self.__clave_secreta\n",
    "\n",
    "  clave_secreta = property(_get_clave_secreta, _set_clave_secreta, _del_clave_secreta)"
   ]
  },
  {
   "cell_type": "code",
   "execution_count": 23,
   "metadata": {
    "colab": {
     "base_uri": "https://localhost:8080/"
    },
    "id": "F4vVO2IC5_dO",
    "outputId": "2d4fdecc-54bd-48da-f58f-120a459c5b4a",
    "slideshow": {
     "slide_type": "slide"
    }
   },
   "outputs": [
    {
     "name": "stdout",
     "output_type": "stream",
     "text": [
      "Okaaaaay, te voy a decir mi clave pero no se lo digas a nadiee\n",
      "1234\n",
      "Su clave es muy facil, intente otra\n",
      "Borrando clave..\n"
     ]
    }
   ],
   "source": [
    "persona2 = Persona(\"Daniela\", 20, 1.60, \"1234\")\n",
    "print(persona2.clave_secreta)\n",
    "\n",
    "persona2.clave_secreta = \"12345\"\n",
    "del persona2.clave_secreta"
   ]
  },
  {
   "cell_type": "markdown",
   "metadata": {
    "id": "JMa9wR1C6Ofq",
    "slideshow": {
     "slide_type": "slide"
    }
   },
   "source": [
    "Ahora bien, sabemos que existen distintos tipos de personas con cualidades distintas, pero nos da pereza anotar el código de nuevo siendo que ya lo tenemos hecho. Para eso nace la herencia de clases! Wii! 🤗"
   ]
  },
  {
   "cell_type": "markdown",
   "metadata": {
    "slideshow": {
     "slide_type": "slide"
    }
   },
   "source": [
    "## Herencia\n",
    "\n",
    "En una relación de herencia, una clase hereda atributos y métodos de otra. Decimos que la que hereda es una subclase, y la otra es una superclase. La subclase posee todos los atributos y métodos de la superclase, pero además tiene sus propios métodos y atributos específicos. "
   ]
  },
  {
   "cell_type": "code",
   "execution_count": 24,
   "metadata": {
    "id": "0Bcjz2996iNT",
    "slideshow": {
     "slide_type": "slide"
    }
   },
   "outputs": [],
   "source": [
    "class Profesor(Persona):\n",
    "  def __init__(self, nombre, edad, altura, clave, asignatura):\n",
    "    Persona.__init__(self, nombre, edad, altura, clave)\n",
    "    self.asignatura = asignatura\n",
    "\n",
    "  def reprobar_estudiante(self, estudiante):\n",
    "    print(\"Buenos días \", estudiante.nombre, \"tienes un 1.0 en\", self.asignatura)\n",
    "    estudiante.PPA -= 1.0\n",
    "\n",
    "class Estudiante(Persona):\n",
    "  def __init__(self, nombre, edad, altura, clave, PPA, universidad):\n",
    "    Persona.__init__(self, nombre, edad, altura, clave)\n",
    "    self._PPA = PPA\n",
    "    self.universidad = universidad\n",
    "\n",
    "  @property\n",
    "  def PPA(self):\n",
    "    return self._PPA\n",
    "\n",
    "  @PPA.setter\n",
    "  def PPA(self, valor):\n",
    "    self._PPA = valor\n",
    "    if self._PPA <= 4.0:\n",
    "      self.universidad = None\n",
    "      print(\"Te vas de la U!! >:(\")\n",
    "  \n",
    "  def estudiar(self):\n",
    "    self.PPA += 0.5\n",
    "    print(\"Estoy aprendiendo, estoy aprendiendo! :D\")"
   ]
  },
  {
   "cell_type": "code",
   "execution_count": null,
   "metadata": {
    "colab": {
     "base_uri": "https://localhost:8080/"
    },
    "id": "5Odl67LeAcJt",
    "outputId": "03109524-1889-4b24-e4af-ce34c843d927",
    "slideshow": {
     "slide_type": "slide"
    }
   },
   "outputs": [],
   "source": [
    "alumno = Estudiante(\"Ezequiel\", 28, 2.10, \"Ezequiellalleva1313B-|\", 4.1, \"MIT\")\n",
    "profe = Profesor(\"julioprofe\", 48, 1.70, \"lasmateslallevan3.14159265\", \"matemática\")\n",
    "\n",
    "print(alumno.PPA)\n",
    "\n",
    "alumno.estudiar()\n",
    "\n",
    "print(alumno.PPA)\n",
    "\n",
    "profe.reprobar_estudiante(alumno)\n",
    "\n",
    "print(alumno.PPA)\n",
    "\n",
    "profe.postear_en_facebook()"
   ]
  },
  {
   "cell_type": "markdown",
   "metadata": {
    "id": "Sufvyrb3EvN_",
    "slideshow": {
     "slide_type": "slide"
    }
   },
   "source": [
    "También existe la opción (recomendada) de utilizar la función super() en el init, la cual llama a la clase padre."
   ]
  },
  {
   "cell_type": "code",
   "execution_count": 25,
   "metadata": {
    "id": "2OyCNwF0E5Pq",
    "slideshow": {
     "slide_type": "slide"
    }
   },
   "outputs": [],
   "source": [
    "class Profesor(Persona):\n",
    "  def __init__(self, nombre, edad, altura, clave, asignatura):\n",
    "    super().__init__(nombre, edad, altura, clave)\n",
    "    self.asignatura = asignatura\n",
    "\n",
    "  def reprobar_estudiante(self, estudiante):\n",
    "    print(\"Buenos días \", estudiante.nombre, \"tienes un 1.0 en\", self.asignatura)\n",
    "    estudiante.PPA -= 1.0"
   ]
  },
  {
   "cell_type": "code",
   "execution_count": 26,
   "metadata": {
    "slideshow": {
     "slide_type": "slide"
    }
   },
   "outputs": [],
   "source": [
    "class Estudiante(Persona):\n",
    "  def __init__(self, nombre, edad, altura, clave, PPA, universidad):\n",
    "    super().__init__(nombre, edad, altura, clave)\n",
    "    self._PPA = PPA\n",
    "    self.universidad = universidad\n",
    "\n",
    "  @property\n",
    "  def PPA(self):\n",
    "    return self._PPA\n",
    "\n",
    "  @PPA.setter\n",
    "  def PPA(self, valor):\n",
    "    self._PPA = valor\n",
    "    if self._PPA <= 4.0:\n",
    "      self.universidad = None\n",
    "      print(\"Te vas de la U!! >:(\")\n",
    "  \n",
    "  def estudiar(self):\n",
    "    self.PPA += 0.5\n",
    "    print(\"Estoy aprendiendo, estoy aprendiendo! :D\") "
   ]
  },
  {
   "cell_type": "markdown",
   "metadata": {
    "id": "X-o9wCuJFweY",
    "slideshow": {
     "slide_type": "slide"
    }
   },
   "source": [
    "## Overriding\n",
    "\n",
    "Hacer overriding nos permite sobrescribir los métodos que necesitemos modificar. En Python, podemos volver a definir un método en una subclase, con el mismo nombre que tenía en la superclase."
   ]
  },
  {
   "cell_type": "markdown",
   "metadata": {
    "slideshow": {
     "slide_type": "slide"
    }
   },
   "source": [
    "Como todos sabemos, los profesores utilizan Facebook para compartir sus ecuaciones favoritas y no necesitan ingresar su clave secreta para ingresar a la web, por lo que hacemos overriding al método \"postear_en_facebook\" de la clase Persona."
   ]
  },
  {
   "cell_type": "code",
   "execution_count": 27,
   "metadata": {
    "id": "jIuiiTUAFwJL",
    "slideshow": {
     "slide_type": "slide"
    }
   },
   "outputs": [],
   "source": [
    "class Profesor(Persona):\n",
    "  def __init__(self, nombre, edad, altura, clave, asignatura):\n",
    "    super().__init__(nombre, edad, altura, clave)\n",
    "    self.asignatura = asignatura\n",
    "\n",
    "  def reprobar_estudiante(self, estudiante):\n",
    "    print(\"Buenos días \", estudiante.nombre, \"tienes un 1.0 en\", self.asignatura)\n",
    "    estudiante.PPA -= 1.0\n",
    "  \n",
    "  def postear_en_facebook(self):\n",
    "    print(\"Aquí una foto de mi científico favorito escribiendo su famosa ecuación :o\")\n"
   ]
  },
  {
   "cell_type": "code",
   "execution_count": 28,
   "metadata": {
    "colab": {
     "base_uri": "https://localhost:8080/"
    },
    "id": "tdrFm9QhHXaL",
    "outputId": "4c77364c-c800-4d05-d8ba-bf6232d345c5",
    "slideshow": {
     "slide_type": "slide"
    }
   },
   "outputs": [
    {
     "name": "stdout",
     "output_type": "stream",
     "text": [
      "4.1\n",
      "Estoy aprendiendo, estoy aprendiendo! :D\n",
      "4.6\n",
      "Buenos días  Ezequiel tienes un 1.0 en matemática\n",
      "Te vas de la U!! >:(\n",
      "3.5999999999999996\n",
      "Aquí una foto de mi científico favorito escribiendo su famosa ecuación :o\n"
     ]
    }
   ],
   "source": [
    "alumno = Estudiante(\"Ezequiel\", 28, 2.10, \"Ezequiellalleva1313B-|\", 4.1, \"MIT\")\n",
    "profe = Profesor(\"julioprofe\", 48, 1.70, \"lasmateslallevan3.14159265\", \"matemática\")\n",
    "\n",
    "print(alumno.PPA)\n",
    "\n",
    "alumno.estudiar()\n",
    "print(alumno.PPA)\n",
    "\n",
    "profe.reprobar_estudiante(alumno)\n",
    "print(alumno.PPA)\n",
    "\n",
    "profe.postear_en_facebook()"
   ]
  },
  {
   "cell_type": "markdown",
   "metadata": {
    "slideshow": {
     "slide_type": "slide"
    }
   },
   "source": [
    "## \\_str\\_ y \\_repr\\_ \n",
    "\n",
    "Utilizando la clase Estudiante, intentaremos imprimir el objeto alumno para ver que sale."
   ]
  },
  {
   "cell_type": "code",
   "execution_count": 29,
   "metadata": {
    "colab": {
     "base_uri": "https://localhost:8080/"
    },
    "id": "gyBo-VqGJHld",
    "outputId": "b27c35ac-0b5c-418d-d7b0-7258f61b7d38",
    "slideshow": {
     "slide_type": "fragment"
    }
   },
   "outputs": [
    {
     "name": "stdout",
     "output_type": "stream",
     "text": [
      "<__main__.Estudiante object at 0x000002B08ED19208>\n"
     ]
    }
   ],
   "source": [
    "print(alumno)"
   ]
  },
  {
   "cell_type": "markdown",
   "metadata": {
    "id": "J-Wv--3KJVZ_",
    "slideshow": {
     "slide_type": "slide"
    }
   },
   "source": [
    "Como podemos ver, en este caso el print no nos retorna un output legible, por lo que es necesario implementar los métodos \\__str\\__ y \\__repr\\__, los cuales entregan una representación en texto del objeto. \n",
    "\n",
    "**\\__str\\__**: busca devolver una representación legible del objeto (orientado a usuarios).\n",
    "\n",
    "**\\__repr\\__**: busca ofrecer una representación completa y sin ambigüedades (orientado a desarrolladores)."
   ]
  },
  {
   "cell_type": "code",
   "execution_count": 31,
   "metadata": {
    "id": "RzU7NgAkJijT",
    "slideshow": {
     "slide_type": "slide"
    }
   },
   "outputs": [],
   "source": [
    "class Persona:\n",
    "  def __init__(self, nombre, edad, altura, clave_de_facebook):\n",
    "    self.energia = 50\n",
    "    self.nombre = nombre\n",
    "    self.edad = edad\n",
    "    self.__clave_secreta = clave_de_facebook\n",
    "\n",
    "  def __repr__(self):\n",
    "    return f\"Persona con nombre {self.nombre}\"\n",
    "\n",
    "  def __str__(self):\n",
    "    return self.nombre\n"
   ]
  },
  {
   "cell_type": "code",
   "execution_count": 33,
   "metadata": {
    "colab": {
     "base_uri": "https://localhost:8080/"
    },
    "id": "c-PwUrsmKGZ2",
    "outputId": "4b47c4f5-9a43-4219-f3b7-2acbfca63236",
    "slideshow": {
     "slide_type": "slide"
    }
   },
   "outputs": [
    {
     "name": "stdout",
     "output_type": "stream",
     "text": [
      "Persona con nombre Naty Anglada\n",
      "Sawii\n"
     ]
    }
   ],
   "source": [
    "humana_1 = Persona(\"Naty Anglada\", 20, 1.59, \"OneDirection6969\")\n",
    "print(repr(humana_1)) ## este imprime el repr\n",
    "\n",
    "humano_2 = Persona(\"Sawii\", 21, 1.80, \"PowerRangerRojo6969\")\n",
    "print(str(humano_2)) ## este imprime el str"
   ]
  },
  {
   "cell_type": "markdown",
   "metadata": {
    "slideshow": {
     "slide_type": "slide"
    }
   },
   "source": [
    "Es importante recordar que, si se tienen definidos los dos métodos, al hacer print(objeto), el método _str_ tiene prioridad. Sin embargo, si solo se tiene definido el _repr_, al hacer print(objeto), se imprimirá lo definido en ese método. "
   ]
  },
  {
   "cell_type": "code",
   "execution_count": 34,
   "metadata": {
    "id": "w5YtVd--NXw9",
    "slideshow": {
     "slide_type": "slide"
    }
   },
   "outputs": [],
   "source": [
    "class Persona:\n",
    "  def __init__(self, nombre, edad, altura, clave_de_facebook):\n",
    "    self.energia = 50\n",
    "    self.nombre = nombre\n",
    "    self.edad = edad\n",
    "    self.__clave_secreta = clave_de_facebook\n",
    "\n",
    "  def __repr__(self):\n",
    "    return f\"Persona con nombre {self.nombre}\"\n",
    "\n",
    "  def __str__(self):\n",
    "    return self.nombre\n",
    "  "
   ]
  },
  {
   "cell_type": "code",
   "execution_count": 36,
   "metadata": {
    "colab": {
     "base_uri": "https://localhost:8080/"
    },
    "id": "4plpTWO8Nheg",
    "outputId": "faf1ac38-4902-40c1-af9a-4db854b6658a",
    "slideshow": {
     "slide_type": "slide"
    }
   },
   "outputs": [
    {
     "name": "stdout",
     "output_type": "stream",
     "text": [
      "Nacho Urrutia\n",
      "Persona con nombre Nacho Urrutia\n"
     ]
    }
   ],
   "source": [
    "humano = Persona(\"Nacho Urrutia\", 21, 1.84, \"ilovebarney:3\")\n",
    "print(humano)\n",
    "print(repr(humano))"
   ]
  }
 ],
 "metadata": {
  "celltoolbar": "Slideshow",
  "colab": {
   "collapsed_sections": [],
   "name": "oop1.ipynb",
   "provenance": []
  },
  "kernelspec": {
   "display_name": "Python 3",
   "language": "python",
   "name": "python3"
  },
  "language_info": {
   "codemirror_mode": {
    "name": "ipython",
    "version": 3
   },
   "file_extension": ".py",
   "mimetype": "text/x-python",
   "name": "python",
   "nbconvert_exporter": "python",
   "pygments_lexer": "ipython3",
   "version": "3.7.6"
  }
 },
 "nbformat": 4,
 "nbformat_minor": 1
}
