{
 "cells": [
  {
   "cell_type": "markdown",
   "metadata": {
    "collapsed": true,
    "pycharm": {
     "name": "#%% md\n"
    }
   },
   "source": [
    "# Ayudantía 6: Interfaces Gráficas 2\n",
    "### Autores:\n",
    " - Sofía Arratia Arriaza (@Sofia-Arratia)\n",
    " - Pablo Kipreos Palau (@Pablok98)\n",
    " - Vicente Saguez Laage (@Sawiiii)"
   ]
  },
  {
   "cell_type": "markdown",
   "metadata": {},
   "source": [
    "## Threading y PyQt 😱\n",
    "### Espera... **¿Otra vez threading?** Esto tiene que ser una broma.\n",
    "El uso de *threading* al programar interfaces gráficas es muy importante. Solo imagina un mundo donde tu navegador de internet pudiera solo manejar\n",
    "una ventana o proceso a la vez: abres una ventana nueva y las otras se congelan. ¿A nadie le gustaría eso, o sí?\n",
    "### **QThread** y **QTimer** al rescate\n",
    "PyQt trae su propia implementación de *threads*, por medio de la clase llamada ``QThread``. Te recomendamos fuertemente utilizarla siempre que necesites threading en PyQt, pues te ahorrarás muchos dolores de cabeza.\n",
    "Se usan de manera muy parecida a los *threads* que ya conoces y **amas**, además de tener nuevas funcionalidades :D\n",
    "\n",
    "Por otro lado, una herramienta **muy útil** de PyQt para simular concurrencia son los ``QTimer`` (en este caso, *no* es lo mismo que un *timer* normal de Python).\n",
    "Un ``Qtimer`` se ejecuta periódicamente, esperando un intervalo de tiempo definido entre ciclos. La forma en que se comportan los ``QTimer`` es ideal para cualquier funcionalidad que quieras que ocurra cada cierto tiempo, como veremos en el ejemplo de esta sección.\n",
    "\n",
    "#### Métodos notables de QThread\n",
    "\n",
    " - ``isRunning``: reemplaza el método ``is_alive`` de los *threads* de Python. Permite saber si un ``QThread`` está actualmente corriendo o no.\n",
    "\n",
    "#### Métodos notables de QTimer\n",
    " - ``start`` y ``stop``: permite iniciar y parar el *timer*, respectivamente.\n",
    " - ``setInterval(ms: int)``: define que el *time*r debe emitir la señal *timeout* cada ``ms`` milisegundos.\n",
    " - ``isActive``: permite saber si el *timer* está actualmente corriendo (análogo a ``isRunning`` e ``is_alive``).\n",
    " - ``timeout``: es la señal que llama el *timer* cuando termina el intervalo de tiempo. Puedes utilizar el método ``connect`` para conectarlo a alguna función.\n",
    " - ``setSingleShot(singleShoot: bool)``: permite definir si el *timer* es de tipo ``singleShoot`` (entregando como parámetro ``True``). Que un *timer* sea ``singleShoot`` significa que, al pasar el intervalo de tiempo,\n",
    " el timer se detendrá (es decir, no cicla indefinidamente).\n",
    "\n",
    "### La clave del éxito: ¡Señales!\n",
    "Hasta ahora, los ``QThreads`` (o *threads* en general) parecen algo que solo utilizarías si te lo piden explícitamente en la tarea... pero, en la práctica, es casi imposible implementar interfaces gráficas sin *threading*.\n",
    "\n",
    "Una de las cosas más útiles que podemos hacer con ``QThreads`` es enviar señales entre ventanas u objetos, sin que se congelen o dejen de hacer sus respectivas funcionalidaes. ¡Veamos un ejemplo!"
   ]
  },
  {
   "cell_type": "markdown",
   "source": [
    "#### Primero, intentemos hacer un *loop* dentro de una ventana"
   ],
   "metadata": {
    "collapsed": false,
    "pycharm": {
     "name": "#%% md\n"
    }
   }
  },
  {
   "cell_type": "code",
   "execution_count": 1,
   "outputs": [],
   "source": [
    "# Importacion de librerias para todas las celdas del ejemplo\n",
    "import sys\n",
    "from time import sleep\n",
    "from PyQt5.QtCore import pyqtSignal, QThread, QTimer\n",
    "from PyQt5.QtWidgets import QApplication, QWidget, QLabel, QVBoxLayout, QPushButton"
   ],
   "metadata": {
    "collapsed": false,
    "pycharm": {
     "name": "#%%\n"
    }
   }
  },
  {
   "cell_type": "code",
   "execution_count": 2,
   "outputs": [
    {
     "ename": "SystemExit",
     "evalue": "0",
     "output_type": "error",
     "traceback": [
      "An exception has occurred, use %tb to see the full traceback.\n",
      "\u001B[1;31mSystemExit\u001B[0m\u001B[1;31m:\u001B[0m 0\n"
     ]
    },
    {
     "name": "stderr",
     "output_type": "stream",
     "text": [
      "c:\\users\\pjkip\\appdata\\local\\programs\\python\\python37\\lib\\site-packages\\IPython\\core\\interactiveshell.py:3445: UserWarning: To exit: use 'exit', 'quit', or Ctrl-D.\n",
      "  warn(\"To exit: use 'exit', 'quit', or Ctrl-D.\", stacklevel=1)\n"
     ]
    }
   ],
   "source": [
    "class VentanaSinThread(QWidget):\n",
    "    actualizar_label_signal = pyqtSignal()\n",
    "\n",
    "    def __init__(self):\n",
    "        super().__init__()\n",
    "        # Creamos los botones y labels necesarios para el ejemplo.\n",
    "        self.label_numero = QLabel(\"0\", self)  # Muestra el numero que ira en aumento\n",
    "        self.boton_numero = QPushButton(\"0\", self)  # Muestra el numero que sube si lo apretamos\n",
    "        self.boton_loop = QPushButton(\"Iniciar Loop\", self)  # Inicia el loop\n",
    "        self.layout_principal = QVBoxLayout(self)  # Layout de la ventana principal\n",
    "\n",
    "        self.init_gui()\n",
    "\n",
    "    def init_gui(self):\n",
    "        # Ordenamos las Widgets\n",
    "        self.layout_principal.addWidget(self.label_numero)\n",
    "        self.layout_principal.addStretch()\n",
    "        self.layout_principal.addWidget(self.boton_numero)\n",
    "        self.layout_principal.addWidget(self.boton_loop)\n",
    "        # Conectamos las senales\n",
    "        self.boton_numero.clicked.connect(self.actualizar_boton)\n",
    "        self.boton_loop.clicked.connect(self.iniciar_loop)\n",
    "        self.actualizar_label_signal.connect(self.actualizar_label)\n",
    "\n",
    "        self.show()\n",
    "\n",
    "    def actualizar_label(self):\n",
    "        # Obtenemos el numero actual del label y lo aumentamos en 1\n",
    "        numero_actual = int(self.label_numero.text())\n",
    "        self.label_numero.setText(str(numero_actual + 1))\n",
    "\n",
    "    def actualizar_boton(self):\n",
    "        # Obtenemos el numero actual del boton y lo aumentamos en 1\n",
    "        numero_actual = int(self.boton_numero.text())\n",
    "        self.boton_numero.setText(str(numero_actual + 1))\n",
    "\n",
    "    def iniciar_loop(self):\n",
    "        # Emitimos la senal 10 veces, con 0.5 segundos de espera entre emisiones.\n",
    "        for _ in range(10):\n",
    "            self.actualizar_label_signal.emit()\n",
    "            sleep(0.5)\n",
    "\n",
    "if __name__ == '__main__':\n",
    "    app = QApplication([])\n",
    "    ventana = VentanaSinThread()\n",
    "    #ventana = VentanaConThread()\n",
    "    #ventana = VentanaConTimer()\n",
    "    sys.exit(app.exec_())"
   ],
   "metadata": {
    "collapsed": false,
    "pycharm": {
     "name": "#%%\n"
    }
   }
  },
  {
   "cell_type": "markdown",
   "source": [
    "#### ¿Qué pasó?\n",
    "La ventana, al intentar correr todo por medio del *thread* principal, no puede procesar eventos, como apretar un botón, mientras que está corriendo el *loop*.\n",
    "\n",
    "#### Veamos como solucionarlo utilizando QThread"
   ],
   "metadata": {
    "collapsed": false
   }
  },
  {
   "cell_type": "code",
   "execution_count": null,
   "outputs": [],
   "source": [
    "class ThreadBacan(QThread):\n",
    "    def __init__(self, actualizar_label_signal, *args, **kwargs):\n",
    "        # Entregar *args y **kwargs a la super clase es importante por si queremos dar algun parametro\n",
    "        # inicial de los que ya ofrece la clase QThread\n",
    "        super().__init__(*args, **kwargs)\n",
    "        # Le entregamos una senal que queremos que el Thread emita\n",
    "        self.actualizar_label_signal = actualizar_label_signal\n",
    "\n",
    "    def run(self):\n",
    "        for _ in range(10):\n",
    "            self.actualizar_label_signal.emit()\n",
    "            sleep(0.5)\n",
    "\n",
    "\n",
    "class VentanaConThread(QWidget):\n",
    "    actualizar_label_signal = pyqtSignal()\n",
    "\n",
    "    def __init__(self):\n",
    "        super().__init__()\n",
    "        self.label_numero = QLabel(\"0\", self)\n",
    "        self.boton_numero = QPushButton(\"0\", self)\n",
    "        self.boton_loop = QPushButton(\"Iniciar Loop\", self)\n",
    "\n",
    "        self.layout_principal = QVBoxLayout(self)\n",
    "\n",
    "        # Creamos nuestro thread y le entregamos la senal para actualizar el label\n",
    "        self.thread_bacan = ThreadBacan(self.actualizar_label_signal)\n",
    "\n",
    "        self.init_gui()\n",
    "\n",
    "    def init_gui(self):\n",
    "        self.layout_principal.addWidget(self.label_numero)\n",
    "        self.layout_principal.addStretch()\n",
    "        self.layout_principal.addWidget(self.boton_numero)\n",
    "        self.layout_principal.addWidget(self.boton_loop)\n",
    "\n",
    "        self.boton_numero.clicked.connect(self.actualizar_boton)\n",
    "        self.boton_loop.clicked.connect(self.iniciar_loop)\n",
    "        self.actualizar_label_signal.connect(self.actualizar_label)\n",
    "\n",
    "        self.show()\n",
    "\n",
    "    def actualizar_label(self):\n",
    "        numero_actual = int(self.label_numero.text())\n",
    "        self.label_numero.setText(str(numero_actual + 1))\n",
    "\n",
    "    def actualizar_boton(self):\n",
    "        numero_actual = int(self.boton_numero.text())\n",
    "        self.boton_numero.setText(str(numero_actual + 1))\n",
    "\n",
    "    def iniciar_loop(self):\n",
    "        self.thread_bacan.start()"
   ],
   "metadata": {
    "collapsed": false,
    "pycharm": {
     "name": "#%%\n"
    }
   }
  },
  {
   "cell_type": "markdown",
   "source": [
    "¡Threading puede ser muy útil!\n",
    "\n",
    "Sin embargo, podría parecer tedioso tener que implementar un *thread* personalizado para todo lo que implique tiempo.\n",
    "Es por esto que los ``QTimer`` pueden ser una herramienta muy poderosa, pues permite fácilmente enviar señales cada cierto tiempo (y nos ahorramos un poquito de código).\n",
    "\n",
    "#### Implementación con QTimer"
   ],
   "metadata": {
    "collapsed": false
   }
  },
  {
   "cell_type": "code",
   "execution_count": null,
   "outputs": [],
   "source": [
    "\"\"\"\n",
    "Tambien puedes heredar de QTimer para crear timers personalizados, igual que con QThreads.\n",
    "En la clase de interfaces graficas 2 hay un ejemplo, en esta ayudantia queremos mostrar\n",
    "su utilidad general.\n",
    "\"\"\"\n",
    "\n",
    "\n",
    "class VentanaConTimer(QWidget):\n",
    "    def __init__(self):\n",
    "        super().__init__()\n",
    "        self.label_numero = QLabel(\"0\", self)\n",
    "        self.boton_numero = QPushButton(\"0\", self)\n",
    "        self.boton_loop = QPushButton(\"Iniciar Loop\", self)\n",
    "\n",
    "        self.layout_principal = QVBoxLayout(self)\n",
    "        self.timer_epico = QTimer(self)\n",
    "\n",
    "        self.init_gui()\n",
    "\n",
    "    def init_gui(self):\n",
    "        self.layout_principal.addWidget(self.label_numero)\n",
    "        self.layout_principal.addStretch()\n",
    "        self.layout_principal.addWidget(self.boton_numero)\n",
    "        self.layout_principal.addWidget(self.boton_loop)\n",
    "\n",
    "        self.boton_numero.clicked.connect(self.actualizar_boton)\n",
    "        self.boton_loop.clicked.connect(self.iniciar_loop)\n",
    "        self.actualizar_label_signal.connect(self.actualizar_label)\n",
    "\n",
    "        self.show()\n",
    "\n",
    "    def actualizar_label(self):\n",
    "        numero_actual = int(self.label_numero.text())\n",
    "        self.label_numero.setText(str(numero_actual + 1))\n",
    "\n",
    "        # Podemos dejar una prueba para ver si paramos el timer.\n",
    "        # Idealmente, deberias implementar un timer personalizado que se preocupe de esto\n",
    "        if numero_actual == 10:\n",
    "            self.timer_epico.stop()\n",
    "\n",
    "    def actualizar_boton(self):\n",
    "        numero_actual = int(self.boton_numero.text())\n",
    "        self.boton_numero.setText(str(numero_actual + 1))\n",
    "\n",
    "    def iniciar_loop(self):\n",
    "        # Los timers emiten una senal cada vez que pasa una cantidad de tiempo especificada\n",
    "        # la cual puedes acceder para conectarla utilizando el atributo timeout.\n",
    "        self.timer_epico.timeout.connect(self.actualizar_label_signal)\n",
    "        # Ojo: el tiempo se especifica en milisegundos!\n",
    "        self.timer_epico.setInterval(1000)\n",
    "        self.timer.start()"
   ],
   "metadata": {
    "collapsed": false,
    "pycharm": {
     "name": "#%%\n"
    }
   }
  },
  {
   "cell_type": "markdown",
   "metadata": {},
   "source": [
    "## Main window 💻\n",
    "### Qué es una MainWindow, ¿se come?\n",
    "![imagen macewindu](imagenes/mace_windu_star_wars.jpg)\n",
    "\n",
    "Cuando hablamos de una ``MainWindow``, piensa simplemente en una *widget* especial, la cual trae un orden pre-definido y funcionalidades especiales.\n",
    "Esta ventana existe principalmente para facilitar la construcción de aplicaciones con un orden \"estándar\". Básicamente, te permite construir rápidamente aplicaciones que\n",
    "ordenan sus ventanas como el *IDE* que utilizas para el ramo.\n",
    "\n",
    "Una MainWindow se ordena de la siguiente manera:\n",
    "![imagen mainwindow](imagenes/mainwindowlayout.png)"
   ]
  },
  {
   "cell_type": "markdown",
   "metadata": {
    "pycharm": {
     "name": "#%% md\n"
    }
   },
   "source": [
    "## La salvación de muchos: Qt Designer 🎨🙌\n",
    "Qt Designer es una herramienta de diseño que permite crear Widgets visualmente 😎\n",
    "\n",
    "### ¿Cómo lo encuentro? ¿Cómo lo uso en mi programa? ¡Ayuda!\n",
    "Instalando designer:\n",
    "\n",
    "``pip install PyQt5-tools``\n",
    "\n",
    "``pip3 install PyQt5-tools``\n",
    "\n",
    "Encontrando designer:\n",
    "\n",
    "``C:\\Users\\[Tu usuario]\\AppData\\Local\\Programs\\Python\\Python[version]\\Lib\\site-packages\\pyqt5-tools\\designer``\n",
    "\n",
    "También puedes utilizar en consola el comando:\n",
    "\n",
    "``pyqt5-tools designer``\n",
    "![imagen designer](imagenes/qtdesigner-pyqt.png)"
   ]
  },
  {
   "cell_type": "markdown",
   "source": [
    "## Ejercicio propuesto: adoptar un gatito\n",
    "El ejercicio consta utilizar tanto QtDesigner como Python para implementar una ventana que te permita adoptar gatitos. El proceso\n",
    "que vamos a seguir es el siguiente:\n",
    "\n",
    " - Crearemos las ventanas utilizando Designer.\n",
    " - Conectaremos la señal de un botón utilizando Designer.\n",
    " - Importaremos el trabajo hasta este punto a Python.\n",
    " - Utilizaremos python para crear funcionalidades más complejas."
   ],
   "metadata": {
    "collapsed": false,
    "pycharm": {
     "name": "#%% md\n"
    }
   }
  }
 ],
 "metadata": {
  "kernelspec": {
   "display_name": "Python 3",
   "language": "python",
   "name": "python3"
  },
  "language_info": {
   "codemirror_mode": {
    "name": "ipython",
    "version": 3
   },
   "file_extension": ".py",
   "mimetype": "text/x-python",
   "name": "python",
   "nbconvert_exporter": "python",
   "pygments_lexer": "ipython3",
   "version": "3.7.9"
  }
 },
 "nbformat": 4,
 "nbformat_minor": 1
}