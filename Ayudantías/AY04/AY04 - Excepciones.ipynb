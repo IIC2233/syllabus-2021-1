{
 "cells": [
  {
   "cell_type": "markdown",
   "metadata": {
    "slideshow": {
     "slide_type": "slide"
    }
   },
   "source": [
    "# Ayudantía 04: Excepciones\n",
    "\n",
    "\n",
    "## Autores: [@camilagonzalezp](https://github.com/camilagonzalezp) & [@csantiagopaz](https://github.com/csantiagopaz)"
   ]
  },
  {
   "cell_type": "markdown",
   "metadata": {
    "slideshow": {
     "slide_type": "fragment"
    }
   },
   "source": [
    "## ¿Qué son las excepciones?\n",
    "Las **excepciones** son condiciones anómalas o inesperadas que ocurren durante un proceso de cómputo.\n",
    "\n",
    "## ¿Cuándo se generan las excepciones?\n",
    "Los sistemas computacionales suelen generar **excepciones** cuando ocurre una condición que altera el flujo normal o esperado de un programa. En Python, las excepciones se representan como objetos de la clase `Exception`, los que se crean al detectarse la excepción.\n",
    "\n",
    "## Tipos de excepciones más comunes\n",
    "Todas las excepciones generadas por errores durante la ejecución de un programa son subclases de la clase `Exception`, entre las que se encuentran:"
   ]
  },
  {
   "cell_type": "markdown",
   "metadata": {},
   "source": [
    "### `SyntaxError`\n",
    "Se genera cuando la escritura de una sentencia del código viola las reglas sintácticas."
   ]
  },
  {
   "cell_type": "code",
   "execution_count": null,
   "metadata": {
    "slideshow": {
     "slide_type": "fragment"
    }
   },
   "outputs": [],
   "source": [
    "iff True:\n",
    "    print(\"Hello World\")"
   ]
  },
  {
   "cell_type": "markdown",
   "metadata": {
    "slideshow": {
     "slide_type": "subslide"
    }
   },
   "source": [
    "### `NameError`\n",
    "Se genera cuando se intenta utilizar una variable, función o clase con algún nombre que es desconocido para el programa."
   ]
  },
  {
   "cell_type": "code",
   "execution_count": null,
   "metadata": {
    "slideshow": {
     "slide_type": "fragment"
    }
   },
   "outputs": [],
   "source": [
    "variable = mi_funcion(1)\n",
    "variable"
   ]
  },
  {
   "cell_type": "markdown",
   "metadata": {
    "slideshow": {
     "slide_type": "subslide"
    }
   },
   "source": [
    "### `IndexError`\n",
    "Se genera cuando existe una indexación fuera de rango, es decir, un cuando se intenta acceder a un índice no válido."
   ]
  },
  {
   "cell_type": "code",
   "execution_count": null,
   "metadata": {
    "slideshow": {
     "slide_type": "fragment"
    }
   },
   "outputs": [],
   "source": [
    "mi_lista = [\"a\", \"b\", \"c\"]\n",
    "mi_lista[3]"
   ]
  },
  {
   "cell_type": "markdown",
   "metadata": {
    "slideshow": {
     "slide_type": "subslide"
    }
   },
   "source": [
    "### `KeyError`\n",
    "Se genera cuando se hace uso incorrecto o inválido de llaves (keys) en diccionarios."
   ]
  },
  {
   "cell_type": "code",
   "execution_count": null,
   "metadata": {
    "slideshow": {
     "slide_type": "fragment"
    }
   },
   "outputs": [],
   "source": [
    "estudiante = {\"nombre\": \"Juanito Pérez\", \"edad\": 20, \"carrera\": \"Ingeniería\"}\n",
    "estudiante[\"numero_alumno\"]"
   ]
  },
  {
   "cell_type": "markdown",
   "metadata": {
    "slideshow": {
     "slide_type": "subslide"
    }
   },
   "source": [
    "### `AttributeError`\n",
    "Se genera cuando se hace uso incorrecto de métodos o atributos de una clase."
   ]
  },
  {
   "cell_type": "code",
   "execution_count": null,
   "metadata": {
    "slideshow": {
     "slide_type": "fragment"
    }
   },
   "outputs": [],
   "source": [
    "class Mascota:\n",
    "    def __init__(self, nombre, animal):\n",
    "        self.nombre = nombre\n",
    "        self.animal = animal\n",
    "\n",
    "    def alimentar(self):\n",
    "        print(f\"Alimentando a {self.nombre}\")\n",
    "\n",
    "mi_perrito = Mascota(\"Cachupín\", \"perro\")\n",
    "mi_perrito.pasear()"
   ]
  },
  {
   "cell_type": "markdown",
   "metadata": {
    "slideshow": {
     "slide_type": "subslide"
    }
   },
   "source": [
    "### `TypeError`\n",
    "Se genera cuando se intenta ejecutar una operación o función con un argumento que no pertenece al **tipo** correcto de datos."
   ]
  },
  {
   "cell_type": "code",
   "execution_count": null,
   "metadata": {
    "slideshow": {
     "slide_type": "fragment"
    }
   },
   "outputs": [],
   "source": [
    "print(len(28))"
   ]
  },
  {
   "cell_type": "markdown",
   "metadata": {
    "slideshow": {
     "slide_type": "subslide"
    }
   },
   "source": [
    "### `ValueError`\n",
    "Se genera cuando se intenta ejecutar una operación o función con un argumento cuyo **valor** no era apropiado para la ejecución esperada."
   ]
  },
  {
   "cell_type": "code",
   "execution_count": null,
   "metadata": {
    "slideshow": {
     "slide_type": "fragment"
    }
   },
   "outputs": [],
   "source": [
    "print(int(\"uno\"))"
   ]
  },
  {
   "cell_type": "markdown",
   "metadata": {
    "slideshow": {
     "slide_type": "slide"
    }
   },
   "source": [
    "## Levantando excepciones: `raise`\n",
    "\n",
    " La gracia de `raise` es que podemos usarlo cuando queremos levantar una excepción que no necesariamente sería levantada."
   ]
  },
  {
   "cell_type": "code",
   "execution_count": null,
   "metadata": {
    "slideshow": {
     "slide_type": "slide"
    }
   },
   "outputs": [],
   "source": [
    "print('Por favor ingresa tu rut/run en el formato : xx.xxx.xxx-y')\n",
    "\n",
    "RUN = input()"
   ]
  },
  {
   "cell_type": "code",
   "execution_count": null,
   "metadata": {
    "slideshow": {
     "slide_type": "fragment"
    }
   },
   "outputs": [],
   "source": [
    "if \".\" not in RUN:\n",
    "        raise ValueError('Formato incorrecto, por favor separar por puntos')\n",
    "\n",
    "if \"-\" not in RUN:\n",
    "        raise ValueError('Formato incorrecto, por favor separar el último dígito por guión')"
   ]
  },
  {
   "cell_type": "markdown",
   "metadata": {
    "slideshow": {
     "slide_type": "fragment"
    }
   },
   "source": [
    "## Manejo de excepciones: `try` y `except`\n",
    "\n",
    "Aquí como el nombre sugiere, `try` es literalmente la traducción al español, vas intentar a correr el código que sigue en la indentación, mientras que el except es para atrapar los errores que puedan surgir en el bloque `try`, y para quedar más claro, aquí va un ejemplo."
   ]
  },
  {
   "cell_type": "code",
   "execution_count": null,
   "metadata": {
    "slideshow": {
     "slide_type": "slide"
    }
   },
   "outputs": [],
   "source": [
    "rut = '123456789'\n",
    "\n",
    "def validar_rut(rut):\n",
    "    if \".\" not in rut:\n",
    "        raise ValueError('Formato incorrecto, por favor separar por puntos', 0)\n",
    "    elif \"-\" not in rut:\n",
    "        raise ValueError('Formato incorrecto, por favor separar el último dígito por guión', 1)\n",
    "\n",
    "try:\n",
    "    validar_rut(rut)\n",
    "except (ValueError) as error: \n",
    "    if 'puntos' in error.args[0]:\n",
    "        rut = rut[0:2] + '.' + rut[2:5] + '.' + rut[5:9] + rut[9:]\n",
    "    elif 'guion' in error.args[0]:\n",
    "        rut = rut[0:9] + '-' + rut[9:]\n",
    "    print(rut)"
   ]
  },
  {
   "cell_type": "markdown",
   "metadata": {},
   "source": [
    "## Flujos complementarios: `else` y `finally`\n",
    "\n",
    "Los bloques `try` y `except` pueden ser complementados **opcionalmente** con estas sentencias:\n",
    "- `else`: Las instrucciones dentro de este bloque se ejecutarán siempre y cuando **NO** se haya lanzado ninguna excepción.\n",
    "- `finally`: En este bloque van instrucciones que se realizarán **SIEMPRE**, independientemente de si ocurrió una excepción o no."
   ]
  },
  {
   "cell_type": "code",
   "execution_count": null,
   "metadata": {
    "slideshow": {
     "slide_type": "slide"
    }
   },
   "outputs": [],
   "source": [
    "rut = '11111111-1'\n",
    "\n",
    "def validar_rut(rut):\n",
    "    if \".\" not in rut:\n",
    "        raise ValueError('Formato incorrecto, por favor separar por puntos', 0)\n",
    "    elif \"-\" not in rut:\n",
    "        raise ValueError('Formato incorrecto, por favor no separar el último dígito por guión', 1)\n",
    "\n",
    "try:\n",
    "    validar_rut(rut)\n",
    "except (ValueError) as error: # NO usar except EXCEPTION as error.\n",
    "    if 'puntos' in error.args[0]:\n",
    "        rut = rut[0:2] + '.' + rut[2:5] + '.' + rut[5:9] + rut[9:]\n",
    "    elif 'guion' in error.args[0]:\n",
    "        rut = rut[0:9] + '-' + rut[9:]\n",
    "    print(rut)\n",
    "else:\n",
    "        print('Su rut esta correcto =D \\nProcederemos con el próximo paso')\n",
    "finally:\n",
    "        print('Rut registrado con éxito')\n",
    "        validar_rut(rut)"
   ]
  },
  {
   "cell_type": "markdown",
   "metadata": {
    "slideshow": {
     "slide_type": "skip"
    }
   },
   "source": [
    "## ¡Ejercicio!\n",
    "\n",
    "Contexto Blockbuster, volvimos a 2004, no habia pandemia, las clases eran presenciales, nuestra unicas preocupaciones eran elegir una buena pelicula/serie en la locadora (eso espero jeje),\n",
    "Opcion2: Al tratar de hacer git push tu compo empeza a hacer un ruido raro, todo se queda azul, no entiende lo que esta pasando, derrepiente tu aparece en 2004, con todos sus conocimientos de programacion decide ayudar su papa que es dueno de una DCCBuster, para eso tu decide arreglar su base de datos y ordenadar los dvd por tipos y *\n",
    "Opcion3: si tiene alguna idea mejor ponga aca <3 :\n",
    "\n",
    "Se entrega la base de datos \"series.csv\" que contiene la información de distintos dvds, en donde cada línea corresponde a un dvd de la forma: \"nombre, id, tipo, año de estreno\". Lamentablemente, esta base de datos ha sido alterada, por lo que existen errores en los datos, que pueden incluir que el id del dvd no sea el que corresponde, que el año de estreno no sea un int, o que hayan dvds extra que no pertenecen a esta base de datos. Es por esto que deben levantar y manejar correctamente estos errores para luego corregirlos y así arreglar la base de datos de DCCPelículas. Además, para lograr arreglar el primer error, se entrega la base de datos \"series_relacion.csv\" que contiene el nombre de cada dvd con su respectivo id. Es importante destacar que cada dvd presenta como máximo uno de los errores mencionados anteriormente, no más.\n",
    "\n",
    "\n",
    "<img src=\"DCC.png\">"
   ]
  },
  {
   "cell_type": "code",
   "execution_count": null,
   "metadata": {
    "scrolled": true,
    "slideshow": {
     "slide_type": "skip"
    }
   },
   "outputs": [],
   "source": [
    "# No modificar\n",
    "def dict_verificacion(ruta_archivo):\n",
    "\n",
    "    with open(ruta_archivo, 'r', encoding='UTF-8') as archivo:\n",
    "\n",
    "        dict_verificacion_dvd = dict()\n",
    "\n",
    "        for line in archivo:\n",
    "            nombre, id_dvd, estreno = line.strip().split(',')\n",
    "            dict_verificacion_dvd[nombre] = {'id': id_dvd, 'estreno':estreno}\n",
    "\n",
    "    return dict_verificacion_dvd\n",
    "\n",
    "dict_verificacion_dvd = dict_verificacion('series_relacion.csv')\n"
   ]
  },
  {
   "cell_type": "markdown",
   "metadata": {},
   "source": [
    "Se debe completar la función `leer_archivos`, la cual recorrerá las lineas del archivo dado y agregará al diccionario `diccionario_dvd` la información de los distintos títulos. Hay que tener cuidado con el formato de los datos, ya que por ejemplo el año puede no ser un entero, en cuyo caso debe manejarse."
   ]
  },
  {
   "cell_type": "code",
   "execution_count": null,
   "metadata": {
    "slideshow": {
     "slide_type": "skip"
    }
   },
   "outputs": [],
   "source": [
    "def leer_archivos(ruta_archivo):\n",
    "\n",
    "    diccionario_dvd = {}\n",
    "\n",
    "    with open(ruta_archivo, 'r', encoding='UTF-8') as file:\n",
    "\n",
    "        for line in file:\n",
    "            print(line)\n",
    "            nombre_dvd, id_dvd, tipo_dvd, estreno_dvd = line.strip().split(\",\")\n",
    "            # id un str\n",
    "            # tipo sería película, serie, etc.\n",
    "            # estreno un int (el año)\n",
    "            \n",
    "            # COMPLETAR\n",
    "\n",
    "    return diccionario_dvd\n",
    "    \n",
    "diccionario_dvd = leer_archivos('series.csv')\n"
   ]
  },
  {
   "cell_type": "markdown",
   "metadata": {},
   "source": [
    "Ahora se debe completar la función `verificar_datos`, donde deben revisar que los datos estén ingresados correctamente y cumplan los formatos indicados. En caso de que esto no ocurra, se debe lanzar una excepción indicando la falla. Ojo que cada caso debe lanzar un tipo de excepción distinta, ya que los errores generados son de distinta índole."
   ]
  },
  {
   "cell_type": "code",
   "execution_count": null,
   "metadata": {
    "slideshow": {
     "slide_type": "skip"
    }
   },
   "outputs": [],
   "source": [
    "def verificar_datos(dvd, diccionario_dvd, dict_verificacion_dvd):\n",
    "    # En algunos casos el id no es el correcto respecto a dict_verificacion_dvd.\n",
    "    # En algunos casos el año no se encuentra en el formato correcto, int.\n",
    "    # En algunos casos hay dvds extra que no deberían estar en la base de datos.\n",
    "    # COMPLETAR\n",
    "    pass"
   ]
  },
  {
   "cell_type": "markdown",
   "metadata": {},
   "source": [
    "Por ultimo, en la función `verificar_dvds` se debe verificar los datos de cada dvd y capturar las distintas excepciones cuando sea necesario."
   ]
  },
  {
   "cell_type": "code",
   "execution_count": null,
   "metadata": {
    "slideshow": {
     "slide_type": "skip"
    }
   },
   "outputs": [],
   "source": [
    "def verificar_dvds(diccionario_dvd, dict_verificacion_dvd):\n",
    "\n",
    "    # Como estamos interando sobre un diccionario y queremos eliminar algunos elementos, hacemos una copia.\n",
    "    diccionario_dvd_actualizado = diccionario_dvd.copy()\n",
    "\n",
    "    for dvd in diccionario_dvd:\n",
    "        # COMPLETAR\n",
    "        pass\n",
    "    return diccionario_dvd_actualizado\n",
    "verificar_dvds(diccionario_dvd, dict_verificacion_dvd)"
   ]
  }
 ],
 "metadata": {
  "celltoolbar": "Slideshow",
  "kernelspec": {
   "display_name": "Python 3",
   "language": "python",
   "name": "python3"
  },
  "language_info": {
   "codemirror_mode": {
    "name": "ipython",
    "version": 3
   },
   "file_extension": ".py",
   "mimetype": "text/x-python",
   "name": "python",
   "nbconvert_exporter": "python",
   "pygments_lexer": "ipython3",
   "version": "3.7.4"
  },
  "metadata": {
   "interpreter": {
    "hash": "aee8b7b246df8f9039afb4144a1f6fd8d2ca17a180786b69acc140d282b71a49"
   }
  }
 },
 "nbformat": 4,
 "nbformat_minor": 2
}
