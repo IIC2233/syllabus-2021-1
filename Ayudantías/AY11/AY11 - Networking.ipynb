{
 "cells": [
  {
   "cell_type": "markdown",
   "metadata": {
    "collapsed": true,
    "pycharm": {
     "name": "#%% md\n"
    }
   },
   "source": [
    "# Ayudantía 11: Networking 🌐\n",
    "### Autores:\n",
    " - Tom Bañados Russell (@tqmbanados)\n",
    " - Camila González Piñones (@camilagonzalezp)\n",
    " - Pablo Kipreos Palau (@Pablok98)"
   ]
  },
  {
   "cell_type": "markdown",
   "metadata": {
    "pycharm": {
     "name": "#%% md\n"
    }
   },
   "source": [
    "## Nociones generales"
   ]
  },
  {
   "cell_type": "markdown",
   "metadata": {},
   "source": [
    "## Sockets\n",
    "En Python, utilizamos la librería `socket` para programar con Networking. De acá obtenemos el objeto `socket`, que es el que utilizamos para la comunicación por internet, dado que permite enviar y recibir datos entre programas.\n",
    "- **Ip y puerto**: la dirección de **ip** es la dirección de tu computador, única para él dentro de la red. Es como la dirección de una casa, podemos usarla para llegar a ella. El **puerto** es como la \"puerta\" por donde se establece la conexión. Un dispotivo tiene una dirección de ip, pero muchos puertos.\n",
    "\n",
    "### ¿Cómo se usan sockets?\n",
    "\n",
    "#### **Cliente**"
   ]
  },
  {
   "cell_type": "code",
   "execution_count": null,
   "metadata": {
    "pycharm": {
     "name": "#%%\n"
    }
   },
   "outputs": [],
   "source": [
    "import socket\n",
    "\n",
    "# sock será nuestro socket instancia de la clase socket. Este usará dirección IPv4 y protocolo TCP.\n",
    "sock = socket.socket(socket.AF_INET, socket.SOCK_STREAM)\n",
    "\n",
    "# Obtenemos la dirección IP del computador y definimos un puerto de forma arbitraria.\n",
    "# En este ejemplo, el socket servidor estará en el mismo computador, por eso obtenemos la dirección de esta forma.\n",
    "# si el servidor está en otro computador, tendríamos que poner su IP correspondiente.\n",
    "HOST = socket.gethostname()\n",
    "PORT = 5000\n",
    "\n",
    "# Ahora intentamos conectarnos a nuestro servidor\n",
    "# Utilizamos un try porque cuando no se logra la conexión, se levanta una excepción.\n",
    "try:\n",
    "    # Con connect intentamos establecer la conexión con otro socket que esté escuchando la dirección y puerto dado.\n",
    "    sock.connect((HOST, PORT))  # OJO: se tiene que entregar una tupla con los parámetros!\n",
    "\n",
    "    sock.send('Mensaje bien bacan'.encode())\n",
    "    # Alternativamente:\n",
    "    # sock.send(b'Mensaje bien bacan')\n",
    "    # en general es bueno hacer un protocolo personalizado de comunicación\n",
    "\n",
    "except ConnectionError as error:\n",
    "    # Cuando entramos acá, es porque no había un socket escuchando en la dirección dada, o se desconectó en el proceso.\n",
    "    print('La conexión falló :O')\n",
    "    print(error)\n",
    "finally:\n",
    "    # Dejamos un finally para cerrar el socket, haya error o no. Esto siempre es deseable, como cerrar un archivo!\n",
    "    sock.close()"
   ]
  },
  {
   "cell_type": "markdown",
   "metadata": {
    "pycharm": {
     "name": "#%% md\n"
    }
   },
   "source": [
    "#### **Servidor**"
   ]
  },
  {
   "cell_type": "code",
   "execution_count": null,
   "metadata": {
    "pycharm": {
     "name": "#%%\n"
    }
   },
   "outputs": [],
   "source": [
    "import socket\n",
    "# sock será nuestro socket instanciado. Usará dirección de tipo ipv4 y será TCP\n",
    "sock = socket.socket(socket.AF_INET, socket.SOCK_STREAM)\n",
    "# Obtenemos la dirección de ip del computador y definimos un puerto de forma arbitraria.\n",
    "HOST = socket.gethostname()\n",
    "PORT = 5000\n",
    "\n",
    "# Utilizamos bind para determinar la dirección y puerto que el socket estará escuchando\n",
    "sock.bind((HOST, PORT))  # OJO: se tiene que entregar una tupla con los parámetros!\n",
    "# Ahora si, le decimos al socket que empieze a escuchar conexiones entrantes\n",
    "sock.listen()\n",
    "\n",
    "# Como queremos que el servidor esté constantemente aceptando clientes, utilizamos un loop infinito.\n",
    "# La forma exacta de como manejar esto se ve en los siguientes ejemplos.\n",
    "while True:\n",
    "    # Aceptamos la dirección entrante, el loop quedará pegado en esta línea hasta que haya una conexión para aceptar\n",
    "    socket_client, direccion = sock.accept()  # Mira bien que devuelve el metodo accept!\n",
    "    # Cuando se acepta la conexión, tenemos una referencia al socket del cliente (para enviarle mensajes y recibirlos)\n",
    "    # además de su dirección ip!\n",
    "    print(\"Conexión aceptada desde\", direccion)\n",
    "    # Imprimimos el mensaje que nos envía el cliente, antes de pasar a escuchar nuevas conexiones\n",
    "    print(socket_client.recv(2**12))  # Para recibir el mensaje, usamos la referencia al socket del cliente"
   ]
  },
  {
   "cell_type": "markdown",
   "metadata": {
    "pycharm": {
     "name": "#%% md\n"
    }
   },
   "source": [
    "### Métodos notables\n",
    "\n",
    "- **`send(data)`**: recibe datos que se quieren enviar a través del `socket`, en forma de `bytes`.\n",
    "- **`sendall(data)`**: funciona prácticamente igual que `send` pero siempre va a intentar enviar todos los bytes. En general, es recomendable utilizar este método en este curso.\n",
    "- **`recv(tamaño)`**: este método permite recibir los `bytes` que hayan sido enviados por el otro lado de la conexión (es decir, si un `socket` utiliza `send`, el otro `socket` puede recibir los `bytes` utilizando `recv`). El parámetro `tamaño` es un número (`int`) correspondiente a la cantidad de `bytes` que se quiere recibir.\n",
    "- **`close()`**: cierra la conexión del `socket`. Esto permite al `socket` realizar una nueva conexión.\n",
    "\n",
    "#### Para un `socket` con rol de cliente\n",
    "- **`connect( (ip, puerto) )`**: recibe una `tupla` con la **dirección de ip** y el **puerto** al cual se quiere conectar el `socket` (ambos de tipo `string`)\n",
    "\n",
    "\n",
    "#### Para un `socket` con rol de servidor\n",
    "\n",
    "- **`bind( (ip, puerto) )`**: recibe una `tupla` con la **dirección de ip** y el **puerto** al cual se quiere que el `socket` (servidor) escuche conexiones.\n",
    "- **`listen()`**: le indica al servidor que parta recibiendo conexiones.\n",
    "- **`accept()`**: le indica al servidor que acepte una conexión entrante. El `thread` que está el servidor quedará pausado hasta que algún cliente se intente conectar, aceptando su conexión cuando esto ocurra y siguiendo. Cabe destacar que este método devuelve una referencia al `socket` conectado con el servidor y su dirección de ip.\n",
    "\n",
    "*PD: las separaciones por \"rol\" son solo según su uso general, no es que estos métodos sean exclusivos para ese rol.*\n",
    "\n",
    "#### Para un socket UDP\n",
    "- **`sendto(data) y recvfrom(tamaño)`**: equivalentes a los métodos `send` y `recv` respectivamente.\n",
    "\n",
    "#### Una ayudita mas...\n",
    "**`socket.gethostname()`** permite obtener la dirección de ip del computador donde se llama este método."
   ]
  },
  {
   "cell_type": "markdown",
   "metadata": {},
   "source": [
    "## Serialización: Pickle y JSON\n",
    "\n",
    "- **Pickle**: exclusivo para *Python*, puede serializar cualquier objeto.\n",
    "- **JSON**: protocolo estándar para muchos lenguajes, solo puede serializar ciertos tipos de datos. Se estructura de una forma equivalente al diccionario de python.\n",
    "\n",
    "Estas librerías convierten datos en `bytes`, y ¿sabes que podemos hacer con los `bytes`? ¡Enviarlos por un `socket`!\n",
    "\n",
    "### Métodos notables\n",
    "\n",
    "- **`dumps(data)`:** recibe el parámetro `data` que corresponde a algún tipo de datos. Devuelve los datos serializados.\n",
    " - **`dump(data, ubicación)`:** equivale al método `dumps`, con la diferencia que crea un archivo serializado en la `ubicación` indicada.\n",
    "- **`loads(data)`:** recibe el parámetro `data` que corresponde a `bytes` encriptados con `JSON/PICKLE` y devuelve el objeto desencriptado.\n",
    " - **`load(ubicacion)`:** equivale al método `loads`, pero recibe la ubicación de un archivo serializado con `dump`.\n",
    "\n",
    "### Como serializar easy peazy:"
   ]
  },
  {
   "cell_type": "code",
   "execution_count": 1,
   "metadata": {
    "pycharm": {
     "name": "#%%\n"
    }
   },
   "outputs": [
    {
     "name": "stdout",
     "output_type": "stream",
     "text": [
      "{'ayudante_1': 'Camila', 2: 'Thom', '3': True, 'cuatro': [1, 2, 3, 4]}\n",
      "{'ayudante_1': 'Camila', '2': 'Thom', '3': True, 'cuatro': [1, 2, 3, 4]}\n",
      "Objeto:  <__main__.ObjetoPython object at 0x0000018A417E8F48>\n",
      "Bytes de la serialización:  b'\\x80\\x03c__main__\\nObjetoPython\\nq\\x00)\\x81q\\x01}q\\x02X\\x06\\x00\\x00\\x00nombreq\\x03X\\t\\x00\\x00\\x00Zanahoriaq\\x04sb.'\n",
      "Objeto:  <__main__.ObjetoPython object at 0x0000018A417C1708>\n",
      "Hola soy: Zanahoria\n"
     ]
    }
   ],
   "source": [
    "import pickle\n",
    "import json\n",
    "\n",
    "# Creamos un objeto de python (una clase).\n",
    "class ObjetoPython:\n",
    "    def __init__(self, nombre):\n",
    "        self.nombre = nombre\n",
    "\n",
    "    def saludar(self):\n",
    "        print(f\"Hola soy: {self.nombre}\")\n",
    "\n",
    "# Creamos un diccionario utilizando tipos genéricos de python\n",
    "objeto_generico = {\n",
    "    'ayudante_1': 'Camila',\n",
    "    2: 'Thom',\n",
    "    \"3\": True,\n",
    "    \"cuatro\": [1, 2, 3, 4]\n",
    "}\n",
    "objeto_python = ObjetoPython(\"Zanahoria\")\n",
    "\n",
    "# Hora de serializar!\n",
    "serializacion_pickle = pickle.dumps(objeto_generico)\n",
    "serializacion_json = json.dumps(objeto_generico)\n",
    "\n",
    "print(pickle.loads(serializacion_pickle))\n",
    "print(json.loads(serializacion_json))\n",
    "\n",
    "# No podemos mezclar serializaciones :O\n",
    "# print(json.load(serializacion_pickle))\n",
    "print('Objeto: ', objeto_python)\n",
    "serializacion_objeto = pickle.dumps(objeto_python)\n",
    "print('Bytes de la serialización: ', serializacion_objeto)\n",
    "objeto_deserializado = pickle.loads(serializacion_objeto)\n",
    "print('Objeto: ', objeto_deserializado)\n",
    "objeto_deserializado.saludar()\n",
    "\n",
    "# Ahora veamos que pasa si intentamos serializar un objeto de python con JSON\n",
    "# serializacion_objeto = json.dumps(objeto_python)"
   ]
  },
  {
   "cell_type": "markdown",
   "metadata": {},
   "source": [
    "## Enviando información: protocolos y *chunks*\n",
    "\n",
    "\n",
    "En la comuniación entre sockets hay una alta probabilidad de que ocurran errores en el traspaso de información. Para evitar estos errores en lo posible, usamos los llamados **protocolos de comunicación**, y el envío de datos por **_chunks_**. Usando estas herramientas, lograremos una comunicación robusta. \n",
    "\n",
    "#### Protocolo\n",
    "El protocolo de comunicación son las \"reglas\" sobre el envío de información que se acuerdan entre el *server* y *client*. Este protocolo puede incluir muchas cosas que detallaremos pronto. \n",
    "Lo esencial es que el protocolo sea claro y efectivo para transmitir con claridad cada mensaje."
   ]
  },
  {
   "cell_type": "markdown",
   "metadata": {},
   "source": [
    "#### Header\n",
    "Es normal que cada archivo o mensaje parta con un *header* que contiene información sobre su formato, tamaño, y otras cosas importantes para decodificar el archivo o mensaje. "
   ]
  },
  {
   "cell_type": "code",
   "execution_count": null,
   "metadata": {},
   "outputs": [],
   "source": [
    "mensaje = \"¡Hay zombies afuera de mi casa!\"\n",
    "tema1 = \"Estoy jugando Minecraft\"\n",
    "tema2 = \"Estoy mirando por la ventana\""
   ]
  },
  {
   "cell_type": "markdown",
   "metadata": {},
   "source": [
    "Lo anterior es un ejemplo de conversaciones entre seres humanos. Vemos que el significado del mensaje cambia drásticamente según el tema de conversación, o análogamente, el *header*. En computadores es algo distinta la comunicación, dado que debemos primero establecer en el protocolo muchas cosas como el **tamaño** del *header* y su **formato**. Como ya dijimos, este protocolo debe ser consistente, o tendremos más errores de comunicación."
   ]
  },
  {
   "cell_type": "markdown",
   "metadata": {},
   "source": [
    "#### *Chunks*\n",
    "\n",
    "Para hacer la comunicación aún más robusta, enviaremos los mensajes en pedazos digeribles y concisos. \n",
    "*Para consideración:*\n",
    "* Un audio de whatsapp de 3 segundos tiene en promedio alredeor de 6000 bytes.\n",
    "* Una foto de perfil en telegram puede tener hasta 60.000 bytes.\n",
    "* Este archivo jupyter tiene más de 15.000 bytes. \n",
    "\n",
    "Para poder enviar la información de manera controlada y precisa, separamos el archivo en *chunks* de un tamaño **consistente**. **Este tamaño es definido en el protocolo de comunicación.** El *header* debería incluir cuántos *chunks* tiene el mensaje, para así  saber cuando detener la lectura y comenzar a interpretar el mensaje. "
   ]
  },
  {
   "cell_type": "markdown",
   "metadata": {},
   "source": [
    "Los mensajes del siguiente ejemplo serán cortos, por lo que usaremos chunks bastante pequeños. Definiremos el siguiente protocolo:\n",
    "* El tamaño de los *chunks* será de 5 bytes. \n",
    "* Cada mensaje comienza con un *header* de 4 bytes.\n",
    "* Este header contiene la cantidad de chunks del mensaje codificada en *big endian*.\n",
    "* Todos los chunks deben tener el mismo tamaño. Para esto, se rellena con 0s el final del mensaje hasta que el último chunk tenga el tamaño correcto.\n",
    "* Codificamos nuestros strings en utf-8."
   ]
  },
  {
   "cell_type": "code",
   "execution_count": 1,
   "metadata": {},
   "outputs": [],
   "source": [
    "CHUNK_SIZE = 5\n",
    "\n",
    "mensaje = \"Hola soy un mensaje! Porfavor recíbeme correctamente uwu. En caso de que ocurra un error explotaré!\"\n",
    "bytes_mensaje = mensaje.encode(encoding='UTF-8')\n",
    "# Cada chunk debe tener el mismo tamaño!\n",
    "while len(bytes_mensaje) % CHUNK_SIZE != 0:\n",
    "    bytes_mensaje += b'\\x00'\n",
    "n_chunks = len(bytes_mensaje) // CHUNK_SIZE\n",
    "\n",
    "n_chunks_bytes = n_chunks.to_bytes(4, \"big\")\n",
    "mensaje_final = n_chunks_bytes + bytes_mensaje\n",
    "# Nuestro mensaje está listo para enviarse!"
   ]
  },
  {
   "cell_type": "code",
   "execution_count": 2,
   "metadata": {},
   "outputs": [],
   "source": [
    "# Ahora definiremos las funciones que reciben los mensajes por chunks\n",
    "def recibir_mensaje(nuevo_mensaje):\n",
    "    chunks_recibidos = []\n",
    "    n_chunks = int.from_bytes(nuevo_mensaje[:4], \"big\")\n",
    "    actual = 4\n",
    "    while len(chunks_recibidos) < n_chunks:\n",
    "        chunk = nuevo_mensaje[actual:actual + CHUNK_SIZE]\n",
    "        print(chunk)\n",
    "        chunks_recibidos.append(chunk)\n",
    "        actual += CHUNK_SIZE\n",
    "    completar_menaje(chunks_recibidos)\n",
    "\n",
    "def completar_menaje(chunks_recibidos):\n",
    "    mensaje_final = b\"\".join(chunks_recibidos).strip(b\"\\x00\")\n",
    "    mensaje_decodificado = mensaje_final.decode(encoding=\"UTF-8\").strip()\n",
    "    print(\"Recibí el siguiente mensaje:\\n\", mensaje_decodificado)"
   ]
  },
  {
   "cell_type": "code",
   "execution_count": 3,
   "metadata": {},
   "outputs": [
    {
     "name": "stdout",
     "output_type": "stream",
     "text": [
      "b'Hola '\n",
      "b'soy u'\n",
      "b'n men'\n",
      "b'saje!'\n",
      "b' Porf'\n",
      "b'avor '\n",
      "b'rec\\xc3\\xad'\n",
      "b'beme '\n",
      "b'corre'\n",
      "b'ctame'\n",
      "b'nte u'\n",
      "b'wu. E'\n",
      "b'n cas'\n",
      "b'o de '\n",
      "b'que o'\n",
      "b'curra'\n",
      "b' un e'\n",
      "b'rror '\n",
      "b'explo'\n",
      "b'tar\\xc3\\xa9'\n",
      "b'!\\x00\\x00\\x00\\x00'\n",
      "Recibí el siguiente mensaje:\n",
      " Hola soy un mensaje! Porfavor recíbeme correctamente uwu. En caso de que ocurra un error explotaré!\u0000\u0000\u0000\u0000\n"
     ]
    }
   ],
   "source": [
    "# Veamos que pasa!\n",
    "recibir_mensaje(mensaje_final)"
   ]
  },
  {
   "cell_type": "markdown",
   "metadata": {},
   "source": [
    "##### Información que podría contener un protocolo\n",
    "* Tamaño de los chunks.\n",
    "* Tamaño del header.\n",
    "* Formato del header.\n",
    "* Codificación según little endian o big endian.\n",
    "* Codificación de strings (ascii, utf-8, etc.).\n",
    "* Formato de cada chunk (si es que parte con el número de chunk, y cuantos bytes son destinados a esto).\n",
    "\n",
    "##### Información que podría contener un header\n",
    "* Contenido del mensaje (por ejemplo el formato: wav, bmp, jpg...).\n",
    "* Cantidad de chunks.\n",
    "* Cualquier otra información importante para la decodificación."
   ]
  },
  {
   "cell_type": "markdown",
   "metadata": {},
   "source": [
    "### Chunk + JSON = profit\n",
    "Utilizando serialización, las librerías pickle o JSON y un protocolo con *chunks*, podemos tener una comunicación robusta.\n",
    "A continuación, aplicaremos lo repasado para hacer un traspaso de información algo más \"real\". \n",
    "Usemos el siguiente protocolo:\n",
    "* El tamaño de los *chunks* será de 10 bytes. \n",
    "* Cada mensaje comienza con un *header* de 8 bytes.\n",
    "* Este header contiene 4 bytes que indican la cantidad de chunks del mensaje codificada en *little endian*.\n",
    "* Los siguientes 4 bytes indican el tipo de mensaje recibido.\n",
    "* Todos los *header* deben tener el mismo tamaño. Para esto, se rellena con 0s el final del header hasta que su tamaño sea 8.\n",
    "* Todos los chunks deben tener el mismo tamaño. Para esto, se rellena con 0s el final del mensaje hasta que el último chunk tenga el tamaño correcto.\n",
    "* Codificamos nuestros strings en utf-8."
   ]
  },
  {
   "cell_type": "code",
   "execution_count": 4,
   "metadata": {},
   "outputs": [],
   "source": [
    "import json\n",
    "\n",
    "HEADER_SIZE = 8\n",
    "CHUNK_SIZE = 10\n",
    "# Supongamos la siguiente \"base de datos\"\n",
    "json_data = {\"MP3\": {\"Baby Shark\": {\"NOMBRE\": \"Baby Shark\",\n",
    "                                    \"MUSICA\": \"du duru duru durú\"},\n",
    "                     \"Safaera\": {\"NOMBRE\": \"Safaera\",\n",
    "                                 \"MUSICA\": \"Aqui llegó tu tiburón\"}\n",
    "                     },\n",
    "             \"MEME\": {\"original_meme\": {\n",
    "                 \"IMAGEN\": \"HACKERMAN\",\n",
    "                 \"TOP TEXT\": \"Cuando tienes que inventar un meme para la ayudantía\",\n",
    "                 \"BOTTOM TEXT\": \"bottom text\"}}\n",
    "             }"
   ]
  },
  {
   "cell_type": "code",
   "execution_count": 5,
   "metadata": {},
   "outputs": [],
   "source": [
    "# Definimos dos funciones para los dos tipos de archivo que tiene nuestra base de datos\n",
    "def leer_meme(meme):\n",
    "    print(f\"\"\"Recibimos un meme!\n",
    "            {meme[\"TOP TEXT\"]}\n",
    "            {meme[\"IMAGEN\"]}\n",
    "            {meme[\"BOTTOM TEXT\"]}\n",
    "          \"\"\")\n",
    "\n",
    "def leer_cancion(cancion):\n",
    "    print(\"recibimos una canción!\")\n",
    "    print(f\"Ahora escucharemos {cancion['NOMBRE']}:\")\n",
    "    print(cancion[\"MUSICA\"])"
   ]
  },
  {
   "cell_type": "code",
   "execution_count": 6,
   "metadata": {},
   "outputs": [],
   "source": [
    "# Crearemos una clase que recibe mensajes y lo lee según el protocolo definido\n",
    "class Reader:\n",
    "    def __init__(self):\n",
    "        print(\"estoy esperando que me envíen datos!\")\n",
    "\n",
    "    def recibir_mensaje(self, data_):\n",
    "        header = data_[:HEADER_SIZE].strip(b'\\x00')\n",
    "        n_chunks = int.from_bytes(header[:4], \"little\")\n",
    "        formato = header[4:].decode('utf-8')\n",
    "        chunks_recibidos = []\n",
    "        pos_actual = HEADER_SIZE\n",
    "        while len(chunks_recibidos) < n_chunks:\n",
    "            chunk = data_[pos_actual:pos_actual + CHUNK_SIZE]\n",
    "            chunks_recibidos.append(chunk)\n",
    "            pos_actual += CHUNK_SIZE\n",
    "        mensaje = b\"\".join(chunks_recibidos).strip(b\"\\x00\")\n",
    "        self.leer_mensaje(mensaje, formato)\n",
    "\n",
    "    def leer_mensaje(self, mensaje_json, formato):\n",
    "        mensaje = json.loads(mensaje_json, encoding='utf-8')\n",
    "        if formato == 'MEME':\n",
    "            leer_meme(mensaje)\n",
    "        elif formato == 'MP3':\n",
    "            leer_cancion(mensaje)\n",
    "        else:\n",
    "            print(\"formato:\", formato)\n",
    "            raise ValueError(\"No sé que hacer con esta información unu\")"
   ]
  },
  {
   "cell_type": "code",
   "execution_count": 7,
   "metadata": {},
   "outputs": [],
   "source": [
    "# Ahora creamos una funcion que recibe la información, y la codifica correctamente\n",
    "def codificar(formato, data_):\n",
    "    info_codificada = json.dumps(data_).encode(encoding='utf-8')\n",
    "    while len(info_codificada) % CHUNK_SIZE != 0:\n",
    "        info_codificada += b'\\x00'\n",
    "\n",
    "    n_chunks = len(info_codificada) // CHUNK_SIZE\n",
    "    header = n_chunks.to_bytes(4, \"little\") + formato.encode('utf-8')\n",
    "    while len(header) % HEADER_SIZE != 0:\n",
    "        header += b'\\x00'\n",
    "    return header + info_codificada"
   ]
  },
  {
   "cell_type": "code",
   "execution_count": 8,
   "metadata": {},
   "outputs": [
    {
     "name": "stdout",
     "output_type": "stream",
     "text": [
      "estoy esperando que me envíen datos!\n",
      "recibí una canción!\n",
      "Ahora escucharemos Baby Shark:\n",
      "du duru duru durú\n",
      "Recibí un meme!\n",
      "            Cuando tienes que inventar un meme para la ayudantía\n",
      "            HACKERMAN\n",
      "            bottom text\n",
      "          \n"
     ]
    }
   ],
   "source": [
    "# Probemos nuestro código!\n",
    "server_ficticio = Reader()\n",
    "mensaje1 = codificar(\"MP3\", json_data[\"MP3\"][\"Baby Shark\"])\n",
    "mensaje2 = codificar(\"MEME\", json_data[\"MEME\"][\"original_meme\"])\n",
    "server_ficticio.recibir_mensaje(mensaje1)\n",
    "server_ficticio.recibir_mensaje(mensaje2)"
   ]
  },
  {
   "cell_type": "markdown",
   "metadata": {},
   "source": [
    "Lo anterior han sido ejemplos \"aislados\". No son verdaderamente útiles hasta ponerse en la práctica de comunicación vía socket. A continuación revisaremos un ejemplo más completo, que resume todo lo visto hasta ahora!"
   ]
  },
  {
   "cell_type": "markdown",
   "metadata": {},
   "source": [
    "## Threading... otra vez 👀\n",
    "Por si aún no estabas convencido(a) de que **Threading** era importante, bueno aquí tienes nuestro último argumento: **¡threading en networking!**\n",
    "\n",
    "Como vimos, nos gustaría que el servidor pueda escuchar nuevas conexiones y procesar los mensajes de todos los clientes... todo al mismo tiempo. Esto\n",
    "está pintado para concurrencia 😱. Para solucionar esto, hacemos que el servidor cree un thread nuevo para cada cliente conectado, el cual se preocupará de\n",
    "ir escuchando y procesando sus mensajes respectivos. Por otro lado, dejamos el loop que acepta nuevas conexiones dentro del thread principal.\n",
    "\n",
    "### Aceptando conexiones recurrentemente y entendiendo como usar `accept`"
   ]
  },
  {
   "cell_type": "code",
   "execution_count": null,
   "metadata": {
    "pycharm": {
     "name": "#%%\n"
    }
   },
   "outputs": [],
   "source": [
    "import json\n",
    "import socket\n",
    "import threading\n",
    "\n",
    "\n",
    "class Servidor:\n",
    "\n",
    "    def __init__(self, host, port):\n",
    "        # host en el que está corriendo el servidor\n",
    "        self.host = host\n",
    "        # puerto donde se escucharán las conexiones\n",
    "        self.port = port\n",
    "        # Crear socket con dirección IPv4 y protocolo TCP\n",
    "        print(\"Iniciando servidor...\")\n",
    "        self.socket_servidor = socket.socket(socket.AF_INET, socket.SOCK_STREAM)\n",
    "        # Ligar host y port\n",
    "        self.socket_servidor.bind((self.host, self.port))\n",
    "        # Empezar a escuchar conexiones\n",
    "        self.socket_servidor.listen()\n",
    "        # Crear y empezar thread encargado de aceptar conexiones\n",
    "        thread = threading.Thread(target=self.aceptar_clientes)\n",
    "        thread.start()\n",
    "\n",
    "    def aceptar_clientes(self):\n",
    "        print(\"Escuchando clientes...\")\n",
    "        while True:\n",
    "            # Comenzar a aceptar clientes\n",
    "            # (socket, (dirección IP, puerto)) = accept()\n",
    "            socket_cliente, address = self.socket_servidor.accept()\n",
    "            print(\"Conexión aceptada: \", address)\n",
    "            # Crear y empezar un thread para escuchar a cada cliente\n",
    "            thread_cliente = threading.Thread(target=self.escuchar_cliente, args=(socket_cliente,), daemon=True)\n",
    "            thread_cliente.start()\n",
    "    \n",
    "    def escuchar_cliente(self, socket_cliente):\n",
    "        try:\n",
    "            while True:\n",
    "                # Recibir y manejar mensajes del cliente\n",
    "                mensaje = self.recibir(socket_cliente)\n",
    "                print(\"Mensaje recibido: \", mensaje)\n",
    "                if mensaje != \"\":\n",
    "                    respuesta = self.manejar_mensaje_recibido(mensaje, socket_cliente)\n",
    "                    self.enviar(respuesta, socket_cliente)\n",
    "        except ConnectionResetError:\n",
    "            print(\"Error de conexión con el cliente\")\n",
    "\n",
    "    def recibir(self, socket_cliente):\n",
    "        # Recibir largo del mensaje\n",
    "        largo_bytes_mensaje = socket_cliente.recv(4)\n",
    "        # Decodificar largo del mensaje\n",
    "        largo_mensaje = int.from_bytes(largo_bytes_mensaje, byteorder=\"big\")\n",
    "        # Recibir mensaje\n",
    "        bytes_mensaje = bytearray()\n",
    "        while len(bytes_mensaje) < largo_mensaje:\n",
    "            bytes_a_recibir = min(4096, largo_mensaje - len(bytes_mensaje))\n",
    "            bytes_mensaje += socket_cliente.recv(bytes_a_recibir)\n",
    "        # Decodificar mensaje\n",
    "        mensaje = self.decodificar_mensaje(bytes_mensaje)\n",
    "        return mensaje\n",
    "\n",
    "    def enviar(self, mensaje, socket_jugador):\n",
    "        # Codificar mensaje\n",
    "        bytes_mensaje = self.codificar_mensaje(mensaje)\n",
    "        # Codificar largo del mensaje\n",
    "        largo_bytes_mensaje = len(bytes_mensaje).to_bytes(4, byteorder=\"big\")\n",
    "        # Enviar largo del mensaje + mensaje\n",
    "        socket_jugador.sendall(largo_bytes_mensaje + bytes_mensaje)\n",
    "\n",
    "    def codificar_mensaje(self, mensaje):\n",
    "        try:\n",
    "            # Serializar el mensaje\n",
    "            mensaje_json = json.dumps(mensaje)\n",
    "            # Codificar el mensaje serializado\n",
    "            bytes_mensaje = mensaje_json.encode(\"utf-8\")\n",
    "            return bytes_mensaje\n",
    "        except json.JSONDecodeError:\n",
    "            print(\"No se pudo codificar el mensaje\")\n",
    "            return b\"\"\n",
    "\n",
    "    def decodificar_mensaje(self, bytes_mensaje):\n",
    "        try:\n",
    "            # Deserializar el mensaje\n",
    "            mensaje = json.loads(bytes_mensaje)\n",
    "            return mensaje\n",
    "        except json.JSONDecodeError:\n",
    "            print(\"No se pudo decodificar el mensaje\")\n",
    "            return dict()\n",
    "\n",
    "    def manejar_mensaje_recibido(self, mensaje, socket_cliente):\n",
    "        # De acuerdo al mensaje que se reciba de parte del cliente se debería generar una respuesta acorde\n",
    "        respuesta = f\"[Respuesta de servidor asociada al mensaje: {mensaje}]\"\n",
    "        print(\"Enviando respuesta al cliente: \", respuesta)\n",
    "        return respuesta\n",
    "\n",
    "\n",
    "if __name__ == \"__main__\":\n",
    "    host = \"localhost\"\n",
    "    port = 5000\n",
    "    servidor = Servidor(host, port)\n",
    "    "
   ]
  },
  {
   "cell_type": "code",
   "execution_count": null,
   "metadata": {
    "pycharm": {
     "name": "#%%\n"
    }
   },
   "outputs": [],
   "source": [
    "import json\n",
    "import socket\n",
    "import threading\n",
    "\n",
    "\n",
    "class Cliente:\n",
    "\n",
    "    def __init__(self, host, port):\n",
    "        # Dirección IP del host destinatario\n",
    "        self.host = host\n",
    "        # Puerto al que nos queremos conectar\n",
    "        self.port = port\n",
    "        # Crear socket con dirección IPv4 y protocolo TCP\n",
    "        self.socket_cliente = socket.socket(socket.AF_INET, socket.SOCK_STREAM)\n",
    "        try:\n",
    "            # Conectarse al servidor\n",
    "            self.socket_cliente.connect((self.host, self.port))\n",
    "            # Crear y empezar thread encargado de escuchar al servidor\n",
    "            thread = threading.Thread(target=self.escuchar_servidor, daemon=True)\n",
    "            thread.start()\n",
    "            print(\"Conexión exitosa\")\n",
    "            # Ingresar mensaje a enviar al servidor\n",
    "            self.recibir_input()\n",
    "        except ConnectionRefusedError:\n",
    "            print(\"Error en la conexión\")\n",
    "            self.socket_cliente.close()\n",
    "\n",
    "    def escuchar_servidor(self):\n",
    "        try:\n",
    "            while True:\n",
    "                # Recibir y manejar mensajes del servidor\n",
    "                mensaje = self.recibir()\n",
    "                print(\"Mensaje recibido del servidor: \", mensaje)\n",
    "                if mensaje != \"\":\n",
    "                    self.manejar_mensaje_recibido(mensaje)\n",
    "        except ConnectionResetError:\n",
    "            print(\"Error de conexión con el servidor\")\n",
    "        finally:\n",
    "            # Cerrar socket\n",
    "            self.socket_cliente.close()\n",
    "\n",
    "    def recibir(self):\n",
    "        # Recibir largo del mensaje\n",
    "        largo_bytes_mensaje = self.socket_cliente.recv(4)\n",
    "        # Decodificar largo del mensaje\n",
    "        largo_mensaje = int.from_bytes(largo_bytes_mensaje, byteorder=\"big\")\n",
    "        # Recibir mensaje\n",
    "        bytes_mensaje = bytearray()\n",
    "        while len(bytes_mensaje) < largo_mensaje:\n",
    "            bytes_a_recibir = min(4096, largo_mensaje - len(bytes_mensaje))\n",
    "            bytes_mensaje += self.socket_cliente.recv(bytes_a_recibir)\n",
    "        # Decodificar mensaje\n",
    "        mensaje = self.decodificar_mensaje(bytes_mensaje)\n",
    "        return mensaje\n",
    "\n",
    "    def enviar(self, mensaje):\n",
    "        print(\"Enviando al servidor el mensaje: \", mensaje)\n",
    "        # Codificar mensaje\n",
    "        bytes_mensaje = self.codificar_mensaje(mensaje)\n",
    "        # Codificar largo del mensaje\n",
    "        largo_bytes_mensaje = len(bytes_mensaje).to_bytes(4, byteorder=\"big\")\n",
    "        # Enviar largo del mensaje + mensaje\n",
    "        self.socket_jugador.sendall(largo_bytes_mensaje + bytes_mensaje)\n",
    "\n",
    "    def codificar_mensaje(self, mensaje):\n",
    "        try:\n",
    "            # Serializar el mensaje\n",
    "            mensaje_json = json.dumps(mensaje)\n",
    "            # Codificar el mensaje serializado\n",
    "            bytes_mensaje = mensaje_json.encode(\"utf-8\")\n",
    "            return bytes_mensaje\n",
    "        except json.JSONDecodeError:\n",
    "            print(\"No se pudo codificar el mensaje\")\n",
    "            return b\"\"\n",
    "\n",
    "    def decodificar_mensaje(self, bytes_mensaje):\n",
    "        try:\n",
    "            # Deserializar el mensaje\n",
    "            mensaje = json.loads(bytes_mensaje)\n",
    "            return mensaje\n",
    "        except json.JSONDecodeError:\n",
    "            print(\"No se pudo decodificar el mensaje\")\n",
    "            return dict()\n",
    "\n",
    "    def manejar_mensaje_recibido(self, mensaje):\n",
    "        # De acuerdo al mensaje que se reciba de parte del servidor se debería generar una acción acorde.\n",
    "        accion = f\"Realizando acción asociada al mensaje: {mensaje}\"\n",
    "        print(accion) \n",
    "\n",
    "    def recibir_input(self):\n",
    "        while True:\n",
    "            mensaje = input()\n",
    "            self.enviar(mensaje)\n",
    "\n",
    "\n",
    "if __name__ == \"__main__\":\n",
    "    host = \"localhost\"\n",
    "    port = 5000\n",
    "    cliente = Cliente(host, port)"
   ]
  }
 ],
 "metadata": {
  "kernelspec": {
   "display_name": "Python 3",
   "language": "python",
   "name": "python3"
  },
  "language_info": {
   "codemirror_mode": {
    "name": "ipython",
    "version": 3
   },
   "file_extension": ".py",
   "mimetype": "text/x-python",
   "name": "python",
   "nbconvert_exporter": "python",
   "pygments_lexer": "ipython3",
   "version": "3.9.5"
  }
 },
 "nbformat": 4,
 "nbformat_minor": 1
}