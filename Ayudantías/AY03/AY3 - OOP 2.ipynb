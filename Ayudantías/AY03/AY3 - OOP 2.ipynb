{
 "cells": [
  {
   "cell_type": "markdown",
   "metadata": {
    "slideshow": {
     "slide_type": "slide"
    }
   },
   "source": [
    "# Ayudantía 3: OOP-2\n",
    "## Autores:\n",
    " - Sebastián Olivares (@ssoliva)\n",
    " - Ria Deane (@riadeane)\n",
    " - Chris Klempau (@Christian-Klempau)"
   ]
  },
  {
   "cell_type": "markdown",
   "metadata": {
    "id": "QosXnuTUeYXx",
    "slideshow": {
     "slide_type": "slide"
    }
   },
   "source": [
    "# **Diagrama de Clases**"
   ]
  },
  {
   "cell_type": "markdown",
   "metadata": {
    "id": "46mVwwnJehAq",
    "slideshow": {
     "slide_type": "subslide"
    }
   },
   "source": [
    "El diagrama de clases es una herramienta muy útil que permite **visualizar fácilmente las clases** que componen un sistema, así como también sus **atributos, métodos y las interacciones que existen entre ellas**. Pero... **¿para qué sirve?**"
   ]
  },
  {
   "cell_type": "markdown",
   "metadata": {
    "id": "QSP5j_NcfGvE",
    "slideshow": {
     "slide_type": "fragment"
    }
   },
   "source": [
    "Crear un diagrama de clases permite **planificar mejor nuestros programas** antes de codificarlas"
   ]
  },
  {
   "cell_type": "markdown",
   "metadata": {
    "id": "E_G6hv3Ojtjt",
    "slideshow": {
     "slide_type": "subslide"
    }
   },
   "source": [
    "Para entenderlo, modelemos Super Mario Bros. 🍄 ![imagen mario](images/mario.jpg)"
   ]
  },
  {
   "cell_type": "markdown",
   "metadata": {
    "id": "in9XiLAQgc43",
    "slideshow": {
     "slide_type": "slide"
    }
   },
   "source": [
    "## **Elementos de un diagrama de clases**\n",
    "\n",
    "Estos diagramas se componen de **clases** y **relaciones**"
   ]
  },
  {
   "cell_type": "markdown",
   "metadata": {
    "id": "QQLqkw9pi0zI",
    "slideshow": {
     "slide_type": "subslide"
    }
   },
   "source": [
    "### **Clases**\n",
    "Las aprendimos la semana pasada 😎 Se representan gráficamente de la siguiente forma:\n",
    "\n",
    "![foto clases](images/clases.jpg)\n",
    "\n",
    "- El primer nivel corresponde al nombre de la clase\n",
    "- El segundo a sus atributos (nombre y tipo de variable)\n",
    "- El tercero a sus métodos (nombre, parámetros y tipo de variable que retorna)"
   ]
  },
  {
   "cell_type": "markdown",
   "metadata": {
    "id": "WR9mK0iktOhI",
    "slideshow": {
     "slide_type": "subslide"
    }
   },
   "source": [
    "### **Relaciones**\n",
    "Los diagramas de clases explican cómo ocurre la **interacción entre las clases** dentro del sistema que modelamos. Las relaciones más comunes son: **composición, agregación y herencia.**"
   ]
  },
  {
   "cell_type": "markdown",
   "metadata": {
    "id": "v2oaMKC0wTMO",
    "slideshow": {
     "slide_type": "subslide"
    }
   },
   "source": [
    "#### **Cardinalidad de las relaciones**\n",
    "\n",
    "Tanto para la **composición** como la **agregación**, utilizaremos el concepto de cardinalidad para indicar el grado y nivel de dependencia entre las relaciones. La cardinalidad la indicamos en cada extremo de la relación. \n",
    "\n",
    "Los posibles casos de cardinalidad son:\n",
    "\n",
    "- **1 o muchos:** 1..*\n",
    "- **0 o muchos:** 0..*\n",
    "- **Número fijo:** n"
   ]
  },
  {
   "cell_type": "markdown",
   "metadata": {
    "id": "K2yF58Fyutl2",
    "slideshow": {
     "slide_type": "subslide"
    }
   },
   "source": [
    "#### **Composición**\n",
    "En esta relación, los objetos de la clase que creamos se construyen a partir de la **inclusión** de otros elementos. En otras palabras, la **existencia de los objetos incluidos depende de la existencia del objeto que los incluye**. \n",
    "\n",
    "La relación de composición entre clases se indica por una flecha que parte desde el objeto base y va hasta el objeto que componemos (incluímos). La base de la flecha es un **rombo relleno**."
   ]
  },
  {
   "cell_type": "markdown",
   "metadata": {
    "slideshow": {
     "slide_type": "subslide"
    }
   },
   "source": [
    "![foto comp](images/composicion.png)"
   ]
  },
  {
   "cell_type": "markdown",
   "metadata": {
    "id": "Dm_Z1WUiva9w",
    "slideshow": {
     "slide_type": "subslide"
    }
   },
   "source": [
    "#### **Agregación**\n",
    "\n",
    "En este tipo de relación también construimos la clase base usando otros objetos, pero en este caso, **el tiempo de vida del objeto que agregamos es independiente del tiempo de vida del objeto que lo incluye**. \n",
    "\n",
    "La asociación entre los objetos se indica por una flecha que parte desde el objeto base y va hasta el objeto que agregamos. A diferencia de la composición, la base de la flecha es un **rombo sin rellenar.**\n"
   ]
  },
  {
   "cell_type": "markdown",
   "metadata": {
    "slideshow": {
     "slide_type": "subslide"
    }
   },
   "source": [
    "![foto agregacion](images/agregacion.png)"
   ]
  },
  {
   "cell_type": "markdown",
   "metadata": {
    "id": "uWucpa5xvxWL",
    "slideshow": {
     "slide_type": "subslide"
    }
   },
   "source": [
    "#### **Herencia**\n",
    "La herencia es una relación donde una subclase hereda atributos y métodos desde una superclase. La **subclase posee todos los atributos y métodos de la superclase**, pero además puede tener sus **propios métodos y atributos** específicos.\n",
    "\n",
    "Esta relación de herencia se define gráficamente con una **flecha de punta vacía** que apunta desde la subclase hacia la superclase.\n",
    "\n",
    "![foto herencia](images/herencia.png)\n"
   ]
  },
  {
   "cell_type": "markdown",
   "metadata": {
    "id": "IEa7XQC1w0Ri",
    "slideshow": {
     "slide_type": "subslide"
    }
   },
   "source": [
    "## **Podemos armar un diagrama ahora! 🤩**\n",
    "\n",
    "![diagrama](images/diagrama.png)"
   ]
  },
  {
   "cell_type": "markdown",
   "metadata": {
    "id": "b37BYhHz2bzs",
    "slideshow": {
     "slide_type": "slide"
    }
   },
   "source": [
    "# **Abstracción**"
   ]
  },
  {
   "cell_type": "markdown",
   "metadata": {
    "id": "_lU-fLVkQDA4",
    "slideshow": {
     "slide_type": "subslide"
    }
   },
   "source": [
    "## Clases Abstractas"
   ]
  },
  {
   "cell_type": "markdown",
   "metadata": {
    "id": "FZ57L2p9M52q",
    "slideshow": {
     "slide_type": "subslide"
    }
   },
   "source": [
    "### ¿Qué son?\n",
    "\n",
    "Son clases que no pueden ser instanciadas, sino que permiten modelar otras clases en base a ellas. De ellas \"nacen\" otras clases que **heredan** de estas clases. Contienen uno o más **métodos abstractos** y sus **subclases** los **deben** implementar."
   ]
  },
  {
   "cell_type": "markdown",
   "metadata": {
    "id": "WZLKQ2l6NX8w",
    "slideshow": {
     "slide_type": "fragment"
    }
   },
   "source": [
    "### ¿Por qué?\n",
    "\n",
    "Son útiles ya que permiten desarrollar **\"templates\"** para otras clases, esto asegura consistencia entre métodos que se **deban** implementar (**abstract methods**). Además, permite desarrollar métodos normales y que se hereden a sus clases hijas. "
   ]
  },
  {
   "cell_type": "markdown",
   "metadata": {
    "id": "h4BKHOEBNtIX",
    "slideshow": {
     "slide_type": "subslide"
    }
   },
   "source": [
    "## Implementación\n",
    "\n",
    "Se debe utilizar métodos del módulo **abc**.  En particular **ABC** debe ser padre de nuestra clase abstracta y para definir un método abstracto se debe importar **abstractmethod**. Como en el código que se ve a continuación:\n"
   ]
  },
  {
   "cell_type": "code",
   "execution_count": null,
   "metadata": {
    "id": "bnRfaoelNuzG",
    "slideshow": {
     "slide_type": "subslide"
    }
   },
   "outputs": [],
   "source": [
    "from abc import ABC, abstractmethod\n",
    "\n",
    "class Base(ABC):\n",
    "    \n",
    "    def __init__(self, nombre):\n",
    "        self.nombre = nombre\n",
    "        self.contador = 0\n",
    "   \n",
    "    def metodo_1(self):\n",
    "        self.contador += 1\n",
    "\n",
    "    @abstractmethod\n",
    "    def metodo_2(self):\n",
    "        self.contador += 2 "
   ]
  },
  {
   "cell_type": "markdown",
   "metadata": {
    "id": "48-3njhrpSaz",
    "slideshow": {
     "slide_type": "slide"
    }
   },
   "source": [
    "# **Multiherencia**\n"
   ]
  },
  {
   "cell_type": "markdown",
   "metadata": {
    "id": "xzpa4W6YrvR2",
    "slideshow": {
     "slide_type": "fragment"
    }
   },
   "source": [
    "Para estudiarlo lo veremos con:"
   ]
  },
  {
   "cell_type": "markdown",
   "metadata": {
    "id": "I2XjYzlVq8K2",
    "slideshow": {
     "slide_type": "subslide"
    }
   },
   "source": [
    "![Imagen Avatar](images/avatar.png)"
   ]
  },
  {
   "cell_type": "markdown",
   "metadata": {
    "id": "mCnmjNccrkqm",
    "slideshow": {
     "slide_type": "subslide"
    }
   },
   "source": [
    "Igual como en la semana anterior vimos que una clase podía heredar **atributos** y **métodos** de otra clase, también es posible que una clase **herede de más de una**. A esto se le llama **multiherencia**."
   ]
  },
  {
   "cell_type": "markdown",
   "metadata": {
    "id": "0OLseM7WsRp5",
    "slideshow": {
     "slide_type": "subslide"
    }
   },
   "source": [
    "## **Un ejemplo:**"
   ]
  },
  {
   "cell_type": "markdown",
   "metadata": {
    "id": "ViocX8a-sXwU",
    "slideshow": {
     "slide_type": "fragment"
    }
   },
   "source": [
    "Tenemos a un Maestro **(clase abstracta)**, del cual creamos: `MaestroFuego`, `MaestroAgua`, `MaestroTierra`, `MaestroAire`.\n",
    "A partir de esto, queremos que `Avatar` herede de todos ellos:"
   ]
  },
  {
   "cell_type": "code",
   "execution_count": null,
   "metadata": {
    "id": "FBbgI8zpsyCC",
    "slideshow": {
     "slide_type": "subslide"
    }
   },
   "outputs": [],
   "source": [
    "from abc import ABC, abstractmethod\n",
    "\n",
    "class Maestro(ABC):\n",
    "    \n",
    "    def __init__(self, nombre, tipo):\n",
    "        self.nombre = nombre\n",
    "        self.tipo = tipo\n",
    "        self.poder = 10\n",
    "        self.sabiduria = 10\n",
    "        self.agilidad = 10\n",
    "        self.potencia = 10\n",
    "        self.__vida = 75\n",
    "\n",
    "    @property\n",
    "    def vida(self):\n",
    "        return self.__vida\n",
    "    \n",
    "    @vida.setter\n",
    "    def vida(self, nuevo_valor):\n",
    "        if nuevo_valor > 100:\n",
    "            self.__vida = 100\n",
    "        elif nuevo_valor < 0:\n",
    "            self.__vida = 0\n",
    "        else:\n",
    "            self.__vida = nuevo_valor\n",
    "            \n",
    "    def __str__(self):\n",
    "        return f\"Hola, mi nombre es {self.nombre} y soy un maestro de tipo {self.tipo}\"\n",
    "    \n",
    "    def llamar(self):\n",
    "        print(\"Llamando a maestro\")\n",
    "        self.num_llamadas_maestro += 1\n",
    "    \n",
    "    @abstractmethod \n",
    "    def ataque(self):\n",
    "        pass"
   ]
  },
  {
   "cell_type": "markdown",
   "metadata": {
    "id": "WY4ckjW2s9NL",
    "slideshow": {
     "slide_type": "subslide"
    }
   },
   "source": [
    "Luego, definimos los cuatro tipos de maestros que **heredan de Maestro**:"
   ]
  },
  {
   "cell_type": "code",
   "execution_count": null,
   "metadata": {
    "id": "UwJqBvPwtFp1",
    "slideshow": {
     "slide_type": "subslide"
    }
   },
   "outputs": [],
   "source": [
    "class MaestroFuego(Maestro):\n",
    "    \n",
    "    def __init__(self, nombre, tipo):\n",
    "        super().__init__(nombre, tipo)\n",
    "        self.poder = 25\n",
    "    \n",
    "    def ataque(self):\n",
    "        cuerpo = 3 * self.poder + 2 * self.potencia\n",
    "        mente = self.sabiduria + self.agilidad\n",
    "        return cuerpo + mente\n",
    "\n",
    "class MaestroAgua(Maestro):\n",
    "    \n",
    "    def __init__(self, nombre, tipo):\n",
    "        super().__init__(nombre, tipo)\n",
    "        self.sabiduria = 35\n",
    "    \n",
    "    def ataque(self):\n",
    "        cuerpo = self.poder + self.potencia\n",
    "        mente = 3 * self.sabiduria + 2 * self.agilidad\n",
    "        return cuerpo + mente\n",
    "\n",
    "class MaestroTierra(Maestro):\n",
    "    \n",
    "    def __init__(self, nombre, tipo):\n",
    "        super().__init__(nombre, tipo)\n",
    "        self.potencia = 45\n",
    "    \n",
    "    def ataque(self):\n",
    "        cuerpo = 2 * self.poder + 3 * self.potencia\n",
    "        mente = self.sabiduria + self.agilidad\n",
    "        return cuerpo + mente\n",
    "\n",
    "class MaestroAire(Maestro):\n",
    "    \n",
    "    def __init__(self, nombre, tipo):\n",
    "        super().__init__(nombre, tipo)\n",
    "        self.agilidad = 55\n",
    "    \n",
    "    def ataque(self):\n",
    "        cuerpo = self.poder + self.potencia\n",
    "        mente = 2 * self.sabiduria + 3* self.agilidad\n",
    "        return cuerpo + mente"
   ]
  },
  {
   "cell_type": "markdown",
   "metadata": {
    "id": "n-y90x3YtQip",
    "slideshow": {
     "slide_type": "slide"
    }
   },
   "source": [
    "Ahora, debemos construir al `Avatar`:"
   ]
  },
  {
   "cell_type": "code",
   "execution_count": null,
   "metadata": {
    "id": "nN8QHeWztYlQ",
    "slideshow": {
     "slide_type": "fragment"
    }
   },
   "outputs": [],
   "source": [
    "class Avatar(MaestroFuego, MaestroAire, MaestroTierra, MaestroAgua):\n",
    "    \n",
    "    def __init__(self, nombre, tipo):\n",
    "        super().__init__(nombre, tipo)\n",
    "    \n",
    "    def ataque(self):\n",
    "        if self.tipo == \"Fuego\":\n",
    "            return MaestroFuego.ataque(self)\n",
    "        elif self.tipo == \"Tierra\":\n",
    "            return MaestroTierra.ataque(self)\n",
    "        elif self.tipo == \"Aire\":\n",
    "            return MaestroAire.ataque(self)\n",
    "        elif self.tipo == \"Agua\":\n",
    "            return MaestroAgua.ataque(self)"
   ]
  },
  {
   "cell_type": "markdown",
   "metadata": {
    "id": "VqvKyOseuO_j",
    "slideshow": {
     "slide_type": "slide"
    }
   },
   "source": [
    "## **Problema del diamante!** 😨\n",
    "Qué sucede si el Avatar llama a `MaestroAgua` y `MaestroFuego`?"
   ]
  },
  {
   "cell_type": "markdown",
   "metadata": {
    "id": "h8_FUZRZudyp",
    "slideshow": {
     "slide_type": "subslide"
    }
   },
   "source": [
    "![Imagen Diamante Maestros](images/diamante.png)"
   ]
  },
  {
   "cell_type": "markdown",
   "metadata": {
    "id": "344SFOnwukjo",
    "slideshow": {
     "slide_type": "subslide"
    }
   },
   "source": [
    "Veamos en detalle qué ocurre!"
   ]
  },
  {
   "cell_type": "code",
   "execution_count": 1,
   "metadata": {
    "id": "JTNC-P2kupRd",
    "slideshow": {
     "slide_type": "fragment"
    }
   },
   "outputs": [
    {
     "name": "stdout",
     "output_type": "stream",
     "text": [
      "Estoy en Avatar\n",
      "Estoy en Fuego\n",
      "Llamando a maestro\n",
      "Estoy en Agua\n",
      "Llamando a maestro\n",
      "\n",
      "Llamadas en Avatar: 1\n",
      "Llamadas en MaestroFuego: 1\n",
      "Llamadas en MaestroAgua: 1\n",
      "Llamadas en Maestro: 2\n"
     ]
    }
   ],
   "source": [
    "from abc import ABC, abstractmethod\n",
    "\n",
    "class Maestro(ABC):\n",
    "    \n",
    "    def __init__(self, nombre, tipo):\n",
    "        self.nombre = nombre\n",
    "        self.tipo = tipo\n",
    "        self.poder = 10\n",
    "        self.sabiduria = 10\n",
    "        self.agilidad = 10\n",
    "        self.potencia = 10\n",
    "        self.__vida = 75\n",
    "        self.num_llamadas_maestro = 0\n",
    "\n",
    "    @property\n",
    "    def vida(self):\n",
    "        return self.__vida\n",
    "    \n",
    "    @vida.setter\n",
    "    def vida(self, nuevo_valor):\n",
    "        if nuevo_valor > 100:\n",
    "            self.__vida = 100\n",
    "        elif nuevo_valor < 0:\n",
    "            self.__vida = 0\n",
    "        else:\n",
    "            self.__vida = nuevo_valor\n",
    "            \n",
    "    def __str__(self):\n",
    "        return f\"Hola, mi nombre es {self.nombre} y soy un maestro de tipo {self.tipo}\"\n",
    "    \n",
    "    def llamar(self):\n",
    "        print(\"Llamando a maestro\")\n",
    "        self.num_llamadas_maestro += 1\n",
    "    \n",
    "    @abstractmethod \n",
    "    def ataque(self):\n",
    "        pass\n",
    "    \n",
    "    \n",
    "class MaestroFuego(Maestro):\n",
    "    \n",
    "    def __init__(self, nombre, tipo):\n",
    "        super().__init__(nombre, tipo)\n",
    "        self.poder = 25\n",
    "        self.num_llamadas_fuego = 0\n",
    "    \n",
    "    def ataque(self):\n",
    "        cuerpo = 3 * self.poder + 2 * self.potencia\n",
    "        mente = self.sabiduria + self.agilidad\n",
    "        return cuerpo + mente\n",
    "    \n",
    "    def llamar(self):\n",
    "        print(\"Estoy en Fuego\")\n",
    "        Maestro.llamar(self)\n",
    "        self.num_llamadas_fuego += 1\n",
    "        \n",
    "        \n",
    "class MaestroAgua(Maestro):\n",
    "    \n",
    "    def __init__(self, nombre, tipo):\n",
    "        super().__init__(nombre, tipo)\n",
    "        self.sabiduria = 35\n",
    "        self.num_llamadas_agua = 0\n",
    "    \n",
    "    def ataque(self):\n",
    "        cuerpo = self.poder + self.potencia\n",
    "        mente = 3 * self.sabiduria + 2 * self.agilidad\n",
    "        return cuerpo + mente\n",
    "    \n",
    "    def llamar(self):\n",
    "        print(\"Estoy en Agua\")\n",
    "        Maestro.llamar(self)\n",
    "        self.num_llamadas_agua += 1\n",
    "        \n",
    "        \n",
    "class Avatar(MaestroFuego, MaestroAgua):\n",
    "    \n",
    "    def __init__(self, nombre, tipo):\n",
    "        super().__init__(nombre, tipo)\n",
    "        self.num_llamadas_avatar = 0\n",
    "    \n",
    "    def ataque():\n",
    "        pass\n",
    "\n",
    "    def modo_avatar():\n",
    "        pass\n",
    "        \n",
    "    def llamar(self):\n",
    "        print(\"Estoy en Avatar\")        \n",
    "        MaestroFuego.llamar(self)\n",
    "        MaestroAgua.llamar(self)\n",
    "        self.num_llamadas_avatar += 1\n",
    "\n",
    "avatar = Avatar(\"Ian\", \"avatar\")\n",
    "avatar.llamar()\n",
    "print()\n",
    "print(f\"Llamadas en Avatar: {avatar.num_llamadas_avatar}\")\n",
    "print(f\"Llamadas en MaestroFuego: {avatar.num_llamadas_fuego}\")\n",
    "print(f\"Llamadas en MaestroAgua: {avatar.num_llamadas_agua}\")\n",
    "print(f\"Llamadas en Maestro: {avatar.num_llamadas_maestro}\")"
   ]
  },
  {
   "cell_type": "markdown",
   "metadata": {
    "id": "lq1AS28mu6KG",
    "slideshow": {
     "slide_type": "subslide"
    }
   },
   "source": [
    "Como podemos apreciar, el método `llamar`, que está primero en la jerarquía (`Maestro`), es llamado **dos veces**."
   ]
  },
  {
   "cell_type": "markdown",
   "metadata": {
    "id": "OeyNECS5yLAm",
    "slideshow": {
     "slide_type": "subslide"
    }
   },
   "source": [
    "![Imagen llamadas Avatar](images/llamadas.png)"
   ]
  },
  {
   "cell_type": "markdown",
   "metadata": {
    "id": "oV-tCeqmyW6L",
    "slideshow": {
     "slide_type": "slide"
    }
   },
   "source": [
    "## **Solución** 🙌"
   ]
  },
  {
   "cell_type": "markdown",
   "metadata": {
    "id": "rWNKTcqcymKE",
    "slideshow": {
     "slide_type": "subslide"
    }
   },
   "source": [
    "Python nos permite utilizar `super()` para solucionar de manera ordenada y automática nuestro problema.\n",
    "\n",
    "\n",
    "\n",
    "\n"
   ]
  },
  {
   "cell_type": "markdown",
   "metadata": {
    "id": "VCWkwgfazHZi",
    "slideshow": {
     "slide_type": "fragment"
    }
   },
   "source": [
    "Intentémoslo!"
   ]
  },
  {
   "cell_type": "code",
   "execution_count": null,
   "metadata": {
    "colab": {
     "base_uri": "https://localhost:8080/"
    },
    "id": "R6SrDt4pzIW8",
    "outputId": "af326a2c-eaaa-4db7-f097-080485ec75d7",
    "slideshow": {
     "slide_type": "subslide"
    }
   },
   "outputs": [
    {
     "name": "stdout",
     "output_type": "stream",
     "text": [
      "Estoy en Avatar\n",
      "Estoy en Fuego\n",
      "Estoy en Agua\n",
      "Llamando a maestro\n",
      "\n",
      "Llamadas en Avatar: 1\n",
      "Llamadas en MaestroFuego: 1\n",
      "Llamadas en MaestroAgua: 1\n",
      "Llamadas en Maestro: 1\n"
     ]
    }
   ],
   "source": [
    "class MaestroFuego(Maestro):\n",
    "    \n",
    "    def __init__(self, nombre, tipo):\n",
    "        super().__init__(nombre, tipo)\n",
    "        self.poder = 25\n",
    "        self.num_llamadas_fuego = 0\n",
    "    \n",
    "    def ataque(self):\n",
    "        pass\n",
    "    \n",
    "    def llamar(self):\n",
    "        print(\"Estoy en Fuego\")\n",
    "        super().llamar()\n",
    "        self.num_llamadas_fuego += 1\n",
    "    \n",
    "\n",
    "class MaestroAgua(Maestro):\n",
    "    \n",
    "    def __init__(self, nombre, tipo):\n",
    "        super().__init__(nombre, tipo)\n",
    "        self.sabiduria = 35\n",
    "        self.num_llamadas_agua = 0\n",
    "    \n",
    "    def ataque(self):\n",
    "        pass\n",
    "    \n",
    "    \n",
    "    def llamar(self):\n",
    "        print(\"Estoy en Agua\")\n",
    "        super().llamar()\n",
    "        self.num_llamadas_agua += 1\n",
    "        \n",
    "        \n",
    "        \n",
    "class Avatar(MaestroFuego, MaestroAgua):\n",
    "    \n",
    "    def __init__(self, nombre, tipo):\n",
    "        super().__init__(nombre, tipo)\n",
    "        self.num_llamadas_avatar = 0\n",
    "    \n",
    "    def ataque():\n",
    "        pass\n",
    "\n",
    "    def modo_avatar():\n",
    "        pass\n",
    "        \n",
    "    def llamar(self):\n",
    "        print(\"Estoy en Avatar\")        \n",
    "        super().llamar()\n",
    "        self.num_llamadas_avatar += 1\n",
    "\n",
    "avatar = Avatar(\"Dani\", \"Agua\")\n",
    "avatar.llamar()\n",
    "print()\n",
    "print(f\"Llamadas en Avatar: {avatar.num_llamadas_avatar}\")\n",
    "print(f\"Llamadas en MaestroFuego: {avatar.num_llamadas_fuego}\")\n",
    "print(f\"Llamadas en MaestroAgua: {avatar.num_llamadas_agua}\")\n",
    "print(f\"Llamadas en Maestro: {avatar.num_llamadas_maestro}\")"
   ]
  },
  {
   "cell_type": "markdown",
   "metadata": {
    "id": "X9nXGtwHztsa",
    "slideshow": {
     "slide_type": "subslide"
    }
   },
   "source": [
    "### Cómo enviamos argumentos desde una clase hija a su clase padre?"
   ]
  },
  {
   "cell_type": "markdown",
   "metadata": {
    "id": "dydOU4Gqzvlt",
    "slideshow": {
     "slide_type": "slide"
    }
   },
   "source": [
    "##  **\\*args y **kwargs** 👀"
   ]
  },
  {
   "cell_type": "markdown",
   "metadata": {
    "id": "EN3QbZUJ0SIs",
    "slideshow": {
     "slide_type": "subslide"
    }
   },
   "source": [
    "### Ejemplo: Académico"
   ]
  },
  {
   "cell_type": "code",
   "execution_count": 2,
   "metadata": {
    "colab": {
     "base_uri": "https://localhost:8080/",
     "height": 367
    },
    "id": "Kp07xi2U0W6B",
    "outputId": "1caf4c9e-a261-4153-f5a2-baefd8437baf",
    "slideshow": {
     "slide_type": "fragment"
    }
   },
   "outputs": [
    {
     "name": "stdout",
     "output_type": "stream",
     "text": [
      "(<class '__main__.Academico'>, <class '__main__.Docente'>, <class '__main__.Investigador'>, <class 'object'>)\n"
     ]
    },
    {
     "ename": "TypeError",
     "evalue": "__init__() takes 2 positional arguments but 3 were given",
     "output_type": "error",
     "traceback": [
      "\u001b[1;31m---------------------------------------------------------------------------\u001b[0m",
      "\u001b[1;31mTypeError\u001b[0m                                 Traceback (most recent call last)",
      "\u001b[1;32m<ipython-input-2-da0148837794>\u001b[0m in \u001b[0;36m<module>\u001b[1;34m\u001b[0m\n\u001b[0;32m     23\u001b[0m \u001b[1;33m\u001b[0m\u001b[0m\n\u001b[0;32m     24\u001b[0m \u001b[0mprint\u001b[0m\u001b[1;33m(\u001b[0m\u001b[0mAcademico\u001b[0m\u001b[1;33m.\u001b[0m\u001b[0m__mro__\u001b[0m\u001b[1;33m)\u001b[0m\u001b[1;33m\u001b[0m\u001b[1;33m\u001b[0m\u001b[0m\n\u001b[1;32m---> 25\u001b[1;33m \u001b[0mp1\u001b[0m \u001b[1;33m=\u001b[0m \u001b[0mAcademico\u001b[0m\u001b[1;33m(\u001b[0m\u001b[1;34m\"Emilia Donoso\"\u001b[0m\u001b[1;33m,\u001b[0m \u001b[1;34m\"O-5\"\u001b[0m\u001b[1;33m,\u001b[0m \u001b[1;34m\"Inteligencia de Máquina\"\u001b[0m\u001b[1;33m,\u001b[0m \u001b[1;34m\"Ciencia De La Computación\"\u001b[0m\u001b[1;33m)\u001b[0m\u001b[1;33m\u001b[0m\u001b[1;33m\u001b[0m\u001b[0m\n\u001b[0m\u001b[0;32m     26\u001b[0m \u001b[0mprint\u001b[0m\u001b[1;33m(\u001b[0m\u001b[0mp1\u001b[0m\u001b[1;33m.\u001b[0m\u001b[0mnombre\u001b[0m\u001b[1;33m)\u001b[0m\u001b[1;33m\u001b[0m\u001b[1;33m\u001b[0m\u001b[0m\n\u001b[0;32m     27\u001b[0m \u001b[0mprint\u001b[0m\u001b[1;33m(\u001b[0m\u001b[0mp1\u001b[0m\u001b[1;33m.\u001b[0m\u001b[0marea\u001b[0m\u001b[1;33m)\u001b[0m\u001b[1;33m\u001b[0m\u001b[1;33m\u001b[0m\u001b[0m\n",
      "\u001b[1;32m<ipython-input-2-da0148837794>\u001b[0m in \u001b[0;36m__init__\u001b[1;34m(self, nombre, oficina, area_investigacion, departamento)\u001b[0m\n\u001b[0;32m     17\u001b[0m     \u001b[1;32mdef\u001b[0m \u001b[0m__init__\u001b[0m\u001b[1;33m(\u001b[0m\u001b[0mself\u001b[0m\u001b[1;33m,\u001b[0m \u001b[0mnombre\u001b[0m\u001b[1;33m,\u001b[0m \u001b[0moficina\u001b[0m\u001b[1;33m,\u001b[0m \u001b[0marea_investigacion\u001b[0m\u001b[1;33m,\u001b[0m \u001b[0mdepartamento\u001b[0m\u001b[1;33m)\u001b[0m\u001b[1;33m:\u001b[0m\u001b[1;33m\u001b[0m\u001b[1;33m\u001b[0m\u001b[0m\n\u001b[0;32m     18\u001b[0m         \u001b[1;31m# Solo un llamado, con todos los argumentos que tenemos\u001b[0m\u001b[1;33m\u001b[0m\u001b[1;33m\u001b[0m\u001b[1;33m\u001b[0m\u001b[0m\n\u001b[1;32m---> 19\u001b[1;33m         \u001b[0msuper\u001b[0m\u001b[1;33m(\u001b[0m\u001b[1;33m)\u001b[0m\u001b[1;33m.\u001b[0m\u001b[0m__init__\u001b[0m\u001b[1;33m(\u001b[0m\u001b[0mdepartamento\u001b[0m\u001b[1;33m,\u001b[0m \u001b[0marea_investigacion\u001b[0m\u001b[1;33m)\u001b[0m\u001b[1;33m\u001b[0m\u001b[1;33m\u001b[0m\u001b[0m\n\u001b[0m\u001b[0;32m     20\u001b[0m         \u001b[0mself\u001b[0m\u001b[1;33m.\u001b[0m\u001b[0mnombre\u001b[0m \u001b[1;33m=\u001b[0m \u001b[0mnombre\u001b[0m\u001b[1;33m\u001b[0m\u001b[1;33m\u001b[0m\u001b[0m\n\u001b[0;32m     21\u001b[0m         \u001b[0mself\u001b[0m\u001b[1;33m.\u001b[0m\u001b[0moficina\u001b[0m \u001b[1;33m=\u001b[0m \u001b[0moficina\u001b[0m\u001b[1;33m\u001b[0m\u001b[1;33m\u001b[0m\u001b[0m\n",
      "\u001b[1;31mTypeError\u001b[0m: __init__() takes 2 positional arguments but 3 were given"
     ]
    }
   ],
   "source": [
    "class Investigador:\n",
    "    \n",
    "    def __init__(self, area):\n",
    "        print(\"Inicializando investigador\")\n",
    "        self.area = area\n",
    "        self.num_publicaciones = 0\n",
    "        \n",
    "        \n",
    "class Docente:\n",
    "    def __init__(self, departamento):\n",
    "        print(\"Inicializando docente\")\n",
    "        self.departamento = departamento\n",
    "        self.num_cursos = 3\n",
    "        \n",
    "        \n",
    "class Academico(Docente, Investigador):\n",
    "    def __init__(self, nombre, oficina, area_investigacion, departamento):\n",
    "        # Solo un llamado, con todos los argumentos que tenemos\n",
    "        super().__init__(departamento, area_investigacion)\n",
    "        self.nombre = nombre\n",
    "        self.oficina = oficina\n",
    "\n",
    "        \n",
    "print(Academico.__mro__)\n",
    "p1 = Academico(\"Emilia Donoso\", \"O-5\", \"Inteligencia de Máquina\", \"Ciencia De La Computación\")\n",
    "print(p1.nombre)\n",
    "print(p1.area)\n",
    "print(p1.departamento)"
   ]
  },
  {
   "cell_type": "markdown",
   "metadata": {
    "id": "DIdmHOqx0kFU",
    "slideshow": {
     "slide_type": "subslide"
    }
   },
   "source": [
    "### **¿Qué pasó con los argumentos?** 😰"
   ]
  },
  {
   "cell_type": "markdown",
   "metadata": {
    "id": "giY3-st-0tNd",
    "slideshow": {
     "slide_type": "fragment"
    }
   },
   "source": [
    "Ocurre que `super().__init__` no tiene cómo saber cuales argumentos son para que subclase."
   ]
  },
  {
   "cell_type": "markdown",
   "metadata": {
    "id": "6duP78Gq08gF",
    "slideshow": {
     "slide_type": "subslide"
    }
   },
   "source": [
    "###   **\\*args y **kwargs**  👏"
   ]
  },
  {
   "cell_type": "markdown",
   "metadata": {
    "id": "8PIiCn7t1RVg",
    "slideshow": {
     "slide_type": "fragment"
    }
   },
   "source": [
    "`*args` trabaja con argumentos **posicionales**, de largo variable. El operador `*` **desempaqueta** el contenido de `args`. La función o método asigna las variables a partir del orden que trae.\n",
    "\n"
   ]
  },
  {
   "cell_type": "markdown",
   "metadata": {
    "id": "Ouu1B27G1ssR",
    "slideshow": {
     "slide_type": "fragment"
    }
   },
   "source": [
    "`**kwargs` es una secuencia que trabaja **estilo diccionario**. Acá, cada elemento tiene asignado un **keyword**. El operador `**` hace *mapping* de los keywords con los contenidos de kwargs."
   ]
  },
  {
   "cell_type": "markdown",
   "metadata": {
    "id": "eai12rIs2KBL",
    "slideshow": {
     "slide_type": "subslide"
    }
   },
   "source": [
    "## Uso correcto de kwargs y args:"
   ]
  },
  {
   "cell_type": "code",
   "execution_count": 3,
   "metadata": {
    "colab": {
     "base_uri": "https://localhost:8080/"
    },
    "id": "uacndBO32Nhc",
    "outputId": "82329da6-bd0c-4ff9-c760-c74c28581063",
    "slideshow": {
     "slide_type": "fragment"
    }
   },
   "outputs": [
    {
     "name": "stdout",
     "output_type": "stream",
     "text": [
      "(<class '__main__.Academico'>, <class '__main__.Docente'>, <class '__main__.Investigador'>, <class 'object'>)\n",
      "\n",
      "init Academico con nombre Emilia Donoso, oficina O5, kwargs:{'area': 'Inteligencia de Máquina', 'departamento': 'Ciencia De La Computación'}\n",
      "init Docente con depto Ciencia De La Computación y kwargs:{'area': 'Inteligencia de Máquina'}\n",
      "init Investigador con area Inteligencia de Máquina y kwargs:{}\n",
      "\n",
      "Emilia Donoso\n",
      "Inteligencia de Máquina\n",
      "Ciencia De La Computación\n"
     ]
    }
   ],
   "source": [
    "class Investigador:\n",
    "    \n",
    "    def __init__(self, area='', **kwargs):\n",
    "        print(f\"init Investigador con area {area} y kwargs:{kwargs}\")\n",
    "        super().__init__(**kwargs)        \n",
    "        self.area = area\n",
    "        self.num_publicaciones = 0\n",
    "        \n",
    "        \n",
    "class Docente:\n",
    "    \n",
    "    def __init__(self, departamento='', **kwargs):\n",
    "        print(f\"init Docente con depto {departamento} y kwargs:{kwargs}\")\n",
    "        super().__init__(**kwargs)\n",
    "        self.departamento = departamento\n",
    "        self.num_cursos = 3\n",
    "        \n",
    "        \n",
    "class Academico(Docente, Investigador):\n",
    "    \n",
    "    def __init__(self, nombre, oficina, **kwargs):\n",
    "        print(f\"init Academico con nombre {nombre}, oficina {oficina}, kwargs:{kwargs}\")\n",
    "        super().__init__(**kwargs)\n",
    "        self.nombre = nombre\n",
    "        self.oficina = oficina\n",
    "\n",
    "        \n",
    "print(Academico.__mro__)\n",
    "print()\n",
    "p1 = Academico(\"Emilia Donoso\", oficina=\"O5\", area=\"Inteligencia de Máquina\", departamento=\"Ciencia De La Computación\")\n",
    "print()\n",
    "print(p1.nombre)\n",
    "print(p1.area)\n",
    "print(p1.departamento)"
   ]
  },
  {
   "cell_type": "markdown",
   "metadata": {
    "id": "O3wKsn_02wUw",
    "slideshow": {
     "slide_type": "slide"
    }
   },
   "source": [
    "# **Ejercicio de ayudantía**"
   ]
  },
  {
   "cell_type": "markdown",
   "metadata": {
    "id": "7Ecg53I1iEP5",
    "slideshow": {
     "slide_type": "subslide"
    }
   },
   "source": [
    "La tierra media se estremece, y los ejércitos de preparan para la guerra 🗡🛡. La **Comunidad** se prepara para su inevitable lucha con el **Ejercito de Sauron**. La *Comunidad* reune diversos **Personajes** para poder enfrentar el mal mientras se siguen creando **Orcos** en las profundidades de Mordor 🔥.\n",
    " \n",
    "Deberás completar las clases para que la lucha se lleve a cabo y cada clase se comporte como debe. Para esto, te explicamos un poco la dinámica de los personajes:"
   ]
  },
  {
   "cell_type": "markdown",
   "metadata": {
    "slideshow": {
     "slide_type": "subslide"
    }
   },
   "source": [
    "* **Comunidad 🧝‍♀️🧙‍♂️🤴**: Tiene una *lista de integrantes* que posee a distintos *Personajes* que poseen la capacidad de *huir* de la pelea, método que imprime las acciones de cada personaje. Para esto utiliza el método *sumar_refuerzos*, que **agrega** personajes a sus integrantes. Recuerda apoyarte de clases abstractas y @abstractmethod para trabajar a los personajes.\n",
    " \n",
    "  * Legolas 🏹: \n",
    "Posee vida aleatoria entre 5 y 7. Cuando *huye* en realidad se esconde detrás de un árbol a lanzar flechas a su enemigo. \n",
    "  * Aragorn ⚔\n",
    "\tPosee vida aleatoria entre 6 y 10. Aragorn no *huye*, el saca su espada y arremete por Frodo.\n",
    "  * Frodo 💍:\n",
    "\tPosee vida aleatoria entre 3 y 6. Al *huir* Frodo se pone su anillo en el dedo anular para irse pasando desapercibido."
   ]
  },
  {
   "cell_type": "markdown",
   "metadata": {
    "slideshow": {
     "slide_type": "subslide"
    }
   },
   "source": [
    "* **🔥 Ejercito de Sauron 🔥**: Posee una lista de *Orcos* que lucharán para Sauron.\n",
    "  * Orco: Posee el método *pelear*, donde recibirá un personaje enemigo al que le gritará para ahuyentarlo, causándole un daño aleatorio entre 1 y 5, causando que su enemigo *huya*. Los Orcos se **agregan** al EjercitoSauron.\n",
    " \n",
    " \n",
    " \n",
    "Deberás crear la clase **Tierra Media** que compone a **EjercitoSauron** y a **Comunidad** como fueron descritos anteriormente.\n"
   ]
  },
  {
   "cell_type": "markdown",
   "metadata": {
    "slideshow": {
     "slide_type": "subslide"
    }
   },
   "source": [
    "![diagrama-tierra-media](images/Diagrama-TierraMedia.png)"
   ]
  },
  {
   "cell_type": "code",
   "execution_count": 5,
   "metadata": {
    "colab": {
     "base_uri": "https://localhost:8080/"
    },
    "id": "qgI1IXhS2y9z",
    "outputId": "e97502e5-7227-44ee-b8d7-58f94825502b",
    "slideshow": {
     "slide_type": "subslide"
    }
   },
   "outputs": [
    {
     "name": "stdout",
     "output_type": "stream",
     "text": [
      "\n"
     ]
    }
   ],
   "source": [
    "from abc import ABC, abstractmethod\n",
    "from random import randint, choice\n",
    "\n",
    "\n",
    "class TierraMedia:\n",
    "    def __init__(self):\n",
    "        pass\n",
    "\n",
    "\n",
    "class Comunidad:\n",
    "    def __init__(self):\n",
    "        self.integrantes = []\n",
    "\n",
    "    def sumar_refuerzos(self):\n",
    "        pass\n",
    "\n",
    "\n",
    "class Personaje:\n",
    "    pass\n",
    "\n",
    "\n",
    "class Frodo:\n",
    "    pass\n",
    "\n",
    "\n",
    "class Legolas:\n",
    "    pass\n",
    "\n",
    "\n",
    "class Aragorn:\n",
    "    pass\n",
    "\n",
    "\n",
    "class EjercitoSauron:\n",
    "    pass\n",
    "\n",
    "\n",
    "class Orco:\n",
    "    pass\n",
    "\n",
    "# No modificar, descomentar cuando termines las Clases.\n",
    "\"\"\"\n",
    "mundo = TierraMedia()\n",
    "\n",
    "orcos = [Orco() for i in range(10)]\n",
    "integrantes = [Legolas(inteligencia=10, fuerza=7, astucia=5), \n",
    "               Aragorn(inteligencia=5, fuerza=10, astucia=8), \n",
    "               Frodo(inteligencia=7, fuerza=3, astucia=10)]\n",
    "mundo.ejercito.orcos = orcos\n",
    "mundo.comunidad.integrantes = integrantes\n",
    "\n",
    "for personaje in mundo.comunidad.integrantes:\n",
    "    orco = choice(mundo.ejercito.orcos)\n",
    "    orco.pelear(personaje)\n",
    "\"\"\"\n",
    "print()"
   ]
  }
 ],
 "metadata": {
  "celltoolbar": "Slideshow",
  "colab": {
   "collapsed_sections": [],
   "name": "ayu.ipynb",
   "provenance": [],
   "toc_visible": true
  },
  "kernelspec": {
   "display_name": "Python 3",
   "language": "python",
   "name": "python3"
  },
  "language_info": {
   "codemirror_mode": {
    "name": "ipython",
    "version": 3
   },
   "file_extension": ".py",
   "mimetype": "text/x-python",
   "name": "python",
   "nbconvert_exporter": "python",
   "pygments_lexer": "ipython3",
   "version": "3.7.4"
  }
 },
 "nbformat": 4,
 "nbformat_minor": 1
}
