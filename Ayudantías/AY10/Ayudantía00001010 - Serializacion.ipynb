{
 "cells": [
  {
   "cell_type": "markdown",
   "metadata": {
    "slideshow": {
     "slide_type": "slide"
    }
   },
   "source": [
    "# Ayudantía 0000 1010: I/O y Serialización\n",
    "### Autores: Pablo Araneda, Julio Huerta, Caua Santiago Paz\n"
   ]
  },
  {
   "cell_type": "markdown",
   "metadata": {
    "slideshow": {
     "slide_type": "slide"
    }
   },
   "source": [
    "# Manejo de Bytes\n",
    "\n",
    "Tu amigo te ha hablado sobre el NS Pro, también llamado como el Nuevo Sonido Pro. Tú como siempre, dudas un poco de estos rumores, pero tu amigo tiene pruebas y te manda un archivo de audio. Sin embargo, el audio está alterado y según él, este posee 10 veces más velocidad de modo que nadie lo pueda escuchar. Es aquí cuando con tus habilidades de computación te dispones a volver ese audio a la normalidad. Lo primero que haces es preguntarle a tu amigo si sabe qué tipo de archivo es. Él te dice que es un \".wav\", un formato que también se llama \"wave\" y tú conoces muy bien."
   ]
  },
  {
   "cell_type": "markdown",
   "metadata": {
    "slideshow": {
     "slide_type": "subslide"
    }
   },
   "source": [
    "Debido a lo anterior, te dispones a averiguar sobre este tipo de dato, y descubres la siguiente imágen:\n",
    "![title](data/imgs/wav-sound-format.gif)\n",
    "Además te encuentras información mas detallada en una pagina web: http://soundfile.sapp.org/doc/WaveFormat/"
   ]
  },
  {
   "cell_type": "markdown",
   "metadata": {
    "slideshow": {
     "slide_type": "subslide"
    }
   },
   "source": [
    "### lectura de archivos\n",
    "\n",
    "Primero debes ver si coincide la información del archivo con lo que dice la tabla, para ver si lo estás haciendo bien, por lo que debes cargar el archivo. Extraemos solo los primeros 44 bytes (la metadata) porque el resto es solo el contenido del audio en sí."
   ]
  },
  {
   "cell_type": "code",
   "execution_count": null,
   "metadata": {
    "slideshow": {
     "slide_type": "fragment"
    }
   },
   "outputs": [],
   "source": [
    "from os.path import join as op\n",
    "\n",
    "with open(op(\"data\", \"dog.wav\"), \"rb\") as file:  # abrimos en modo de lectura de bytes\n",
    "    file_header_bytes = file.read(44)"
   ]
  },
  {
   "cell_type": "markdown",
   "metadata": {
    "slideshow": {
     "slide_type": "fragment"
    }
   },
   "source": [
    "Ahora podemos ver el contenido de estos bytes:"
   ]
  },
  {
   "cell_type": "code",
   "execution_count": null,
   "metadata": {
    "slideshow": {
     "slide_type": "fragment"
    }
   },
   "outputs": [],
   "source": [
    "print(file_header_bytes)\n",
    "print(\"\\n\")\n",
    "print(file_header_bytes[:4].decode(\"ASCII\"))\n",
    "print(file_header_bytes[12:16].decode(\"ASCII\"))\n",
    "print(file_header_bytes[36:40].decode(\"ASCII\"))"
   ]
  },
  {
   "cell_type": "markdown",
   "metadata": {
    "slideshow": {
     "slide_type": "fragment"
    }
   },
   "source": [
    "Como se puede ver están los bytes en ASCII de \"RIFF\", \"fmt \", y \"data\". Ahora podemos empezar a extraer los bytes y convertirlos"
   ]
  },
  {
   "cell_type": "markdown",
   "metadata": {
    "slideshow": {
     "slide_type": "subslide"
    }
   },
   "source": [
    "## Endianess (byteorder)\n",
    "De la tabla del formato wave se tiene también que los números están en little endian, pero ¿Que significa esto?\n",
    "\n",
    "El término inglés endianness (\"extremidad\") designa el formato en el que se almacenan los datos de más de un byte en un ordenador. El problema es similar a los idiomas en los que se escribe de derecha a izquierda, como el árabe, o el hebreo, frente a los que se escriben de izquierda a derecha."
   ]
  },
  {
   "cell_type": "markdown",
   "metadata": {
    "slideshow": {
     "slide_type": "subslide"
    }
   },
   "source": [
    "![title](data/imgs/endianess.png)"
   ]
  },
  {
   "cell_type": "markdown",
   "metadata": {
    "slideshow": {
     "slide_type": "subslide"
    }
   },
   "source": [
    "## big-endian\n",
    "Formato en el que el byte más significativo se almacena en primer lugar. Los demás bytes le siguen en orden de significado descendente. Por ejemplo el numero 123 sería representado como 123 y la letra \"A\" en formato unicode sería X'0041'"
   ]
  },
  {
   "cell_type": "markdown",
   "metadata": {
    "slideshow": {
     "slide_type": "fragment"
    }
   },
   "source": [
    "## little-endian\n",
    "Formato en el que el byte menos significativo se almacena en primer lugar. Los demás bytes le siguen en orden de significado ascendente. Por ejemplo el numero 123 sería representado como 321. La letra \"A\" en formato unicode sería X'4100'"
   ]
  },
  {
   "cell_type": "markdown",
   "metadata": {
    "slideshow": {
     "slide_type": "subslide"
    }
   },
   "source": [
    "Volviendo a nuestro ejemplo, teníamos que los que los numeros de la tabla wave estan en formato little-endian. Por ejemplo, podemos ver la cantidad de canales (1 si es mono y 2 es estereo), que en la tabla está como \"NumChannels\". Esta se encuentra en el byte 22 y cubre 2 bytes, podemos imprimir estos valores:"
   ]
  },
  {
   "cell_type": "code",
   "execution_count": null,
   "metadata": {
    "slideshow": {
     "slide_type": "fragment"
    }
   },
   "outputs": [],
   "source": [
    "num_channels_bytes = file_header_bytes[22:22+2]\n",
    "print(num_channels_bytes)"
   ]
  },
  {
   "cell_type": "markdown",
   "metadata": {
    "slideshow": {
     "slide_type": "fragment"
    }
   },
   "source": [
    "Los valores que se muestran están en hexadecimal (el \"\\x\" indica eso). Y son dos hexadecimales, \"02\" y \"00\", debido a que el byteorder indicado en la tabla es little, el primer byte (el de más a la derecha) es el de menor valor."
   ]
  },
  {
   "cell_type": "markdown",
   "metadata": {
    "slideshow": {
     "slide_type": "subslide"
    }
   },
   "source": [
    "## from_bytes\n",
    "```int.from_bytes()``` nos permite convertir la información en bytes a un número. Con esto podemos pasar a ver la cantidad de canales, hay que recordar que deberemos de usar el byteorder little para leerlos en el orden correcto (ya que la tabla de wave dice que es así).\n",
    "\n",
    "```int.from_bytes()``` recibe dos parámetros, los bytes a convertir y el orden en el que vienen"
   ]
  },
  {
   "cell_type": "code",
   "execution_count": null,
   "metadata": {
    "slideshow": {
     "slide_type": "fragment"
    }
   },
   "outputs": [],
   "source": [
    "num_channels_number = int.from_bytes(num_channels_bytes, byteorder=\"little\")\n",
    "print(\"canales:\", num_channels_number)"
   ]
  },
  {
   "cell_type": "markdown",
   "metadata": {
    "slideshow": {
     "slide_type": "fragment"
    }
   },
   "source": [
    "Como se puede ver, se poseen dos canales, por lo que el audio es estereo. Podemos ver que pasa si le ponemos el byteorder incorrecto:"
   ]
  },
  {
   "cell_type": "code",
   "execution_count": null,
   "metadata": {
    "slideshow": {
     "slide_type": "fragment"
    }
   },
   "outputs": [],
   "source": [
    "num_channels_bad_number = int.from_bytes(num_channels_bytes, byteorder=\"big\")\n",
    "print(\"canales:\", num_channels_bad_number)"
   ]
  },
  {
   "cell_type": "markdown",
   "metadata": {
    "slideshow": {
     "slide_type": "subslide"
    }
   },
   "source": [
    "Una vez reconocido el endianess, debes encargarte de convertir los valores necesarios para disminuir la frecuencia del sonido 10 veces, primero veamos la frecuencia que tiene el sonido.\n",
    "\n",
    "En la tabla, la frecuencia se llama \"SampleRate\" (Ratio de muestreo), y está en el byte 24 y cubre 4 bytes"
   ]
  },
  {
   "cell_type": "code",
   "execution_count": null,
   "metadata": {
    "slideshow": {
     "slide_type": "fragment"
    }
   },
   "outputs": [],
   "source": [
    "frecuencia_bytes = file_header_bytes[24:24+4]\n",
    "frecuencia = int.from_bytes(frecuencia_bytes, byteorder=\"little\")\n",
    "print(\"frecuencia:\", frecuencia)"
   ]
  },
  {
   "cell_type": "markdown",
   "metadata": {
    "slideshow": {
     "slide_type": "subslide"
    }
   },
   "source": [
    "Ahora que tenemos la frecuencia, podemos ir a la tabla y ver qué valores se relacionan con esta. Es el ByteRate que describe el numero de bytes que se reproducen por sample, la formula es la siguiente:\n",
    "\n",
    "ByteRate = SampleRate * NumChannels * BitsPerSample/8\n",
    "\n",
    "Afortunadamente no es necesario realizar todo este calculo, podemos leer el archivo, obtener el valor del ByteRate y dividirlo por 10, ya que lo que estamos haciendo es unicamente disminuir el SampleRate de su fórmula. El ByteRate se encuentra en el byte 28, y cubre 4 bytes"
   ]
  },
  {
   "cell_type": "code",
   "execution_count": null,
   "metadata": {
    "slideshow": {
     "slide_type": "fragment"
    }
   },
   "outputs": [],
   "source": [
    "byte_rate_bytes = file_header_bytes[28:28+4]\n",
    "byte_rate = int.from_bytes(byte_rate_bytes, byteorder=\"little\")\n",
    "print(\"ByteRate:\", byte_rate)"
   ]
  },
  {
   "cell_type": "markdown",
   "metadata": {
    "slideshow": {
     "slide_type": "subslide"
    }
   },
   "source": [
    "## to_bytes\n",
    "\n",
    "Ahora tenemos los valores, pero nos falta poder convertirlos a bytes de nuevo y escribirlos en el archivo. Primero podemos copiar el header y usarlo de base. Lo podemos convertir a un bytearray para poder trabajar de forma mas facil con sus datos"
   ]
  },
  {
   "cell_type": "code",
   "execution_count": null,
   "metadata": {
    "slideshow": {
     "slide_type": "fragment"
    }
   },
   "outputs": [],
   "source": [
    "nuevo_header_bytes = bytearray(file_header_bytes)\n",
    "print(nuevo_header_bytes)"
   ]
  },
  {
   "cell_type": "markdown",
   "metadata": {
    "slideshow": {
     "slide_type": "subslide"
    }
   },
   "source": [
    "Debemos sobreescribir los bytes del ByteRate y la frecuencia, por ahora tenemos los valores como números, así que necesitamos convertirlos. Afortunadamente, existe la función ```int.to_bytes()```, que nos permite realizar esta conversion.\n",
    "\n",
    "```int.to_bytes()``` recibe 2 parámetros que usaremos:\n",
    "* La cantidad de bytes que usará el numero convertido\n",
    "* El ```byteorder``` (endianess)\n",
    "\n",
    "El valor del número se entrega en la parte de \"int\", por ejemplo:"
   ]
  },
  {
   "cell_type": "code",
   "execution_count": null,
   "metadata": {
    "slideshow": {
     "slide_type": "fragment"
    }
   },
   "outputs": [],
   "source": [
    "numero_a_convertir = 2233\n",
    "numero_a_convertir.to_bytes(4, byteorder=\"big\")"
   ]
  },
  {
   "cell_type": "markdown",
   "metadata": {
    "slideshow": {
     "slide_type": "subslide"
    }
   },
   "source": [
    "Se puede hacer esto en una línea, pero procurando usar un paréntesis alrededor del número:"
   ]
  },
  {
   "cell_type": "code",
   "execution_count": null,
   "metadata": {
    "slideshow": {
     "slide_type": "fragment"
    }
   },
   "outputs": [],
   "source": [
    "(2233).to_bytes(4, byteorder=\"big\")"
   ]
  },
  {
   "cell_type": "markdown",
   "metadata": {
    "slideshow": {
     "slide_type": "subslide"
    }
   },
   "source": [
    "Ahora podemos pasar a convertir los valores de interes a bytes "
   ]
  },
  {
   "cell_type": "code",
   "execution_count": null,
   "metadata": {
    "slideshow": {
     "slide_type": "fragment"
    }
   },
   "outputs": [],
   "source": [
    "# Frecuencia\n",
    "nueva_frecuencia = frecuencia//10  # división entera\n",
    "bytes_frecuencia = nueva_frecuencia.to_bytes(4, byteorder=\"little\")\n",
    "nuevo_header_bytes[24:24+4] = bytes_frecuencia\n",
    "\n",
    "# Byte Rate\n",
    "nuevo_byte_rate = byte_rate//10  # división entera\n",
    "bytes_byte_rate = nuevo_byte_rate.to_bytes(4, byteorder=\"little\")\n",
    "nuevo_header_bytes[28:28+4] = bytes_byte_rate"
   ]
  },
  {
   "cell_type": "markdown",
   "metadata": {
    "slideshow": {
     "slide_type": "subslide"
    }
   },
   "source": [
    "## Escritura con bytes\n",
    "Una vez actualizada la información, podemos finalmente escribir el nuevo archivo:"
   ]
  },
  {
   "cell_type": "code",
   "execution_count": null,
   "metadata": {
    "slideshow": {
     "slide_type": "fragment"
    }
   },
   "outputs": [],
   "source": [
    "file_in = open(op(\"data\",\"dog.wav\"), \"rb\")  # abrimos en modo de lectura de bytes\n",
    "file_out = open(op(\"data\",\"dog-slow.wav\"), \"wb\")  # abrimos en modo de escritura de bytes\n",
    "file_out.write(nuevo_header_bytes)\n",
    "\n",
    "file_in.seek(44)  # avanzamos 44 bytes, ya que ya escribimos el header alterado\n",
    "\n",
    "bytes_audio = file_in.read(4)  # vamos leyendo de a poco\n",
    "while(len(bytes_audio)):\n",
    "    file_out.write(bytes_audio)\n",
    "    bytes_audio = file_in.read(4)  # vamos leyendo de a poco\n",
    "\n",
    "# Cerramos los archivos    \n",
    "file_in.close()\n",
    "file_out.close()"
   ]
  },
  {
   "cell_type": "markdown",
   "metadata": {
    "slideshow": {
     "slide_type": "slide"
    }
   },
   "source": [
    "\n",
    "# Serialización\n",
    "¿Qué significa serializar? Consiste en un proceso de codificación de un objeto en un medio de almacenamiento"
   ]
  },
  {
   "cell_type": "markdown",
   "metadata": {
    "slideshow": {
     "slide_type": "subslide"
    }
   },
   "source": [
    "# Pickle vs JSON\n",
    "\n",
    "![Resumen](data/imgs/resumen.png)"
   ]
  },
  {
   "cell_type": "markdown",
   "metadata": {
    "slideshow": {
     "slide_type": "subslide"
    }
   },
   "source": [
    "### Pickle\n",
    "pickle.dump vs pickle.dumps, ¿cúal la diferencia?"
   ]
  },
  {
   "cell_type": "markdown",
   "metadata": {
    "slideshow": {
     "slide_type": "fragment"
    }
   },
   "source": [
    "```python\n",
    "import pickle\n",
    "\n",
    "```\n",
    "\n",
    "```python\n",
    "pickle.dumps(obj): Retorna la representación de pickle del objeto como bytes en el lugar de escribirla en un archivo.\n",
    "```\n",
    "```python\n",
    "pickle.dump(obj, file): Escribe la representación del objeto como pickle en el archivo. \n",
    "```\n",
    "fuente https://docs.python.org/3/library/pickle.html"
   ]
  },
  {
   "cell_type": "markdown",
   "metadata": {
    "slideshow": {
     "slide_type": "subslide"
    }
   },
   "source": [
    "Se puede deserializar con ```Pickle.loads``` y ```Pickle.load``` respectivamente."
   ]
  },
  {
   "cell_type": "markdown",
   "metadata": {
    "slideshow": {
     "slide_type": "subslide"
    }
   },
   "source": [
    "### JSON"
   ]
  },
  {
   "cell_type": "markdown",
   "metadata": {
    "slideshow": {
     "slide_type": "fragment"
    }
   },
   "source": [
    "***json.load***s"
   ]
  },
  {
   "cell_type": "markdown",
   "metadata": {
    "slideshow": {
     "slide_type": "fragment"
    }
   },
   "source": [
    "```python\n",
    "json.load(file, object_hook=None **kw)\n",
    "```"
   ]
  },
  {
   "cell_type": "markdown",
   "metadata": {
    "slideshow": {
     "slide_type": "subslide"
    }
   },
   "source": [
    "***Object_hook***"
   ]
  },
  {
   "cell_type": "markdown",
   "metadata": {
    "slideshow": {
     "slide_type": "fragment"
    }
   },
   "source": [
    "En pickle ocupamos el __\\_\\_setstate\\_\\___ y __\\_\\_getstate\\_\\___ para personalizar nuestra serializacion, ya en json __object_hook__ y __\\_\\_getstate\\_\\___"
   ]
  },
  {
   "cell_type": "markdown",
   "metadata": {
    "slideshow": {
     "slide_type": "fragment"
    }
   },
   "source": [
    "La unica diferencia es que para hacer el __\\_\\_getstate\\_\\___ de json hay que heredar de json.JSONEncoder y sobreescribir el método default"
   ]
  },
  {
   "cell_type": "markdown",
   "metadata": {
    "slideshow": {
     "slide_type": "subslide"
    }
   },
   "source": [
    "***Con ese mini repaso, ya estan listos para el ejercicio***"
   ]
  },
  {
   "cell_type": "markdown",
   "metadata": {
    "slideshow": {
     "slide_type": "slide"
    }
   },
   "source": [
    "### Contexto\n",
    "Parte Bytes: En esta parte deberás reparar un archivo cuyos bytes fueron manipulados, con el fin\n",
    "de obtener un archivo de imagen con los datos que necesitas del ayudante jefe coordinador Enzo\n",
    "Tamburini. Aplicando tus conocimientos de manipulación de bytes encontrarás el usuario y clave\n",
    "necesarios para conocer a Enzo.\n",
    "\n",
    "Parte Pickle: En esta parte deberás extraer información de los ayudantes de la sección de Docencia, donde se encuentran los datos que necesitas del ayudante jefe de docencia Dante Pinto.\n",
    "Aplicando tus conocimientos de serialización mediante pickle encontrarás el usuario y clave necesario para conocer a Dr. Pinto Dante."
   ]
  },
  {
   "cell_type": "markdown",
   "metadata": {
    "slideshow": {
     "slide_type": "subslide"
    }
   },
   "source": [
    "### Parte Pickle"
   ]
  },
  {
   "cell_type": "code",
   "execution_count": null,
   "metadata": {
    "slideshow": {
     "slide_type": "fragment"
    }
   },
   "outputs": [],
   "source": [
    "import pickle"
   ]
  },
  {
   "cell_type": "markdown",
   "metadata": {
    "slideshow": {
     "slide_type": "subslide"
    }
   },
   "source": [
    "```python\n",
    "def __setstate__(self, estado): \n",
    "```\n",
    "En este método debes personalizar la deserialización\n",
    "que hará pickle. Primero debes recordar que el argumento estado de este método es un\n",
    "diccionario cuyas llaves son los nombres de cada atributo y el contenido es el valor del\n",
    "atributo correspondiente.\n",
    "En este método se debe encontrar una instancia de AyudanteJefe al interior de la lista\n",
    "de ayudantes (almacenada bajo la llave ayudantes_normales). Para encontrarla, debes\n",
    "recordar que esta lista contiene instancias de la clase Ayudante y AyudanteJefe y ambas\n",
    "cuentan con un atributo llamado cargo que será igual a \"Jefe\" sólo si la instancia es de\n",
    "la clase AyudanteJefe.\n",
    "Una vez encontrado el AyudanteJefe, debes sacar la instancia de la lista y asignarlo al\n",
    "atributo ayudante_jefe de forma que la lista final en ayudantes_normales contenga las\n",
    "instancias de todos los ayudantes que no son jefes.\n"
   ]
  },
  {
   "cell_type": "code",
   "execution_count": null,
   "metadata": {
    "slideshow": {
     "slide_type": "subslide"
    }
   },
   "outputs": [],
   "source": [
    "# ETAPA DE CARGA #\n",
    "class EquipoDocencia:\n",
    "    def __init__(self):\n",
    "        self.ayudantes_normales = []\n",
    "        self.ayudante_jefe = None\n",
    "\n",
    "    def __setstate__(self, estado):  # acá se filtra la lista del objeto al deserializarlo\n",
    "        pass"
   ]
  },
  {
   "cell_type": "markdown",
   "metadata": {
    "slideshow": {
     "slide_type": "subslide"
    }
   },
   "source": [
    "```python\n",
    "• def cargar_instancia(ruta):\n",
    "```\n",
    "Recibe la ruta que corresponde a la ubicación de un archivo a cargar, y retorna el archivo cargado usando pickle"
   ]
  },
  {
   "cell_type": "code",
   "execution_count": null,
   "metadata": {
    "slideshow": {
     "slide_type": "subslide"
    }
   },
   "outputs": [],
   "source": [
    "def cargar_instancia(ruta):  # Se carga la instancia de EquipoDocencia\n",
    "    pass"
   ]
  },
  {
   "cell_type": "code",
   "execution_count": null,
   "metadata": {
    "slideshow": {
     "slide_type": "subslide"
    }
   },
   "outputs": [],
   "source": [
    "# ETAPA DE GUARDADO #\n",
    "class Ayudante:\n",
    "    def __init__(self, cargo, usuario_github, pokemon_favorito, pizza_favorita):\n",
    "        self.cargo = cargo\n",
    "        self.usuario_github = usuario_github\n",
    "        self.pokemon_favorito = pokemon_favorito\n",
    "        self.pizza_favorita = pizza_favorita\n",
    "\n",
    "    def __repr__(self):\n",
    "        mensaje = f\"¡Hola! soy {self.usuario_github} y tengo el cargo de {self.cargo}\"\n",
    "        return mensaje"
   ]
  },
  {
   "cell_type": "markdown",
   "metadata": {
    "slideshow": {
     "slide_type": "subslide"
    }
   },
   "source": [
    "```python\n",
    "• class AyudanteJefe(Ayudante):\n",
    "```\n",
    "Corresponde al ayudante jefe de docencia. Hereda de\n",
    "Ayudante. Debes modificar uno de sus métodos."
   ]
  },
  {
   "cell_type": "markdown",
   "metadata": {
    "slideshow": {
     "slide_type": "fragment"
    }
   },
   "source": [
    "```python\n",
    "◦ def __getstate__(self):\n",
    "```\n",
    "En este método debes personalizar la serialización, modificando el estado de los atributos que se guardarán de la clase. Específicamente, debes asegurarte\n",
    "de que pizza_favorita sea None, trabajo_restante sea igual a \"Nada\" y experto sea\n",
    "igual a \"TortugaNinja\"."
   ]
  },
  {
   "cell_type": "code",
   "execution_count": null,
   "metadata": {
    "slideshow": {
     "slide_type": "subslide"
    }
   },
   "outputs": [],
   "source": [
    "class AyudanteJefe(Ayudante):\n",
    "    def __init__(self, cargo, usuario_github, pokemon_favorito, pizza_favorita, trabajo_restante, experto, carrera):\n",
    "        super().__init__(cargo, usuario_github, pokemon_favorito, pizza_favorita)\n",
    "        self.trabajo_restante = trabajo_restante\n",
    "        self.experto = experto\n",
    "        self.carrera = carrera\n",
    "\n",
    "    def __getstate__(self):  # cambios que sólo se hacen a AyudanteJefe\n",
    "        pass"
   ]
  },
  {
   "cell_type": "markdown",
   "metadata": {
    "slideshow": {
     "slide_type": "fragment"
    }
   },
   "source": [
    "```python\n",
    "• def guardar_instancia(ruta, objeto_lista_ayudantes):\n",
    "```\n",
    "Recibe la ruta que corresponde a la ubicación de un archivo vacío llamado equipo_corregido.bin y una instancia de\n",
    "EquipoDocencia. La función debe serializar la instancia en la ruta de el archivo nuevo, mediante\n",
    "pickle, y luego retornar True."
   ]
  },
  {
   "cell_type": "code",
   "execution_count": null,
   "metadata": {
    "slideshow": {
     "slide_type": "subslide"
    }
   },
   "outputs": [],
   "source": [
    "def guardar_instancia(ruta, instancia_equipo_docencia):  # Se guarda instancia de EquipoDocencia\n",
    "    pass"
   ]
  },
  {
   "cell_type": "markdown",
   "metadata": {
    "slideshow": {
     "slide_type": "subslide"
    }
   },
   "source": [
    "### Parte Bytes\n",
    "\n",
    "La información del ayudante jefe coordinador se encuentra corrompida en un archivo cuyos bytes fueron\n",
    "manipulados. Tendrás que reparar dicho archivo para recuperar los datos del ayudante, completando la\n",
    "función reparar_usuario que se encuentra dentro del archivo reparar_bytes.py.\n",
    "def reparar_usuario(ruta): Esta función recibe la ruta del archivo a reparar, lee el archivo\n",
    "como bytes y mediante un algoritmo los modifica para escribir los bytes originales en el archivo\n",
    "user_info.bmp. El algoritmo recorre segmentos de 32 bytes contiguos y para cada uno sabes\n",
    "que:"
   ]
  },
  {
   "cell_type": "markdown",
   "metadata": {
    "slideshow": {
     "slide_type": "subslide"
    }
   },
   "source": [
    "1. El primer byte corresponde a un entero que puede ser 1 o 0, los siguientes 16 bytes pertenecen\n",
    "al archivo original y los últimos 15 NO pertenecen al archivo original.\n",
    "2. Si el primer byte es un 1, significa que los siguientes 16 bytes han sido invertidos, mientras que\n",
    "si es un 0, entonces están en el orden original. Por invertido, se refiere a que si la secuencia es\n",
    "1 2 3 4, entonces la original es 4 3 2 1.\n",
    "\n",
    "3. Es necesario extraer los bytes originales al archivo en el orden que corresponda. Luego se avanza\n",
    "al siguiente segmento de 32 bytes.\n",
    "\n",
    "Si se concatenan las porciones de bytes extraídas, respetando el orden de los segmentos de 32 bytes, se\n",
    "obtiene el contenido completo que se escribe en el archivo de imagen user_info.bmp. Al abrir la imagen,\n",
    "si se aplicó el algoritmo correctamente, se revelarán los datos del ayudante jefe."
   ]
  },
  {
   "cell_type": "code",
   "execution_count": null,
   "metadata": {
    "slideshow": {
     "slide_type": "subslide"
    }
   },
   "outputs": [],
   "source": [
    "def reparar_imagen(ruta):\n",
    "    # Completar esta función\n",
    "    pass\n",
    "\n",
    "if __name__ == '__main__':\n",
    "    try:\n",
    "        reparar_imagen(op('data', 'Parte Bytes', 'imagen_danada.xyz'))\n",
    "        print(\"Contraseña reparada\")\n",
    "    except Exception as error:\n",
    "        print(f'Error: {error}')\n",
    "        print(\"No has podido obtener la información del Ayudante!\")"
   ]
  }
 ],
 "metadata": {
  "celltoolbar": "Slideshow",
  "kernelspec": {
   "display_name": "Python 3",
   "language": "python",
   "name": "python3"
  },
  "language_info": {
   "codemirror_mode": {
    "name": "ipython",
    "version": 3
   },
   "file_extension": ".py",
   "mimetype": "text/x-python",
   "name": "python",
   "nbconvert_exporter": "python",
   "pygments_lexer": "ipython3",
   "version": "3.7.4"
  }
 },
 "nbformat": 4,
 "nbformat_minor": 5
}
