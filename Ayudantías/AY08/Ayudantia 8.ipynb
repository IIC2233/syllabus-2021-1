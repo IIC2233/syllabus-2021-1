{
 "cells": [
  {
   "cell_type": "markdown",
   "metadata": {
    "slideshow": {
     "slide_type": "slide"
    }
   },
   "source": [
    "# AY08 - Iterables, Iteradores y builtins\n",
    "\n",
    "### Autores:  Caua Paz, ~~Strovelight~~ Pablo Araneda, Julio Huerta"
   ]
  },
  {
   "cell_type": "markdown",
   "metadata": {
    "slideshow": {
     "slide_type": "slide"
    }
   },
   "source": [
    "## Built-ins \n",
    "### ```__getitem__```, ```enumerate```, ```zip```\n",
    "\n",
    "Los _built-in_ son funciones que ya vienen implementadas en python. Estas funciones se pueden usar también en clases creadas por tí. Por ejemplo ```__getitem__``` es un _built-in_, solo que usualmente no se conoce por ese nombre"
   ]
  },
  {
   "cell_type": "code",
   "execution_count": null,
   "metadata": {
    "slideshow": {
     "slide_type": "fragment"
    }
   },
   "outputs": [],
   "source": [
    "# probemos el __getitem__ de una funcion\n",
    "lista_numerica = [2,2,3,3]\n",
    "print(f\"primer elemento de la lista: {lista_numerica[0]}\")"
   ]
  },
  {
   "cell_type": "markdown",
   "metadata": {
    "slideshow": {
     "slide_type": "subslide"
    }
   },
   "source": [
    "El ```__getitem__``` es el que te permite acceder a un elemento de la lista de lista. Veamos ahora si intenramos crear una clase sin eso"
   ]
  },
  {
   "cell_type": "code",
   "execution_count": null,
   "metadata": {
    "slideshow": {
     "slide_type": "fragment"
    }
   },
   "outputs": [],
   "source": [
    "class CalendarioSimple:\n",
    "    def __init__(self, dia_hoy, mes_hoy):\n",
    "        self.dia_hoy = dia_hoy\n",
    "        self.mes_hoy = mes_hoy"
   ]
  },
  {
   "cell_type": "code",
   "execution_count": null,
   "metadata": {
    "slideshow": {
     "slide_type": "fragment"
    }
   },
   "outputs": [],
   "source": [
    "MiCalendario = CalendarioSimple(10,3)\n",
    "MiCalendario[0]"
   ]
  },
  {
   "cell_type": "markdown",
   "metadata": {
    "slideshow": {
     "slide_type": "subslide"
    }
   },
   "source": [
    "Como se puede ver, al no tener el ```__getitem__```, el programa se cae. Veamos que pasa si le creamos la función"
   ]
  },
  {
   "cell_type": "code",
   "execution_count": null,
   "metadata": {
    "slideshow": {
     "slide_type": "fragment"
    }
   },
   "outputs": [],
   "source": [
    "class CalendarioDeHoy:\n",
    "    def __init__(self, dia_hoy, mes_hoy):\n",
    "        self.dia_hoy = dia_hoy\n",
    "        self.mes_hoy = mes_hoy\n",
    "    def __getitem__(self, index):\n",
    "        return f\"El dia es {self.dia_hoy+index}, y el mes es {self.mes_hoy}\""
   ]
  },
  {
   "cell_type": "code",
   "execution_count": null,
   "metadata": {
    "slideshow": {
     "slide_type": "subslide"
    }
   },
   "outputs": [],
   "source": [
    "MiCalendario = CalendarioDeHoy(10,3)\n",
    "print(f\"consulta del elemento 0: {MiCalendario[0]}\")\n",
    "print(f\"consulta del elemento 10: {MiCalendario[10]}\")\n",
    "print(f\"consulta del elemento -9: {MiCalendario[-9]}\")\n",
    "print(f\"consulta del elemento 100: {MiCalendario[100]}\")\n",
    "print(f\"consulta del elemento -100: {MiCalendario[-100]}\")"
   ]
  },
  {
   "cell_type": "markdown",
   "metadata": {
    "slideshow": {
     "slide_type": "subslide"
    }
   },
   "source": [
    "Como se puede observar, el calendario funciona parcialmente para consultar días pasados y actuales, pero no cambia de mes. Necesitamos la información de los días del mes para poder mostrar mejor la fecha. Para esta tediosa tarea le pediste a un amigo que te de la información, y te la dio de la siguiente forma:"
   ]
  },
  {
   "cell_type": "code",
   "execution_count": null,
   "metadata": {
    "slideshow": {
     "slide_type": "fragment"
    }
   },
   "outputs": [],
   "source": [
    "meses = [\"Enero\", \"Febrero\", \"Marzo\", \"Abril\", \"Mayo\", \"Junio\", \"Julio\", \"Agosto\", \"Septiembre\", \"Octubre\", \"Noviembre\", \"Diciembre\"]\n",
    "dias_mes = [  31,        28,      31,      30,     31,      30,      31,       31,           30,        31,          30,          31]"
   ]
  },
  {
   "cell_type": "markdown",
   "metadata": {
    "slideshow": {
     "slide_type": "fragment"
    }
   },
   "source": [
    "Lamentablemente, no te sirve mucho la forma en la que tu amigo te dio la información. Sin embargo, aquí es cuando ```zip``` y ```enumerate``` llegan al rescate. Primero veamos ```enumerate```."
   ]
  },
  {
   "cell_type": "markdown",
   "metadata": {
    "slideshow": {
     "slide_type": "subslide"
    }
   },
   "source": [
    "## ```enumerate```\n",
    "```enumerate``` retorna una tupla con un valor que va enumerando (contando crecientemente) a partir del primer elemento. Como usualmente en la forma de escritura de mes, enero es 1, y diciembre 12, queremos partir contando el mes de 1. Sé que esto puede sonar mal para los que cuentan de 0, pero creo que la mayoría al decir mes 3, pensó en marzo. Puede que este caso parezca problemático, pero ```enumerate``` también cubre este tipo de casos:"
   ]
  },
  {
   "cell_type": "code",
   "execution_count": null,
   "metadata": {
    "slideshow": {
     "slide_type": "fragment"
    }
   },
   "outputs": [],
   "source": [
    "numero_primer_mes = 1\n",
    "for numero_mes, mes in enumerate(meses, numero_primer_mes):\n",
    "    print(f\"El mes numero {numero_mes} es {mes}\")"
   ]
  },
  {
   "cell_type": "markdown",
   "metadata": {
    "slideshow": {
     "slide_type": "subslide"
    }
   },
   "source": [
    "Enumerate funciona tal que el primer parámetro sea el iterable, y el segundo sea con qué valor empezar a contar (por defecto es 0). Ahora con la información anterior, podemos crear diccionarios tal que se pueda acceder al día con facilidad"
   ]
  },
  {
   "cell_type": "code",
   "execution_count": null,
   "metadata": {
    "slideshow": {
     "slide_type": "fragment"
    }
   },
   "outputs": [],
   "source": [
    "diccionario_nombre_mes = dict()\n",
    "for numero_mes, mes in enumerate(meses, numero_primer_mes):\n",
    "    diccionario_nombre_mes[numero_mes] = mes\n",
    "print(f\"El mes numero {2} es {diccionario_nombre_mes[2]}\")"
   ]
  },
  {
   "cell_type": "markdown",
   "metadata": {
    "slideshow": {
     "slide_type": "fragment"
    }
   },
   "source": [
    "Ahora podremos mostrar los meses con su nombre. Sin embargo, todavía queda el problema de los días. Aquí es donde podemos usar ```zip``` paca cumplir nuestra misión."
   ]
  },
  {
   "cell_type": "markdown",
   "metadata": {
    "slideshow": {
     "slide_type": "subslide"
    }
   },
   "source": [
    "## ```zip```\n",
    "\n",
    "```zip``` permite juntar el contenido de varios iterables e irlos recorriendo por cada entrada, es decir, se itera el primer elemento de cada iterable primero, luego los segundos, y así sucesivamente.\n",
    "Hablemos del tan usado ```range()```. Este retorna un iterador, y en conjunto con la lista de los días de cada mes, podemos usar ```zip()``` para juntarlos y que se entreguen las tuplas."
   ]
  },
  {
   "cell_type": "code",
   "execution_count": null,
   "metadata": {
    "slideshow": {
     "slide_type": "fragment"
    }
   },
   "outputs": [],
   "source": [
    "# aprovechamos con la iteración crear el diccionario de dias de cada mes\n",
    "diccionario_dias_mes = dict()\n",
    "for numero_mes, dias_del_mes in zip(range(1,13), dias_mes):\n",
    "    diccionario_dias_mes[numero_mes] = dias_del_mes\n",
    "    print(f\"El mes numero {numero_mes} tiene {dias_del_mes} dias\")"
   ]
  },
  {
   "cell_type": "markdown",
   "metadata": {
    "slideshow": {
     "slide_type": "subslide"
    }
   },
   "source": [
    "Para las personas observadoras, pueden ver que lo anterior también se puede hacer con ```enumerate()```, y que resulta mas corto:"
   ]
  },
  {
   "cell_type": "code",
   "execution_count": null,
   "metadata": {
    "slideshow": {
     "slide_type": "fragment"
    }
   },
   "outputs": [],
   "source": [
    "for numero_mes, dias_del_mes in enumerate(dias_mes, 1):\n",
    "    print(f\"El mes numero {numero_mes} tiene {dias_del_mes} dias\")"
   ]
  },
  {
   "cell_type": "markdown",
   "metadata": {
    "slideshow": {
     "slide_type": "subslide"
    }
   },
   "source": [
    "Sin embargo, ```zip()``` se encarga de agrupar iterables, y mostrar los elementos de cada uno por orden, por lo que se puede hacer lo siguiente:"
   ]
  },
  {
   "cell_type": "code",
   "execution_count": null,
   "metadata": {
    "slideshow": {
     "slide_type": "fragment"
    }
   },
   "outputs": [],
   "source": [
    "for numero_mes, nombre_mes, dias_del_mes in zip(range(1,13), meses, dias_mes):\n",
    "    print(f\"El mes numero {numero_mes} llamado {nombre_mes} tiene {dias_del_mes} dias\")"
   ]
  },
  {
   "cell_type": "markdown",
   "metadata": {
    "slideshow": {
     "slide_type": "subslide"
    }
   },
   "source": [
    "Ahora solo queda crear el calendario usando los diccionarios de antes"
   ]
  },
  {
   "cell_type": "code",
   "execution_count": null,
   "metadata": {
    "slideshow": {
     "slide_type": "fragment"
    }
   },
   "outputs": [],
   "source": [
    "class Calendario:\n",
    "    dias_mes = diccionario_dias_mes\n",
    "    nombre_mes = diccionario_nombre_mes\n",
    "\n",
    "    def __init__(self, dia_hoy, mes_hoy):\n",
    "        self.dia_hoy = dia_hoy\n",
    "        self.mes_hoy = mes_hoy\n",
    "        print(f\"El dia de hoy es {dia_hoy} de {self.nombre_mes[mes_hoy]}\")\n",
    "\n",
    "    def __getitem__(self, index):\n",
    "        mes_pedido = self.mes_hoy\n",
    "        dia_pedido = self.dia_hoy + index\n",
    "        # se decide iterar hasta encontrar el dia correcto\n",
    "        while not (0 < dia_pedido <= self.dias_mes[mes_pedido]):\n",
    "            if dia_pedido <= 0:   # se necesita retroceder mes\n",
    "                mes_pedido -= 1\n",
    "                # hay que tener cuidado de quedar en un mes inválido\n",
    "                if mes_pedido == 0:\n",
    "                    mes_pedido = 12\n",
    "                dia_pedido += self.dias_mes[mes_pedido]\n",
    "            elif dia_pedido > self.dias_mes[mes_pedido]: # se necesita un mes futuro\n",
    "                dia_pedido -= self.dias_mes[mes_pedido]\n",
    "                mes_pedido += 1\n",
    "                # hay que tener cuidado de quedar en un mes inválido\n",
    "                if mes_pedido == 13:\n",
    "                    mes_pedido = 1\n",
    "        return f\"El dia es {dia_pedido}, y el mes es {self.nombre_mes[mes_pedido]}\""
   ]
  },
  {
   "cell_type": "markdown",
   "metadata": {
    "slideshow": {
     "slide_type": "subslide"
    }
   },
   "source": [
    "Probemos ahora el código:"
   ]
  },
  {
   "cell_type": "code",
   "execution_count": null,
   "metadata": {
    "slideshow": {
     "slide_type": "fragment"
    }
   },
   "outputs": [],
   "source": [
    "Hoy = Calendario(dia_hoy=3, mes_hoy=10)"
   ]
  },
  {
   "cell_type": "code",
   "execution_count": null,
   "metadata": {
    "slideshow": {
     "slide_type": "fragment"
    }
   },
   "outputs": [],
   "source": [
    "# probemos ahora distintas consulyas\n",
    "print(\"Consulta con  '-3':\", Hoy[-3])\n",
    "print(\"Consulta con  '31':\", Hoy[31])\n",
    "print(\"Consulta con   '0':\", Hoy[0])\n",
    "print(\"Consulta con '365':\", Hoy[365])"
   ]
  },
  {
   "cell_type": "markdown",
   "metadata": {
    "slideshow": {
     "slide_type": "slide"
    }
   },
   "source": [
    "## Iterables e Iteradores\n",
    "\n",
    "Un **iterable** es cualquier objeto sobre el cual se puede iterar, por lo mismo, cualquier iterable podría aparecer al lado derecho de un for loop (for i in iterable:). Un iterable contiene el método `__iter__()`. Se puede iterar todas las veces que uno quiera sobre un iterable, como en el caso de las listas por ejemplo.\n",
    "\n",
    "Un **iterador** es un objeto que itera sobre un iterable, es el objeto retornado por el método `__iter__()`, además contiene el método `__next__()` que nos va retornando el siguiente elemento."
   ]
  },
  {
   "cell_type": "code",
   "execution_count": null,
   "metadata": {
    "slideshow": {
     "slide_type": "subslide"
    }
   },
   "outputs": [],
   "source": [
    "x = [11, 32, 43]\n",
    "for c in x: \n",
    "    print(c)\n",
    "print(x.__iter__)\n",
    "next(x) # aqui podemos ver que una lista no es un iterador"
   ]
  },
  {
   "cell_type": "markdown",
   "metadata": {
    "slideshow": {
     "slide_type": "subslide"
    }
   },
   "source": [
    "Como vemos arriba, las listas no son un iterador, pero podemos obtener un iterador sobre una lista simplemente llamando al método `__iter__()`"
   ]
  },
  {
   "cell_type": "code",
   "execution_count": null,
   "metadata": {
    "slideshow": {
     "slide_type": "fragment"
    }
   },
   "outputs": [],
   "source": [
    "y = iter(x)\n",
    "print(next(y))\n",
    "print(next(y))\n",
    "print(next(y))"
   ]
  },
  {
   "cell_type": "markdown",
   "metadata": {
    "slideshow": {
     "slide_type": "subslide"
    }
   },
   "source": [
    "Podemos ver la diferencia de iterar sobre una lista que pertenece a un Objeto a iterar sobre el objeto en si mismo. Lo haremos iterando sobre una baraja para imprimir las cartas que contiene."
   ]
  },
  {
   "cell_type": "code",
   "execution_count": null,
   "metadata": {
    "slideshow": {
     "slide_type": "fragment"
    }
   },
   "outputs": [],
   "source": [
    "class Carta:\n",
    "    MONOS = {11: 'J', 12: 'Q', 13: 'K'}\n",
    "    \n",
    "    def __init__(self, numero, pinta):\n",
    "        self.pinta = pinta \n",
    "        self.numero = numero if numero <=10 else Carta.MONOS[numero]\n",
    "        \n",
    "    def __str__(self):\n",
    "        return \"%s %s\" % (self.numero, self.pinta)\n",
    "    def __repr__(self):\n",
    "        return \"%s *%s\" % (self.numero, self.pinta)"
   ]
  },
  {
   "cell_type": "code",
   "execution_count": null,
   "metadata": {
    "slideshow": {
     "slide_type": "subslide"
    }
   },
   "outputs": [],
   "source": [
    "    \n",
    "class Baraja:\n",
    "    def __init__(self):\n",
    "        self.cartas = [Carta(n, p) for p in ['Espada', 'Diamante', 'Corazon', 'Trebol'] for n in range(1, 14)]\n",
    "        \n",
    "        # La lista por comprension equivale a escribir:\n",
    "        #self.cartas = []\n",
    "        #for p in ['Espada', 'Diamante', 'Corazon', 'Trebol']:\n",
    "        #    for n in range(1, 14):\n",
    "        #        self.cartas.append(Carta(n, p))"
   ]
  },
  {
   "cell_type": "code",
   "execution_count": null,
   "metadata": {
    "slideshow": {
     "slide_type": "fragment"
    }
   },
   "outputs": [],
   "source": [
    "print([carta for carta in Baraja().cartas])"
   ]
  },
  {
   "cell_type": "markdown",
   "metadata": {
    "slideshow": {
     "slide_type": "subslide"
    }
   },
   "source": [
    "Si bien la clase Baraja() contiene muchas cartas, no podemos iterar sobre Baraja(), sólo sobre Baraja().cartas (que corresponde a una lista, por lo tanto es iterable). Supongamos que queremos iterar sobre Baraja() directamente, para ello deberíamos agregar el método `__iter__`"
   ]
  },
  {
   "cell_type": "code",
   "execution_count": null,
   "metadata": {
    "slideshow": {
     "slide_type": "fragment"
    }
   },
   "outputs": [],
   "source": [
    "class BarajaIterable():\n",
    "    def __init__(self):\n",
    "        self.cartas = [Carta(n, p) for p in ['Espada', 'Diamante', 'Corazon', 'Trebol'] for n in range(1, 14)]\n",
    "        \n",
    "    def __iter__(self):\n",
    "        return iter(self.cartas)\n",
    "    \n",
    "    def __len__(self):\n",
    "        return len(self.cartas)"
   ]
  },
  {
   "cell_type": "code",
   "execution_count": null,
   "metadata": {
    "slideshow": {
     "slide_type": "subslide"
    }
   },
   "outputs": [],
   "source": [
    "print([carta for carta in BarajaIterable().cartas])"
   ]
  },
  {
   "cell_type": "markdown",
   "metadata": {
    "slideshow": {
     "slide_type": "fragment"
    }
   },
   "source": [
    "Lo que sucede aqui, es que el `for` llama por debajo al metodo `next()`del iterador que es retornado por el metodo `__iter__` de nuestro iterable. Otra forma de hacerlo mas explicito sería:"
   ]
  },
  {
   "cell_type": "code",
   "execution_count": null,
   "metadata": {
    "slideshow": {
     "slide_type": "subslide"
    }
   },
   "outputs": [],
   "source": [
    "baraja = iter(BarajaIterable())\n",
    "for i in range(len(BarajaIterable())): \n",
    "    print(next(baraja))\n",
    "    if i ==5:\n",
    "        break"
   ]
  },
  {
   "cell_type": "markdown",
   "metadata": {
    "slideshow": {
     "slide_type": "subslide"
    }
   },
   "source": [
    "Veamos un ejemplo de cómo crear un iterador (debe contener los métodos `__iter__` y `__next__`)"
   ]
  },
  {
   "cell_type": "code",
   "execution_count": null,
   "metadata": {
    "slideshow": {
     "slide_type": "fragment"
    }
   },
   "outputs": [],
   "source": [
    "class Fib:\n",
    "    def __init__(self):\n",
    "        self.prev = 0\n",
    "        self.actual = 1\n",
    "\n",
    "    def __iter__(self):\n",
    "        return self\n",
    "\n",
    "    def __next__(self):\n",
    "        valor = self.actual\n",
    "        self.actual += self.prev\n",
    "        self.prev = valor\n",
    "        return valor"
   ]
  },
  {
   "cell_type": "code",
   "execution_count": null,
   "metadata": {
    "slideshow": {
     "slide_type": "subslide"
    }
   },
   "outputs": [],
   "source": [
    "fibonaci = Fib()\n",
    "N = 15\n",
    "l = [next(fibonaci) for i in range(N)]\n",
    "print(l)"
   ]
  },
  {
   "cell_type": "markdown",
   "metadata": {
    "slideshow": {
     "slide_type": "subslide"
    }
   },
   "source": [
    "## Generadores"
   ]
  },
  {
   "cell_type": "markdown",
   "metadata": {
    "slideshow": {
     "slide_type": "fragment"
    }
   },
   "source": [
    "Los generadores son un caso especial de los iteradores. Los generadores nos permiten iterar sobre secuencias de datos sin la necesidad de almacenarlos en alguna estructura de datos, evitando el uso innecesario de memoria (usa memoria sólo \"on the fly\" para cada item mientras se itera). Esto es muy útil cuando queremos realizar cálculos sobre secuencias de números que sólo nos sirven para ese cálculo en particular. La sintaxis para crear generadores es muy parecida a la comprensión de listas, sólo que en vez de paréntesis cuadrados [] usamos paréntesis normales ():"
   ]
  },
  {
   "cell_type": "code",
   "execution_count": null,
   "metadata": {
    "slideshow": {
     "slide_type": "subslide"
    }
   },
   "outputs": [],
   "source": [
    "from sys import getsizeof\n",
    "g = (b for b in range(100))#por el sólo hecho de usar paréntesis significa que estamos creando un generador\n",
    "print(\"Tamaño Generador en bytes:\" + str(getsizeof(g)))\n",
    "l = [b for b in range(100)]#l usa más memoria que g\n",
    "print(\"Tamaño lista en bytes:\" + str(getsizeof(l)))"
   ]
  },
  {
   "cell_type": "markdown",
   "metadata": {
    "slideshow": {
     "slide_type": "fragment"
    }
   },
   "source": [
    "Es importante recordar que una vez que terminamos de iterar sobre un generador, el generador desaparece."
   ]
  },
  {
   "cell_type": "code",
   "execution_count": null,
   "metadata": {
    "slideshow": {
     "slide_type": "subslide"
    }
   },
   "outputs": [],
   "source": [
    "g = (b for b in range(10))\n",
    "for b in g:\n",
    "    print(b)\n",
    "\n",
    "print(next(g))"
   ]
  },
  {
   "cell_type": "markdown",
   "metadata": {
    "slideshow": {
     "slide_type": "subslide"
    }
   },
   "source": [
    "### Ejemplo: Procesamiento de un archivo"
   ]
  },
  {
   "cell_type": "markdown",
   "metadata": {
    "slideshow": {
     "slide_type": "fragment"
    }
   },
   "source": [
    "Supongamos este contenido para el archivo logs.txt:\n",
    "\n",
    "Abr 13, 2021 09:22:34\n",
    "\n",
    "Jun 14, 2021 08:32:11\n",
    "\n",
    "May 20, 2021 10:12:54\n",
    "\n",
    "Dic 21, 2021 11:11:62\n",
    "\n",
    "WARNING Estamos cercanos a tener un problema.\n",
    "\n",
    "WARNING Otro warning!\n",
    "\n",
    "WARNING Casi un bug\n",
    "\n",
    "WARNING Tenga mucho cuidado"
   ]
  },
  {
   "cell_type": "code",
   "execution_count": null,
   "metadata": {
    "slideshow": {
     "slide_type": "subslide"
    }
   },
   "outputs": [],
   "source": [
    "import sys\n",
    "inname, outname = \"logs.txt\", \"logs_out.txt\"\n",
    "with open(inname) as infile:\n",
    "    with open(outname, \"w\") as outfile:\n",
    "        warnings = (l.replace('WARNING', '') for l in infile if 'WARNING' in l)\n",
    "        for l in warnings:\n",
    "            outfile.write(l)"
   ]
  },
  {
   "cell_type": "markdown",
   "metadata": {
    "slideshow": {
     "slide_type": "fragment"
    }
   },
   "source": [
    "### Este sería el output:\n",
    "\n",
    "Estamos cercanos a tener un problema.\n",
    "\n",
    "Otro warning!\n",
    "\n",
    "Casi un bug\n",
    "\n",
    "Tenga mucho cuidado"
   ]
  },
  {
   "cell_type": "markdown",
   "metadata": {
    "slideshow": {
     "slide_type": "subslide"
    }
   },
   "source": [
    "## Funciones Generadoras\n",
    "\n",
    "Las funciones en Python también tienen la posibilidad de funcionar como generadores, a través de \"yield\". El statement \"yield\" reemplaza a \"return\", por un lado se encarga de retornar el valor pero además nos asegura que en la próxima llamada a la función, ésta será ejecutada partiendo desde el punto donde quedó en la ejecución anterior, en otras palabras, trabajamos con una función que una vez que \"retorna\" un valor a través de \"yield\", está transfierendo el control sólo en forma temporal, asumiendo que pronto será utilizada nuevamente para \"generar\" más valores. Al llamar a una función generadora se crea un objeto generador, sin embargo, esto no comienza a ejecutar la función. Ejemplo:"
   ]
  },
  {
   "cell_type": "code",
   "execution_count": null,
   "metadata": {
    "slideshow": {
     "slide_type": "fragment"
    }
   },
   "outputs": [],
   "source": [
    "def conteo_dec(n):\n",
    "    print(\"Contando en forma decreciente desde {}\".format(n))\n",
    "    while n > 0:\n",
    "        yield n\n",
    "        n -= 1"
   ]
  },
  {
   "cell_type": "code",
   "execution_count": null,
   "metadata": {
    "slideshow": {
     "slide_type": "subslide"
    }
   },
   "outputs": [],
   "source": [
    "y = conteo_dec(2)#notar que aquí no se imprime nada\n",
    "\n",
    "print(\"{}\\n\".format(y))#aquí sólo se imprime el objeto\n",
    "\n",
    "print(str(type(y)) + \"\\n\")# se imprime el tipo de objeto y\n",
    "\n",
    "print(next(y))\n",
    "print(next(y))\n",
    "print(next(y))\n"
   ]
  },
  {
   "cell_type": "code",
   "execution_count": null,
   "metadata": {
    "slideshow": {
     "slide_type": "subslide"
    }
   },
   "outputs": [],
   "source": [
    "for i in conteo_dec(5):\n",
    "   print(i)"
   ]
  },
  {
   "cell_type": "markdown",
   "metadata": {
    "slideshow": {
     "slide_type": "subslide"
    }
   },
   "source": [
    "### También podemos interactuar con la función enviando mensajes\n",
    "\n",
    "El método `send()` permite enviar un valor hacia el generador, lo que significa que la expresión `yield` lo recibirá. El valor enviado puede ser usado para asignarlo a otra variable, por ejemplo: "
   ]
  },
  {
   "cell_type": "code",
   "execution_count": null,
   "metadata": {
    "slideshow": {
     "slide_type": "subslide"
    }
   },
   "outputs": [],
   "source": [
    "def grep(pattern): #hace lo mismo que la función grep de la consola de Unix\n",
    "    print(\"Buscando a %s\" % pattern)\n",
    "    while True:\n",
    "        line = (yield)\n",
    "        if pattern in line:\n",
    "            print(line)\n",
    "        \n",
    "o = grep(\"Hola\")#creo el objeto, no se ejecuta aún la función\n",
    "\n",
    "next(o)#avanzo al primer yield, aquí se imprime \"Buscando a ....\"\n",
    "\n",
    "o.send(\"Esta linea contiene Hola\")\n",
    "o.send(\"Esta linea no va a salir\")\n",
    "o.send(\"Esta linea si va a salir (porque contiene Hola :) )\")\n",
    "o.send(\"Esta linea tampoco va a salir\")\n",
    "o.send(\"Hola Ayudantes :D\")"
   ]
  },
  {
   "cell_type": "markdown",
   "metadata": {
    "slideshow": {
     "slide_type": "slide"
    }
   },
   "source": [
    "## Funciones anónimas\n",
    "\n",
    "Esa parte fue inspirada por la ayudantia(03) extra del 2019-1"
   ]
  },
  {
   "cell_type": "markdown",
   "metadata": {
    "slideshow": {
     "slide_type": "fragment"
    }
   },
   "source": [
    "- Python tiene funciones de ***primera clase*** mediante `def`.\n",
    "Esas son las funciones que hemos ocupado toda vida."
   ]
  },
  {
   "cell_type": "code",
   "execution_count": null,
   "metadata": {
    "slideshow": {
     "slide_type": "subslide"
    }
   },
   "outputs": [],
   "source": [
    "def sumar(a, b): # Como variable\n",
    "    return a + b\n",
    "\n",
    "mi_funcion = sumar\n",
    "print(mi_funcion(1, 2))"
   ]
  },
  {
   "cell_type": "code",
   "execution_count": null,
   "metadata": {
    "slideshow": {
     "slide_type": "subslide"
    }
   },
   "outputs": [],
   "source": [
    "def iteracion(funcion, lista): # Como parámetro\n",
    "    aux = 0\n",
    "    for elemento in lista:\n",
    "        aux = funcion(aux, elemento)\n",
    "    return aux\n",
    "\n",
    "print(iteracion(sumar, [1,2,3]))"
   ]
  },
  {
   "cell_type": "markdown",
   "metadata": {
    "slideshow": {
     "slide_type": "subslide"
    }
   },
   "source": [
    "### 1. Lambda"
   ]
  },
  {
   "cell_type": "markdown",
   "metadata": {
    "slideshow": {
     "slide_type": "fragment"
    }
   },
   "source": [
    "- Pero también existen funciones ***anónimas***, definidas mediante `lambda <parámetros>: <retorno>`."
   ]
  },
  {
   "cell_type": "code",
   "execution_count": null,
   "metadata": {
    "slideshow": {
     "slide_type": "subslide"
    }
   },
   "outputs": [],
   "source": [
    "sumar_anonimo = lambda x, y: x + y # Se utilizan solo donde son creadas\n",
    "\n",
    "print(sumar_anonimo(1, 2))"
   ]
  },
  {
   "cell_type": "markdown",
   "metadata": {
    "slideshow": {
     "slide_type": "subslide"
    }
   },
   "source": [
    "- ¿Cuál es la diferencia?"
   ]
  },
  {
   "cell_type": "code",
   "execution_count": null,
   "metadata": {
    "slideshow": {
     "slide_type": "fragment"
    }
   },
   "outputs": [],
   "source": [
    "print(sumar)\n",
    "print(sumar_anonimo)"
   ]
  },
  {
   "cell_type": "markdown",
   "metadata": {
    "slideshow": {
     "slide_type": "fragment"
    }
   },
   "source": [
    "Esa funcion se crea localmente, uno puede guardar en una variable, pero esa solo se utiliza donde es creada"
   ]
  },
  {
   "cell_type": "markdown",
   "metadata": {
    "slideshow": {
     "slide_type": "subslide"
    }
   },
   "source": [
    "### 2. Map"
   ]
  },
  {
   "cell_type": "markdown",
   "metadata": {
    "slideshow": {
     "slide_type": "fragment"
    }
   },
   "source": [
    "- Recibe **una** función y **al menos** un iterable. Retorna un **generador** con los resultados de aplicar la función a **cada elemento**."
   ]
  },
  {
   "cell_type": "code",
   "execution_count": null,
   "metadata": {
    "slideshow": {
     "slide_type": "subslide"
    }
   },
   "outputs": [],
   "source": [
    "mi_lista = [] # Queremos sus valores al cuadrado, ¿es esta la forma óptima?\n",
    "\n",
    "for x in range(100):\n",
    "    mi_lista.append(x)"
   ]
  },
  {
   "cell_type": "code",
   "execution_count": null,
   "metadata": {
    "slideshow": {
     "slide_type": "fragment"
    }
   },
   "outputs": [],
   "source": [
    "mi_lista = [x for x in range(100)] # Utilizando lista por comprensión "
   ]
  },
  {
   "cell_type": "code",
   "execution_count": null,
   "metadata": {
    "slideshow": {
     "slide_type": "subslide"
    }
   },
   "outputs": [],
   "source": [
    "def al_cuadrado(iterable): # Version 1.0\n",
    "    lista_auxiliar = []\n",
    "    for elemento in iterable:\n",
    "        lista_auxiliar.append(elemento**2)\n",
    "    return lista_auxiliar\n",
    "\n",
    "print(al_cuadrado(mi_lista))"
   ]
  },
  {
   "cell_type": "code",
   "execution_count": null,
   "metadata": {
    "slideshow": {
     "slide_type": "subslide"
    }
   },
   "outputs": [],
   "source": [
    "al_cuadrado_pro = map(lambda x: x**2, mi_lista)\n",
    "\n",
    "print(al_cuadrado_pro)\n",
    "print(list(al_cuadrado_pro))"
   ]
  },
  {
   "cell_type": "markdown",
   "metadata": {
    "slideshow": {
     "slide_type": "subslide"
    }
   },
   "source": [
    "- Para trabajar con **más** de un iterable la función *lambda* deberá recibir el **mismo** número de parámetros que iterables, mientras que map iterará hasta el iterable de **menor** largo."
   ]
  },
  {
   "cell_type": "code",
   "execution_count": null,
   "metadata": {
    "slideshow": {
     "slide_type": "fragment"
    }
   },
   "outputs": [],
   "source": [
    "llave = (\"Mejor ramo\", \"Mejor serie de super heroes\")\n",
    "valor = [\"IIC2233\", \"The boys\", \"atributo sobrante que va pasar aqui?\"]\n",
    "\n",
    "personas = map(lambda x, y: (x , y), llave, valor)\n",
    "print(dict(personas))"
   ]
  },
  {
   "cell_type": "markdown",
   "metadata": {
    "slideshow": {
     "slide_type": "subslide"
    }
   },
   "source": [
    "### 3. Filter"
   ]
  },
  {
   "cell_type": "markdown",
   "metadata": {
    "slideshow": {
     "slide_type": "fragment"
    }
   },
   "source": [
    "- Recibe **una** función (que retorne un **boolean**) y **un** iterable. Retorna un **generador** con los **elementos originales** del iterable siempre y cuando al aplicar la función a estos retorne **True**."
   ]
  },
  {
   "cell_type": "code",
   "execution_count": null,
   "metadata": {
    "slideshow": {
     "slide_type": "subslide"
    }
   },
   "outputs": [],
   "source": [
    "def impares(iterable):\n",
    "    lista_auxiliar = []\n",
    "    for elemento in iterable:\n",
    "        if elemento % 2 != 0:\n",
    "            lista_auxiliar.append(elemento)\n",
    "    return lista_auxiliar\n",
    "\n",
    "print(impares(mi_lista))"
   ]
  },
  {
   "cell_type": "code",
   "execution_count": null,
   "metadata": {
    "slideshow": {
     "slide_type": "subslide"
    }
   },
   "outputs": [],
   "source": [
    "impares_pro = filter(lambda x: x % 2 != 0, mi_lista)\n",
    "\n",
    "print(list(impares_pro))"
   ]
  },
  {
   "cell_type": "markdown",
   "metadata": {
    "slideshow": {
     "slide_type": "subslide"
    }
   },
   "source": [
    "### 4. Reduce"
   ]
  },
  {
   "cell_type": "markdown",
   "metadata": {
    "slideshow": {
     "slide_type": "fragment"
    }
   },
   "source": [
    "- Recibe **una** función (que recibe **dos** parámetros) y **un** iterable. Retorna lo que resulta de aplicar la función `f` al iterable `[s1, s2, s3, ..., sn]` de la siguiente forma: `f(f(f(f(s1, s2), s3), s4), s5), ...`."
   ]
  },
  {
   "cell_type": "markdown",
   "metadata": {
    "slideshow": {
     "slide_type": "subslide"
    }
   },
   "source": [
    "![](img\\reduce.png)\n",
    "<!-- ![](img/reduce.png) -->"
   ]
  },
  {
   "cell_type": "code",
   "execution_count": null,
   "metadata": {
    "slideshow": {
     "slide_type": "subslide"
    }
   },
   "outputs": [],
   "source": [
    "mi_frase = [\"EL\", \"que\", \"usa\", \"except\", \"Exception\", \"as\", \"error\", \"no\", \"es\", \"digno\"]"
   ]
  },
  {
   "cell_type": "code",
   "execution_count": null,
   "metadata": {
    "slideshow": {
     "slide_type": "fragment"
    }
   },
   "outputs": [],
   "source": [
    "def frase(iterable):\n",
    "    aux = \"\"\n",
    "    for elemento in iterable:\n",
    "        aux = aux + \" \" + elemento\n",
    "    return aux\n",
    "\n",
    "print(frase(mi_frase))"
   ]
  },
  {
   "cell_type": "code",
   "execution_count": null,
   "metadata": {
    "slideshow": {
     "slide_type": "subslide"
    }
   },
   "outputs": [],
   "source": [
    "from functools import reduce\n",
    "frase_pro = reduce(lambda x, y: x + \" \" + y, mi_frase)\n",
    "print(frase_pro)"
   ]
  },
  {
   "cell_type": "code",
   "execution_count": null,
   "metadata": {
    "slideshow": {
     "slide_type": "subslide"
    }
   },
   "outputs": [],
   "source": [
    "al_cuadrado = reduce(lambda x, y: x + y ** 2, [2]) # Ejecuta esta linda funcion\n",
    "print(al_cuadrado)"
   ]
  },
  {
   "cell_type": "markdown",
   "metadata": {
    "slideshow": {
     "slide_type": "fragment"
    }
   },
   "source": [
    "- ¿Qué pasó ahí?"
   ]
  },
  {
   "cell_type": "code",
   "execution_count": null,
   "metadata": {
    "slideshow": {
     "slide_type": "subslide"
    }
   },
   "outputs": [],
   "source": [
    "al_cuadrado = reduce(lambda x, y: x + y ** 2, [2], 0)\n",
    "print(al_cuadrado)"
   ]
  },
  {
   "cell_type": "markdown",
   "metadata": {
    "slideshow": {
     "slide_type": "fragment"
    }
   },
   "source": [
    "- Si el iterable es de un solo elemento reduce no aplicará la función a menos que exista un ***valor inicial***, que se ingresa como tercer parámetro."
   ]
  },
  {
   "cell_type": "markdown",
   "metadata": {
    "slideshow": {
     "slide_type": "slide"
    }
   },
   "source": [
    "# Ejercicio propuesto: Actividad 11 2019-2\n",
    "## Parte1: Iterables"
   ]
  },
  {
   "cell_type": "markdown",
   "metadata": {
    "slideshow": {
     "slide_type": "fragment"
    }
   },
   "source": [
    "Debes completar tres funciones cortas pendientes y que se describen a continuación. El detalle es que Hadani **no permite que utilices los ambientes de iteración for y while** para que aproveches al máximo la magia de los iterables.\n",
    "La palabra reservada for **solo puede utilizarse dentro del contexto de una estructura por comprensión**,\n",
    "y **te recomienda el uso de las funciones map, filter y reduce para actuar sobre objetos iterables.**\n",
    "Para obtener los datos de los PROGRaMONés necesitamos extraer información del archivo de texto\n",
    "(programon.txt). Para eso necesitamos las funciones:\n",
    "```python\n",
    "def obtener_programones(lineas): \n",
    "```\n",
    "Esta función recibe una lista con líneas obtenidas en la función anterior y a partir de los datos obtenidos de las líneas, debe retornar una lista con instancias\n",
    "de PROGRaMON creadas utilizando la named tuple entregada Programon.\n",
    "\n",
    "Para consultar la información obtenida anteriormente deberás implementar las siguientes funciones:\n"
   ]
  },
  {
   "cell_type": "code",
   "execution_count": null,
   "metadata": {
    "slideshow": {
     "slide_type": "subslide"
    }
   },
   "outputs": [],
   "source": [
    "from collections import namedtuple\n",
    "from functools import reduce\n",
    "\n",
    "caracteristicas = ['hp', 'ataque', 'defensa', 'velocidad', 'defensa_especial', 'ataque_especial']\n",
    "Programon = namedtuple('PROGRáMON', ['id', 'nombre', 'tipo_1', 'tipo_2', *caracteristicas])\n",
    "\n",
    "def obtener_lineas_archivo(ruta): \n",
    "    '''A partir de ruta de archivo TXT, retorna iterable con las líneas del archivo.'''\n",
    "    # Implementado\n",
    "    with open(ruta, 'rt', encoding='utf-8') as archivo:\n",
    "        return archivo.readlines()\n",
    "\n",
    "def obtener_programones(lineas): \n",
    "    '''A partir de líneas de texto, retorna un iterable con instancias de Programon.'''\n",
    "    # Completar\n",
    "    lineas_separadas = [linea.strip().split(',') for linea in lineas]\n",
    "    return [Programon(*linea) for linea in lineas_separadas]\n"
   ]
  },
  {
   "cell_type": "code",
   "execution_count": null,
   "metadata": {
    "slideshow": {
     "slide_type": "subslide"
    }
   },
   "outputs": [],
   "source": [
    "# Cargamos el archivo\n",
    "lineas = obtener_lineas_archivo('programon.txt')\n",
    "\n",
    "# Probando obtener_programones\n",
    "programones = obtener_programones(lineas)\n",
    "print('Programones cargados:', len(programones))"
   ]
  },
  {
   "cell_type": "markdown",
   "metadata": {
    "slideshow": {
     "slide_type": "subslide"
    }
   },
   "source": [
    "```python\n",
    "def obtener_tipos(programones):\n",
    "```\n",
    "Esta función recibe una lista con múltiples PROGRaMON\n",
    "y retorna una lista con los tipos de todos los PROGRaMON presentes en el iterable entregado.\n",
    "Nota, que cada PROGRaMON  tiene a lo más dos tipos distintos, y el resultado no puede tener\n",
    "repeticiones. Un ejemplo de esta consulta sería:\n",
    "```python\n",
    "obtener_tipos([\n",
    "PROGRaMON(id='39', nombre='Jigglypuff', tipo_1='Normal', tipo_2='Hada',...),\n",
    "PROGRaMON(id='183', nombre='Marill', tipo_1='Agua', tipo_2='Hada',...)\n",
    "])\n",
    "\n",
    "Y un resultado esperado sería:\n",
    "['Hada', 'Agua', 'Normal']\n",
    "```"
   ]
  },
  {
   "cell_type": "code",
   "execution_count": null,
   "metadata": {
    "slideshow": {
     "slide_type": "subslide"
    }
   },
   "outputs": [],
   "source": [
    "def obtener_tipos(programones): \n",
    "    '''A partir de un iterable de programones, retorna un iterables de sus tipos sin \n",
    "    repeticiones.'''\n",
    "    # Completar\n",
    "    pass"
   ]
  },
  {
   "cell_type": "code",
   "execution_count": null,
   "metadata": {
    "slideshow": {
     "slide_type": "fragment"
    }
   },
   "outputs": [],
   "source": [
    "# Probando obtener_tipos\n",
    "tipos = obtener_tipos(programones)\n",
    "print('Tipos encontrados:', len(tipos))\n",
    "print(tipos)"
   ]
  },
  {
   "cell_type": "markdown",
   "metadata": {
    "slideshow": {
     "slide_type": "subslide"
    }
   },
   "source": [
    "```python\n",
    "def obtener_programones_de_tipo(programones, tipo): \n",
    "```\n",
    "Esta función recibe una lista con múltiples PROGRaMON  y un *string (str)* que indica un tipo de PROGRaMON  . La función debe\n",
    "retornar una nueva lista que sólo contenga los PROGRaMON del iterable entregado pero que sean del tipo indicado. Un ejemplo de esta consulta sería:\n",
    "\n",
    "```python\n",
    "obtener_programones_de_tipo([\n",
    "PROGRaMON(id='284', nombre='Masquerain', tipo_1='Bicho', tipo_2='Volador',...),\n",
    "PROGRaMON(id='301', nombre='Delcatty', tipo_1='Normal', tipo_2='',...),\n",
    "PROGRaMON(id='347', nombre='Anorith', tipo_1='Roca', tipo_2='Bicho',...)\n",
    "],\n",
    "'Bicho'\n",
    ")\n",
    "```"
   ]
  },
  {
   "cell_type": "code",
   "execution_count": null,
   "metadata": {
    "slideshow": {
     "slide_type": "subslide"
    }
   },
   "outputs": [],
   "source": [
    "def obtener_programones_de_tipo(programones, tipo):\n",
    "    '''A partir de un iterable de programones y un tipo, retorna un iterable con aquellos \n",
    "    programones del tipo específicado.''' \n",
    "    # Completar\n",
    "    pass"
   ]
  },
  {
   "cell_type": "code",
   "execution_count": null,
   "metadata": {
    "slideshow": {
     "slide_type": "fragment"
    }
   },
   "outputs": [],
   "source": [
    "# Probando obtener_programones_de_tipo\n",
    "hadas = obtener_programones_de_tipo(programones, 'Hada')\n",
    "print('Hadas encontradas:', len(hadas))   \n",
    "print(hadas)"
   ]
  },
  {
   "cell_type": "markdown",
   "metadata": {
    "slideshow": {
     "slide_type": "subslide"
    }
   },
   "source": [
    "```python\n",
    "def obtener_cantidad_por_tipo(programones, tipos):\n",
    "```\n",
    "\n",
    "Esta función recibe una lista con múltiples PROGRAMON y una lista de strings (str) que indican tipos de PROGRAMON. La función retorna un dict que tiene como llaves los tipos entregados y como valor asociado la cantidad de 2 PROGRAMON de ese tipo que se encuentran en el iterable. Un ejemplo de esta consulta sería:\n",
    "\n",
    "```python\n",
    "obtener_cantidad_por_tipo([\n",
    "PROGRaMON(id='267', nombre='Beautifly', tipo_1='Bicho', tipo_2='Volador',...), PROGRaMON(id='269', nombre='Dustox', tipo_1='Bicho', tipo_2='Veneno',...)\n",
    "],\n",
    "  ['Planta', 'Bicho', 'Veneno', 'Volador']\n",
    "   )\n",
    "```"
   ]
  },
  {
   "cell_type": "code",
   "execution_count": null,
   "metadata": {
    "slideshow": {
     "slide_type": "subslide"
    }
   },
   "outputs": [],
   "source": [
    "def obtener_cantidad_por_tipo(programones, tipos): \n",
    "    '''A partir de iterable de programones e iterable de tipos, retorna diccionario con llaves\n",
    "    los tipos entregados y cuyos valores corresponden a la cantidad de programones de tal tipo.'''\n",
    "    # Completar\n",
    "    pass"
   ]
  },
  {
   "cell_type": "code",
   "execution_count": null,
   "metadata": {
    "slideshow": {
     "slide_type": "fragment"
    }
   },
   "outputs": [],
   "source": [
    "# Probando obtener_cantidad_por_tipo\n",
    "cantidad_por_tipo = obtener_cantidad_por_tipo(programones, tipos)\n",
    "print('Diccionario de cantidad por tipo:')\n",
    "print(cantidad_por_tipo)\n",
    "print(repr_lista(list(cantidad_por_tipo.items())))"
   ]
  }
 ],
 "metadata": {
  "celltoolbar": "Slideshow",
  "kernelspec": {
   "display_name": "Python 3",
   "language": "python",
   "name": "python3"
  },
  "language_info": {
   "codemirror_mode": {
    "name": "ipython",
    "version": 3
   },
   "file_extension": ".py",
   "mimetype": "text/x-python",
   "name": "python",
   "nbconvert_exporter": "python",
   "pygments_lexer": "ipython3",
   "version": "3.7.4"
  }
 },
 "nbformat": 4,
 "nbformat_minor": 5
}
