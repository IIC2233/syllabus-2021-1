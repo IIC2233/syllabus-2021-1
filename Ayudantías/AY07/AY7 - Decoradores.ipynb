{
 "cells": [
  {
   "cell_type": "markdown",
   "metadata": {
    "id": "fyZvLU8W0cKY"
   },
   "source": [
    "# Ayudantía 7: Decoradores"
   ]
  },
  {
   "cell_type": "markdown",
   "metadata": {
    "id": "NITfs8nE35Rb"
   },
   "source": [
    "### **Autores**: \n",
    "* Valentina Córdova\n",
    "* Cristóbal Figueroa\n",
    "* Sebastián Olivares\n",
    "* Ignacio Urrutia"
   ]
  },
  {
   "cell_type": "markdown",
   "metadata": {
    "id": "MQO-c5-p861E"
   },
   "source": [
    "## Repaso"
   ]
  },
  {
   "cell_type": "markdown",
   "metadata": {
    "id": "2cvQ8S116Urr"
   },
   "source": [
    "### Objetos\n",
    "Los objetos son una colección de datos, a los que llamamos **atributos** (análogos a las variables) y comportamientos a los que llamamos **métodos** (análogos a las funciones). \n",
    "\n",
    "No nos detendremos mucho en su explicación porque se utilizarán a o largo del repaso, sin embargo, cualquier consulta, no duden en preguntar. "
   ]
  },
  {
   "cell_type": "markdown",
   "metadata": {
    "id": "xJ2ErZI_6eFe"
   },
   "source": [
    "### Excepciones"
   ]
  },
  {
   "cell_type": "code",
   "execution_count": null,
   "metadata": {
    "colab": {
     "base_uri": "https://localhost:8080/",
     "height": 641
    },
    "id": "0AoPUVJg8vo-",
    "outputId": "8e0075a8-b6d8-4e4a-af92-207ff33710ea"
   },
   "outputs": [],
   "source": [
    "# Creamos las clases de las excepciones personalizadas con una advertencia\n",
    "class NoCorreo(Exception):\n",
    "    def __init__(self, err):\n",
    "        super().__init__(f\"{err} no es un correo\")\n",
    "\n",
    "\n",
    "class NoCorreoUC(Exception):\n",
    "    def __init__(self):\n",
    "        super().__init__(\"No es un correo UC\")\n",
    "\n",
    "\n",
    "class CorreoRepetido(Exception):\n",
    "    def __init__(self):\n",
    "        super().__init__(\"Este correo ya existe en nuestra base de datos\")\n",
    "\n",
    "\n",
    "# Creamos la función que revisa todos los posibles errores y levanta los errores\n",
    "def verificar_correo_uc(correo, basedatos):\n",
    "    if '@' not in correo:                     # Verifica que sea un correo\n",
    "        raise NoCorreo(correo)\n",
    "    elif 'uc' not in correo.split('@')[1]:    # Verifica que sea un correo uc\n",
    "        raise NoCorreoUC\n",
    "    elif not correo.split('@')[0].isalnum():  # Verifica que sea alfanumerico\n",
    "        raise TypeError\n",
    "    elif correo in basedatos:                 # Verifica que no este en la base de datos\n",
    "        raise CorreoRepetido\n",
    "\n",
    "\n",
    "# Aquí tenemos el flujo donde tiene 3 intentos en total, se equivoque o no tiene 3 oportunidades\n",
    "for intento in range(1, 4):\n",
    "    try:\n",
    "        archivo = open('db.csv', \"r+\")             # Abrimos el archivo\n",
    "        db = [line.rstrip() for line in archivo]   # Quitamos los saltos de linea y hacemos la lista\n",
    "        intento_correo = input(\"Ingrese su correo: \")\n",
    "        verificar_correo_uc(intento_correo, db)\n",
    "    # Aquí manejamos las excepciones avisando al usuario sobre sus errores\n",
    "    except NoCorreo as error:\n",
    "        print(f\"Error: {error}. Este fue su intento {intento}, le quedan {3 - intento} intentos\")\n",
    "    except NoCorreoUC as error:\n",
    "        print(f\"Error: {error}. Este fue su intento {intento}, le quedan {3 - intento} intentos\")\n",
    "    except TypeError:\n",
    "        print(f\"Error: La primera parte debe ser alfanumerica. Este fue su intento {intento}, \"\n",
    "              f\"le quedan {3 - intento} intentos\")\n",
    "    except CorreoRepetido as error:\n",
    "        print(f\"Error: {error}. Este fue su intento {intento}, le quedan {3 - intento} intentos\")\n",
    "    else:\n",
    "        # Aquí guardamos los correos validos\n",
    "        archivo.write('\\n' + intento_correo)\n",
    "        print(f\"Se ha agregado correctamente. Puede agregar {3 - intento} \"\n",
    "              f\"correos más, si no tiene errores\")\n",
    "    finally:\n",
    "        archivo.close()   # Cerramos el archivo cada vez que terminamos de usarlo\n"
   ]
  },
  {
   "cell_type": "markdown",
   "metadata": {
    "id": "MWaq12Fn6n-S"
   },
   "source": [
    "### Threading"
   ]
  },
  {
   "cell_type": "markdown",
   "metadata": {
    "id": "LzCIt-qZktA2"
   },
   "source": [
    "Crearemos una función que representa el movimiento de una persona, la cual imprime constantemente su avance de acuerdo a un tiempo de espera, de esta forma podemos tener personas que avancen más rápido que otras! 😮"
   ]
  },
  {
   "cell_type": "code",
   "execution_count": null,
   "metadata": {
    "id": "O_7x6gP_lmqT"
   },
   "outputs": [],
   "source": [
    "import random\n",
    "import time\n",
    "\n",
    "def movimiento_persona(n, sleep_time = 1):\n",
    "  pos = 0\n",
    "  for _ in range(n):\n",
    "    # Mostramos nombre del thread\n",
    "    thread_actual = threading.current_thread()\n",
    "    # Seleccionamos movimienot aleatorio\n",
    "    pos += 1\n",
    "    print(f\"Hola, soy {thread_actual.name} y he avanzado {pos} metros\")\n",
    "    time.sleep(sleep_time)"
   ]
  },
  {
   "cell_type": "markdown",
   "metadata": {
    "id": "5FSAg_SXNjYj"
   },
   "source": [
    "Ahora, utilizando threading, crearemos dos personas: \n",
    "1. Rapidín: Campeón internacional de 100 metros planos \n",
    "2. Lentín: Ayudante de programación avanzada después de pasar de largo corrigiendo la Tarea 1  "
   ]
  },
  {
   "cell_type": "code",
   "execution_count": null,
   "metadata": {
    "colab": {
     "base_uri": "https://localhost:8080/"
    },
    "id": "KjolDRWC9Zd9",
    "outputId": "2558a6d5-563a-4b02-f528-81beae58b8a8"
   },
   "outputs": [],
   "source": [
    "# Importamos el módulo\n",
    "import threading\n",
    "import time\n",
    "\n",
    "# Creamos threads\n",
    "p1 = threading.Thread(name = \"Rapidin\", target = movimiento_persona, args=(10,0.4) )\n",
    "p2 = threading.Thread(name = \"Lentin\", target = movimiento_persona, args=(10,1) )\n",
    "# Ejecutamos el thread\n",
    "\n",
    "p1.start() \n",
    "p2.start() # Recuerda que solo se pueden usar una vez si se definen de esta forma\n",
    "\n",
    "p1.join()\n",
    "print(f\"Terminó {p1.name}\")\n",
    "if p2.is_alive(): \n",
    " print(\"Aún falta la segunda persona\")\n",
    " print(f\"Esperando a {p2.name}...\")\n",
    " p2.join()\n",
    " print(\"Terminaron las dos personas\")\n",
    "else:\n",
    " print(\"Proceso terminado, ambas terminaron a tiempo!\")"
   ]
  },
  {
   "cell_type": "markdown",
   "metadata": {},
   "source": [
    "Ahora creamos una clase `Contador` que servirá para almacenar los metros recorridos por Lentín y Rapidín."
   ]
  },
  {
   "cell_type": "code",
   "execution_count": null,
   "metadata": {
    "id": "h8kNzZk3k9XG"
   },
   "outputs": [],
   "source": [
    "class Contador:\n",
    "    def __init__(self):\n",
    "        self.valor = 0"
   ]
  },
  {
   "cell_type": "code",
   "execution_count": null,
   "metadata": {
    "id": "ZNmkkv1e1TSS"
   },
   "outputs": [],
   "source": [
    "import random\n",
    "import time\n",
    "\n",
    "def movimiento_persona(n, contador, lock, sleep_time = 1):\n",
    "  pos = 0\n",
    "  for _ in range(n):\n",
    "    # Mostramos nombre del thread\n",
    "    thread_actual = threading.current_thread()\n",
    "    # Seleccionamos movimienot aleatorio\n",
    "    pos += 1\n",
    "    \n",
    "    # Pedimos el lock con with\n",
    "    with lock:\n",
    "        contador.valor += 1\n",
    "        print(f\"Hola, soy {thread_actual.name}, he avanzado {pos} metros y en total llevamos {contador.valor} metros\")\n",
    "\n",
    "    # Pedimos el lock con acquire y release\n",
    "#     lock.acquire()\n",
    "#     contador.valor += 1\n",
    "#     print(f\"Hola, soy {thread_actual.name}, he avanzado {pos} metros y en total llevamos {contador.valor} metros\")\n",
    "#     # Liberamos el lock\n",
    "#     lock.release()\n",
    "    time.sleep(sleep_time)"
   ]
  },
  {
   "cell_type": "code",
   "execution_count": null,
   "metadata": {
    "id": "C0nLWwvo1Vpq"
   },
   "outputs": [],
   "source": [
    "# Importamos el módulo\n",
    "import threading\n",
    "\n",
    "# Creamos el lock y contador\n",
    "lock = threading.Lock()\n",
    "contador = Contador()\n",
    "\n",
    "# Creamos threads\n",
    "p1 = threading.Thread(name = \"Rapidin\", target = movimiento_persona, args=(10, contador, lock,0.4) )\n",
    "p2 = threading.Thread(name = \"Lentin\", target = movimiento_persona, args=(10, contador, lock) )\n",
    "\n",
    "# Ejecutamos el thread\n",
    "p1.start() \n",
    "p2.start() # Recuerda que solo se pueden usar una vez si se definen de esta forma\n",
    "\n",
    "#Comentar desde aquí para probar con daemons\n",
    "p1.join()\n",
    "print(f\"Terminó {p1.name}\")\n",
    "if p2.is_alive(): \n",
    " print(\"Aún falta la segunda persona\")\n",
    " print(f\"Esperando a {p2.name}...\")\n",
    " p2.join()\n",
    " print(\"Terminaron las dos personas\")\n",
    "else:\n",
    " print(\"Proceso terminado, ambas terminaron a tiempo!\")"
   ]
  },
  {
   "cell_type": "markdown",
   "metadata": {
    "id": "dB1SG3TB1aqP"
   },
   "source": [
    "Como hacer para darle ventaja a Lentin?"
   ]
  },
  {
   "cell_type": "markdown",
   "metadata": {
    "id": "LKoqX0Q41bAw"
   },
   "source": [
    "Usaremos señales para comunicarle a Rapidín cuando Lentin vaya en la mitad!"
   ]
  },
  {
   "cell_type": "markdown",
   "metadata": {
    "id": "OYu9NzGEQUHp"
   },
   "source": [
    "#### Segunda forma:\n",
    "Otra implementación de threading es mediante la herencia de la clase `Thread`"
   ]
  },
  {
   "cell_type": "code",
   "execution_count": null,
   "metadata": {
    "id": "Y_O4EA9J1g-u"
   },
   "outputs": [],
   "source": [
    "import random\n",
    "import time\n",
    "import threading\n",
    "\n",
    "medio_camino = threading.Event()\n",
    "\n",
    "class Corredor(threading.Thread):\n",
    "    def __init__(self,nombre, n, sleep_time, contador, lock):\n",
    "        super().__init__(name = nombre)\n",
    "        self.n = n\n",
    "        self.contador = contador\n",
    "        self.lock = lock\n",
    "        self.sleep_time = sleep_time\n",
    "        self.pos = 0\n",
    "    \n",
    "    def correr(self, n):\n",
    "        for _ in range(n):\n",
    "            # Mostramos nombre del thread\n",
    "            thread_actual = threading.current_thread()\n",
    "            # Seleccionamos movimienot aleatorio\n",
    "            self.pos += 1\n",
    "            # Pedimos el lock\n",
    "            self.lock.acquire()\n",
    "            self.contador.valor += 1\n",
    "            print(f\"Hola, soy {thread_actual.name}, he avanzado {self.pos} metros y en total llevamos {self.contador.valor} metros\")\n",
    "            # Liberamos el lock\n",
    "            self.lock.release()\n",
    "            time.sleep(self.sleep_time)"
   ]
  },
  {
   "cell_type": "code",
   "execution_count": null,
   "metadata": {
    "id": "NNo_b1_h1h7B"
   },
   "outputs": [],
   "source": [
    "class Rapidin(Corredor):\n",
    "    def __init__(self, contador, lock):\n",
    "        super().__init__(\"Rapidin\", 10, .5, contador, lock)\n",
    "    \n",
    "    def run(self):\n",
    "        # Esperamos la señal\n",
    "        medio_camino.wait()\n",
    "        # Y empezamos a correr\n",
    "        self.correr(self.n)\n",
    "\n",
    "\n",
    "class Lentin(Corredor):\n",
    "    def __init__(self, contador, lock):\n",
    "        super().__init__(\"Lentin\", 10, 1, contador, lock)\n",
    "    \n",
    "    def run(self):\n",
    "        # Empezamos a correr inmediatamente hasta la mitad\n",
    "        self.correr(self.n//2)\n",
    "        # Una vez en la mitad avisamos que hemos llegado\n",
    "        medio_camino.set()\n",
    "        self.correr( int( (self.n + 0.5)//2 ) )"
   ]
  },
  {
   "cell_type": "code",
   "execution_count": null,
   "metadata": {
    "id": "Mz_2S3oQ1nNU"
   },
   "outputs": [],
   "source": [
    "#Importamos el módulo\n",
    "import threading\n",
    "\n",
    "# Creamos el lock y contador\n",
    "lock = threading.Lock()\n",
    "contador = Contador()\n",
    "\n",
    "# Creamos threads\n",
    "p1 = Rapidin(contador, lock)\n",
    "p2 = Lentin(contador, lock)\n",
    "\n",
    "\n",
    "# Ejecutamos el thread\n",
    "p1.start() \n",
    "p2.start() # Recuerda que solo se pueden usar una vez si se definen de esta forma\n",
    "\n",
    "\n",
    "p1.join()\n",
    "print(f\"Terminó {p1.name}\")\n",
    "if p2.is_alive(): \n",
    " print(\"Aún falta la segunda persona\")\n",
    " print(f\"Esperando a {p2.name}...\")\n",
    " p2.join()\n",
    " print(\"Terminaron las dos personas\")\n",
    "else:\n",
    " print(\"Proceso terminado, ambas terminaron a tiempo!\")"
   ]
  },
  {
   "cell_type": "markdown",
   "metadata": {
    "id": "jNXv7qgY6qZW"
   },
   "source": [
    "### Interfaces Gráfica"
   ]
  },
  {
   "cell_type": "markdown",
   "metadata": {
    "id": "CifubXB1EFG-"
   },
   "source": [
    "#### Nociones básicas"
   ]
  },
  {
   "cell_type": "markdown",
   "metadata": {
    "id": "mUCO2HDkWG01"
   },
   "source": [
    "##### **Qapplication y Qwidget**\n",
    "La base de toda aplicación con PyQt debe tener **siempre** una instancia de QApplication (¡Una! ni más, ni menos) y almenos una instancia de un QWidget (puede ser cualquier tipo de QWidget de los existentes,\n",
    "como los ejemplos que les mostramos más adelante, incluyendo uno personalizado)."
   ]
  },
  {
   "cell_type": "code",
   "execution_count": null,
   "metadata": {
    "id": "6jtnW1jq9bdQ"
   },
   "outputs": [],
   "source": [
    "import sys\n",
    "from PyQt5.QtWidgets import QWidget, QApplication\n",
    "\n",
    "if __name__ == '__main__':\n",
    "    app = QApplication([])\n",
    "    ventana = QWidget()\n",
    "    ventana.show()\n",
    "    sys.exit(app.exec_())"
   ]
  },
  {
   "cell_type": "markdown",
   "metadata": {
    "id": "65uH9JkYaCno"
   },
   "source": [
    "Se pueden ver los siguientes pasos en el código anterior:\n",
    "- Importar los elementos necesarios.\n",
    "- Instanciar una `QApplication` genérica. No es necesario editarla, por lo que siempre será similar a este ejemplo.\n",
    "- Se crea una variable `ventana` que será una instancia de `QWidget`. Por último, utilizamos el método `.show()` (propio de todo `QWidget`) para mostrarla en pantalla\n",
    "- La última línea es un comando común al utilizar `QApplications` y se asegura que Python termine una ejecución una vez se cierran todas las ventanas."
   ]
  },
  {
   "cell_type": "markdown",
   "metadata": {
    "id": "im_Z_U8TfBSl"
   },
   "source": [
    "#### Ejemplo"
   ]
  },
  {
   "cell_type": "code",
   "execution_count": null,
   "metadata": {
    "id": "N5hgViw9fZxZ"
   },
   "outputs": [],
   "source": [
    "import sys\n",
    "from PyQt5.QtWidgets import QApplication, QWidget, QPushButton, QLabel, QLineEdit\n",
    "from PyQt5.QtGui import QPixmap\n",
    "from PyQt5.QtCore import Qt, QTimer, QEventLoop\n",
    "\n",
    "class VentanaConTodo(QWidget):\n",
    "\n",
    "    def __init__(self, width, height, *args, **kwargs):\n",
    "        ''' Se deben pasar los argumentos a la clase madre '''\n",
    "        super().__init__(*args, **kwargs)\n",
    "        self.size = (width, height)\n",
    "\n",
    "        ''' Es buena práctica almacenar todo comando de inicio en un método similar '''\n",
    "        self.init_gui()\n",
    "\n",
    "    def init_gui(self):\n",
    "        ''' Se configura el tamaño y título de la ventana '''\n",
    "        self.setGeometry(400, 200, *self.size)\n",
    "        self.setWindowTitle('Ventana con algunas cosas')\n",
    "\n",
    "        # Comando para cambiar el stylesheet de algún objeto\n",
    "        self.setStyleSheet(\"background-color: white\")\n",
    "\n",
    "        ''' Se crea personaje acompañador '''\n",
    "        self.clip = QLabel(self)\n",
    "        size_clip = [self.size[0] * 0.1, self.size[1] * 0.4] \n",
    "        self.clip.setGeometry(0, 0, *size_clip)\n",
    "        #self.clip.setText(\"DCCIA\")\n",
    "        self.clip.setPixmap(QPixmap(\"clip.jpg\"))\n",
    "        self.clip.setScaledContents(True)\n",
    "\n",
    "        ''' Se crea un editor de texto y boton de búsqueda'''\n",
    "        self.buscador = QLineEdit(self)\n",
    "        self.boton_buscador = QPushButton(\"Buscar\", self)\n",
    "        self.boton_buscador.clicked.connect(self.buscando)\n",
    "\n",
    "        ''' Labels de instrucciones '''\n",
    "        self.mostrador = QLabel(self)\n",
    "        self.mostrador.setText(\"Aquí se mostrará lo escrito al buscar\")\n",
    "        self.instrucciones_clip = QLabel(self)\n",
    "        self.instrucciones_clip.setText(\"Presiona W o clickea el clip para saltar\")\n",
    "        # self.instrucciones_clip.setText(\"A Clip le gustan los clicks y la W\")\n",
    "\n",
    "        ''' Se ordenan los elementos  de la parte izquierda'''\n",
    "        self.instrucciones_clip.move(50, 10)\n",
    "        self.clip.move(100, self.size[1] - size_clip[1] - 5)\n",
    "\n",
    "        ''' Se ordenan los elementos  de la parte derecha'''\n",
    "        self.mostrador.move(300, 90)\n",
    "        self.buscador.move(320, 130)\n",
    "        self.boton_buscador.move(340, 160)\n",
    "\n",
    "        ''' Se muestra la ventana, si no se muestra aca podría mostrarse al instanciarla'''\n",
    "        ''' Si no se hace ninguno no se mostrará '''\n",
    "        self.show()\n",
    "\n",
    "    ''' Esto se ejecutará cuando pulsemos el boton buscar '''\n",
    "    def buscando(self):\n",
    "        # Se extrae el texto del QLineEdit\n",
    "        nuevo_texto = self.buscador.text()\n",
    "        # Se muestra utilizando setText\n",
    "        self.mostrador.setText(nuevo_texto)\n",
    "\n",
    "    ''' Esto detectará cuando soltemos una tecla '''\n",
    "    def keyReleaseEvent(self, event):\n",
    "\n",
    "        ''' Lo usamos para hacer que el personaje salte'''\n",
    "        ''' El evento detecta la tecla presionada, y se puede '''\n",
    "        ''' comparar con objetos Key de Qt'''\n",
    "        if event.key() == Qt.Key_W:\n",
    "            self.saltar()\n",
    "    \n",
    "    ''' Detectará cuando se presione el mouse '''\n",
    "    def mousePressEvent(self, event):\n",
    "        if event.button() == Qt.LeftButton and \\\n",
    "            self.clip.x() < event.x() < self.clip.x() + self.clip.size().width() and \\\n",
    "            self.clip.y() < event.y() < self.clip.y() + self.clip.size().height():\n",
    "            \n",
    "            self.saltar()\n",
    "    \n",
    "    ''' Mueve nuestro acompañante con el comando move() '''\n",
    "    def saltar(self):\n",
    "        for _ in range(30):\n",
    "            self.clip.move(self.clip.x(), self.clip.y() - 5)\n",
    "            self.sleep(0.005)\n",
    "\n",
    "        for _ in range(30):\n",
    "            self.clip.move(self.clip.x(), self.clip.y() + 5)\n",
    "            self.sleep(0.005)\n",
    "\n",
    "    def sleep(self, secs):\n",
    "        ''' Equivalente a time.sleep(secs) compatible con PyQt5'''\n",
    "        loop = QEventLoop()\n",
    "        QTimer.singleShot(secs * 1000, loop.quit)\n",
    "        loop.exec_()\n",
    "\n",
    "\n",
    "\n",
    "''' Esto ayuda a levantar excepciones inesperadas '''\n",
    "def hook(type, value, traceback):\n",
    "        print(type)\n",
    "        print(traceback)\n",
    "sys.__excepthook__ = hook\n",
    "\n",
    "\n",
    "''' Importantísimo siemore instanciar con UNA QApplication '''\n",
    "if __name__ == '__main__':\n",
    "    app = QApplication([])\n",
    "    ventana = VentanaConTodo(600, 300)\n",
    "    sys.exit(app.exec_())"
   ]
  },
  {
   "cell_type": "markdown",
   "metadata": {
    "id": "eljBCxDXfkdT"
   },
   "source": [
    "#### Frontend & Backend"
   ]
  },
  {
   "cell_type": "markdown",
   "metadata": {
    "id": "_bcPnxJ2fuzR"
   },
   "source": [
    "Al diseñar un programa, es esencial tener la siguiente división:\n",
    "\n",
    "* *Backend*: Parte encargada de la lógica del programa, cálculos, información que necesite ser almacenada, etc.\n",
    "\n",
    "* *Frontend*: Parte encargada de mostrar los cambios que se vayan realizando en el *Backend*.\n",
    "\n",
    "Esta disposición permite lograr estructuras mucho más complejas que lo que se podría lograr programando todo junto. Para poder comunicar apropiadamente estas estructuras son esenciales las *señales*."
   ]
  },
  {
   "cell_type": "markdown",
   "metadata": {
    "id": "FHvW_D00icTJ"
   },
   "source": [
    "Un par de cosas importantes de las señales:\n",
    "\n",
    "* Comunmente se crean encima del \\__init\\__ de una clase, esto es para que sea un atributo global de la clase.\n",
    "* Es necesario crear señales para cada sentido de comunicación, una del *backend* al *frontend* y otro en sentido contrario.\n",
    "* Estas señales se deben conectar mediante el método *connect* de la siguiente manera: _clase_emisora.nombre_señal.connect(método_a_comenzar_al\\_emitir)_ en el *main*."
   ]
  },
  {
   "cell_type": "markdown",
   "metadata": {
    "id": "285zS1RL8Dq8"
   },
   "source": [
    "### Properties"
   ]
  },
  {
   "cell_type": "markdown",
   "metadata": {
    "id": "hqcvaB8M0xYu"
   },
   "source": [
    "Una property funciona como un atributo, sobre el cual podemos modificar su comportamiento cada vez que es leído (get), escrito (set), o eliminado (del). Al usar el mecanismo de properties sobre un atributo, podemos ejecutar acciones de manera más limpia que invocando métodos explícitos para leer o modificar el valor de un objeto. \n",
    "Por supuesto debemos definir los métodos correspondientes getter y setter. Veremos que al utilizar estos métodos podemos agregar comportamiento adicional en cada caso.\n",
    "\n",
    "PD: Los atributos cuyo comportamiento es modificado, no necesariamente son privados, de hecho, pueden ser públicos, privados o incluso no estar dentro de la misma clase en la cual se aplica la property."
   ]
  },
  {
   "cell_type": "code",
   "execution_count": null,
   "metadata": {
    "id": "wOEsUoaO8lut"
   },
   "outputs": [],
   "source": [
    "\"\"\"Property que mantiene los valores de las notas entre 1 y 7.\"\"\"\n",
    "\n",
    "\n",
    "class Alumno:\n",
    "    \"\"\"Clase para guardar nota de los alumnos.\"\"\"\n",
    "\n",
    "    def __init__(self, nombre, nota):\n",
    "        \"\"\"Init de la clase. Recibe nota cuando se crea.\"\"\"\n",
    "        self.nombre = nombre\n",
    "        # self.__nota = nota\n",
    "        self.nota = nota\n",
    "\n",
    "    @property\n",
    "    def nota(self):\n",
    "        \"\"\"Property. Es el getter de el atributo nota.\"\"\"\n",
    "        return self.__nota  # Como nota es \"\"privado\" al tener doble guión bajo\n",
    "                            # no se podría modificar sin un getter.\n",
    "    @nota.setter\n",
    "    def nota(self, nueva_nota): # Se recibe la NUEVA nota, no el cambio respecto al anterior\n",
    "        if nueva_nota > 7:    # Aquí se verifica si se pasa de 7.\n",
    "            self.__nota = 7\n",
    "        elif nueva_nota < 1:  # Aquí se verifica si es menor que 1.\n",
    "            self.__nota = 1\n",
    "        else:                 # Aquí se pone la nota correspondiente si cumple los requisitos.\n",
    "            self.__nota = nueva_nota\n",
    "\n",
    "    def bonificacion(self, puntos):\n",
    "        \"\"\"Ejemplo de función que modifica el atributo.\"\"\"\n",
    "        self.nota += puntos\n",
    "        print(f\"La nota de {self.nombre} tras la bonificación es {self.nota}\")\n",
    "\n",
    "    def penalizacion(self, puntos):\n",
    "        \"\"\"Ejemplo de función que modifica el atributo.\"\"\"\n",
    "        self.nota -= puntos\n",
    "        print(f\"La nota de {self.nombre} tras la penalización es {self.nota}\")\n",
    "\n",
    "# EJEMPLO\n",
    "\n",
    "# Se instancia un alumno con nota fuera de los rangos especificados\n",
    "alumno_evaluado = Alumno(\"nacho_urrutia\", 8.0)  # El alumno queda con nota 7 tras pasar por la property\n",
    "print(f\"La nota de {alumno_evaluado.nombre} es {alumno_evaluado.nota}\")\n",
    "\n",
    "alumno_evaluado.nota -= 1.5  # Puedes modificar la nota directamente gracias al setter\n",
    "print(f\"La nota de {alumno_evaluado.nombre} es {alumno_evaluado.nota}\") \n",
    "\n",
    "# Aquí alumno_evaluado hizo excelente la tarea y ganó 2.5 ptos\n",
    "alumno_evaluado.bonificacion(2.5)  # Esto sumaría 8 sin el setter\n",
    "\n",
    "# Aquí alumno_evaluado no entregó el readme en la tarea y para hacerlo fácil le restamos 10.0\n",
    "alumno_evaluado.penalizacion(10.0)  # Esto sumaría -3.0 sin el setter\n"
   ]
  },
  {
   "cell_type": "markdown",
   "metadata": {
    "id": "ydqKCVJn9uu0"
   },
   "source": [
    "## Contenidos de la Semana 9"
   ]
  },
  {
   "cell_type": "markdown",
   "metadata": {
    "id": "aPzZ60fg3Q4p"
   },
   "source": [
    "### Funciones de primera clase\n",
    "Python posee funciones de primera clase, lo cual significa que estas se pueden tratar tal como cualquier otra variable. Algunas consecuencias de aquello se muestran a continuación:"
   ]
  },
  {
   "cell_type": "markdown",
   "metadata": {
    "id": "qKP7dlbYAB36"
   },
   "source": [
    "#### 1. Las funciones pueden ser asignadas a una variable, y luego usar esa variable igual que la función.\n",
    "\n",
    "Referenciar funciones --> Puntero de funciones, si se modifica una se modifica la otra"
   ]
  },
  {
   "cell_type": "code",
   "execution_count": null,
   "metadata": {
    "id": "BpFJkKcI3l8t"
   },
   "outputs": [],
   "source": [
    "def suma(x, y):\n",
    "    return x + y\n",
    "\n",
    "adición = suma\n",
    "\n",
    "# Ambas son la misma función\n",
    "print(adición)\n",
    "print(suma)\n",
    "\n",
    "# Y por lo tanto entregan el mismo resultado\n",
    "print(suma(3, 5))\n",
    "print(adición(3, 5))"
   ]
  },
  {
   "cell_type": "markdown",
   "metadata": {
    "id": "XWI0GlbRAwf2"
   },
   "source": [
    "#### 2. Se pueden definir funciones anidadas, es decir, funciones dentro de otras funciones."
   ]
  },
  {
   "cell_type": "code",
   "execution_count": null,
   "metadata": {
    "id": "3crODjb_Az0Y"
   },
   "outputs": [],
   "source": [
    "def operacion(x, y):\n",
    "    \n",
    "    ## La función 'operacion_interna' se define DENTRO de 'operacion' y puede ser \n",
    "    ## usado dentro de ella\n",
    "    def operacion_interna(z):\n",
    "        return z ** 2\n",
    "    \n",
    "    ## Podemos usar 'operacion_interna' dentro de 'operacion'\n",
    "    resultado = x + y + operacion_interna(x + y)\n",
    "    return resultado\n",
    "\n",
    "print(operacion(3, 5))"
   ]
  },
  {
   "cell_type": "markdown",
   "metadata": {
    "id": "JW-C7lDJA0X2"
   },
   "source": [
    "#### 3. Las funciones pueden ser pasadas como argumentos a otras funciones.\n"
   ]
  },
  {
   "cell_type": "code",
   "execution_count": null,
   "metadata": {},
   "outputs": [],
   "source": [
    "def saludar_señora(nombre):\n",
    "    return ' '.join([\"Señora\", nombre])\n",
    "\n",
    "def saludar_señor(nombre):\n",
    "    return ' '.join([\"Señor\", nombre])\n",
    "\n",
    "## Recibe una función, y ejecuta un llamado con ella.\n",
    "def saludar_tarde(función_saludo, nombre):\n",
    "    return ' '.join([\"Buenas tardes\", función_saludo(nombre)])\n",
    "\n",
    "## Aquí pasamos un nombre de función como argumento.\n",
    "## Atención que no agregamos los '()' porque no estamos invocando a esa función\n",
    "print(saludar_tarde(saludar_señora, \"Valeria\"))\n",
    "print(saludar_tarde(saludar_señor, \"Germán\"))"
   ]
  },
  {
   "cell_type": "markdown",
   "metadata": {
    "id": "bvkjC8lEBBWw"
   },
   "source": [
    "#### 4. Las funciones pueden retornar otras funciones."
   ]
  },
  {
   "cell_type": "code",
   "execution_count": null,
   "metadata": {},
   "outputs": [],
   "source": [
    "def fabricar_funcion():\n",
    "    ## Aquí definimos una función \"dentro\" de otra.\n",
    "    ## Esto significa que el nombre 'nueva_funcion' solo es válido dentro 'fabricar_funcion'\n",
    "    def nueva_funcion(x, y):\n",
    "        return x * y\n",
    "    \n",
    "    print(f\"Acabo de fabricar la función {nueva_funcion} y la retornaré\")\n",
    "    return nueva_funcion\n",
    "\n",
    "## Este llamado no invoca a 'nueva_funcion', sino que solo la define y la retorna\n",
    "funcion = fabricar_funcion()\n",
    "\n",
    "## Ahora, 'funcion' queda definida como 'nueva_funcion'\n",
    "print(f\"funcion es {funcion}\")\n",
    "print(f\"Invocando a funcion(3,5) --> {funcion(3,5)}\")"
   ]
  },
  {
   "cell_type": "markdown",
   "metadata": {
    "id": "ufBn5QMMBDY3"
   },
   "source": [
    "#### 5. Las funciones definidas adentro de otras tienen acceso (sólo de lectura) a las variables del scope de la función que la contiene."
   ]
  },
  {
   "cell_type": "code",
   "execution_count": null,
   "metadata": {},
   "outputs": [],
   "source": [
    "def fabricar_funcion(x):\n",
    "    texto = \"Texto de prueba\"\n",
    "    print(f\"[fabricar_funcion] Texto: {texto}\")\n",
    "    def nueva_funcion():\n",
    "        texto = \"Texto definitivo\"\n",
    "        print(f\"[nueva_funcion] Texto: {texto}\")\n",
    "        return 2 * x\n",
    "    print(f\"[fabricar_funcion] Texto: {texto}\")\n",
    "    return nueva_funcion"
   ]
  },
  {
   "cell_type": "code",
   "execution_count": null,
   "metadata": {},
   "outputs": [],
   "source": [
    "# Llamamos fabricar_función para obtener nuestra función que multiplica por dos\n",
    "funcion = fabricar_funcion(3)\n",
    "\n",
    "# Ahora, llamamos la función\n",
    "print(funcion())"
   ]
  },
  {
   "cell_type": "markdown",
   "metadata": {
    "id": "-HhGvnC63mqh"
   },
   "source": [
    "### Decoradores 😎\n",
    "Los decoradores son una forma de agregarle funcionalidades a un objeto sin tener que reescribir su código. En este caso, utilizaremos decoradores de funciones, los cuales permiten tomar una función ya implementada, agregar alguna funcionalidad y retornar la función alterada."
   ]
  },
  {
   "cell_type": "markdown",
   "metadata": {
    "id": "l0JbxaceEN9l"
   },
   "source": [
    "Supongamos que queremos espamear a nuestro mejor amigo para que conteste el teléfono. Para eso utilizaremos dos funciones: `enviar_mensaje(amigo)` y `llamar(amigo)`"
   ]
  },
  {
   "cell_type": "code",
   "execution_count": null,
   "metadata": {
    "id": "g4n06VOF3pkK"
   },
   "outputs": [],
   "source": [
    "def enviar_mensaje(amigo):\n",
    "  print(f\"Querid@ {amigo} por favor respóndeme\")\n",
    "\n",
    "def llamar(amigo):\n",
    "  print(f\"LLamando a {amigo}\")"
   ]
  },
  {
   "cell_type": "code",
   "execution_count": null,
   "metadata": {
    "colab": {
     "base_uri": "https://localhost:8080/"
    },
    "id": "HHF9x8RwGcTU",
    "outputId": "eee7b031-bb9c-497c-f220-68386cd4127e"
   },
   "outputs": [],
   "source": [
    "llamar(\"CrisLucho\")\n",
    "enviar_mensaje(\"Seba Olivares\")"
   ]
  },
  {
   "cell_type": "markdown",
   "metadata": {
    "id": "J_zxvzICEpJ0"
   },
   "source": [
    "Sin embargo, nos cansamos de mandar mensajes tantas veces a mano y decidimos automatizar este proceso para lo que podremos utilizar decoradores! :D \n",
    "Crearemos entonces un decorador `repetir_accion` que se encargará de repetir 10 veces la función decorada. Veamos como hacerlo!"
   ]
  },
  {
   "cell_type": "code",
   "execution_count": null,
   "metadata": {
    "id": "HdXl0wR3F06T"
   },
   "outputs": [],
   "source": [
    "def repetir_accion(function):\n",
    "  \"\"\"\n",
    "  La función wrapper 'envuelve' a la función que queremos alterar.\n",
    "  Recibe n_spams para indicar la cantidad de veces a repetir\n",
    "  la función que queremos manipular.\n",
    "  \"\"\"\n",
    "  def wrapper(n_spams, nombre):\n",
    "    for i in range(n_spams):\n",
    "      function(nombre)\n",
    "  return wrapper  # Retornamos la función modificada\n"
   ]
  },
  {
   "cell_type": "code",
   "execution_count": null,
   "metadata": {
    "id": "OAvn9EyrGbg_"
   },
   "outputs": [],
   "source": [
    "enviar_mensajes = repetir_accion(enviar_mensaje)\n",
    "molestar = repetir_accion(llamar)"
   ]
  },
  {
   "cell_type": "code",
   "execution_count": null,
   "metadata": {
    "colab": {
     "base_uri": "https://localhost:8080/"
    },
    "id": "_3czqS5iHHmG",
    "outputId": "4724e135-6fb1-452a-a692-7d0a7b3e3e02"
   },
   "outputs": [],
   "source": [
    "enviar_mensajes(15,\"CrisLucho\")"
   ]
  },
  {
   "cell_type": "markdown",
   "metadata": {
    "id": "rpwuAyhOJmlp"
   },
   "source": [
    "Sin embargo, python tiene una forma más práctica de utilizar estos decoradores, y es anteponiedo y es de la siguiente manera:"
   ]
  },
  {
   "cell_type": "code",
   "execution_count": null,
   "metadata": {
    "id": "86XkOo98J99Q"
   },
   "outputs": [],
   "source": [
    "@repetir_accion\n",
    "def enviar_mensaje(amigo):\n",
    "  print(f\"Yo: Querid@ {amigo} por favor respóndeme\")\n",
    "\n",
    "@repetir_accion\n",
    "def llamar(amigo):\n",
    "  print(f\"LLamando a {amigo}...\")"
   ]
  },
  {
   "cell_type": "markdown",
   "metadata": {
    "id": "KVO6Z6GEKP4G"
   },
   "source": [
    "Probemos como funciona!"
   ]
  },
  {
   "cell_type": "code",
   "execution_count": null,
   "metadata": {
    "colab": {
     "base_uri": "https://localhost:8080/"
    },
    "id": "AOeB-1VqKPYt",
    "outputId": "de4650e6-275e-46b2-ebee-7678a3ad96e8"
   },
   "outputs": [],
   "source": [
    "llamar(35, \"Vale Cordova\")\n",
    "enviar_mensaje(22, \"Vale Cordova\")"
   ]
  },
  {
   "cell_type": "markdown",
   "metadata": {
    "id": "7nBnClaEMSKL"
   },
   "source": [
    "Pero que pasa si queremos utilizar nuestro decorador en funciones con distinto número de argumentos?...\n",
    "Aquí llegan a salvarnos nuestros ~~no tan~~ queridos \\*args y \\**kwargs"
   ]
  },
  {
   "cell_type": "code",
   "execution_count": null,
   "metadata": {
    "id": "RCyUhKTsKHwN"
   },
   "outputs": [],
   "source": [
    "def repetir_accion(function):\n",
    "  \"\"\"\n",
    "  La función wrapper 'envuelve' a la función que queremos alterar.\n",
    "  Recibe *args y **kwargs para ser capaz de usar los mismos parámetros\n",
    "  que la función que queremos manipular.\n",
    "  \"\"\"\n",
    "  def wrapper(n_spams, *args, **kwargs):\n",
    "    for i in range(n_spams):\n",
    "      function(*args, **kwargs)\n",
    "  return wrapper  # Retornamos la función modificada"
   ]
  },
  {
   "cell_type": "code",
   "execution_count": null,
   "metadata": {
    "id": "UfCMB6f8NPUB"
   },
   "outputs": [],
   "source": [
    "@repetir_accion\n",
    "def enviar_mensaje(amigo, mensaje):\n",
    "  print(f\"Yo: Querid@ {amigo}, {mensaje}\")\n",
    "\n",
    "@repetir_accion\n",
    "def llamar(amigo):\n",
    "  print(f\"LLamando a {amigo}...\")\n",
    "\n",
    "@repetir_accion\n",
    "def enviar_objetos(amigo, direccion, lista_objetos):\n",
    "  for objeto in (lista_objetos):\n",
    "    print(f\"{amigo} te ha llegado un/a {objeto}\")\n",
    "  print(f\"Los objetos han sido enviados a {direccion}\")"
   ]
  },
  {
   "cell_type": "code",
   "execution_count": null,
   "metadata": {
    "colab": {
     "base_uri": "https://localhost:8080/"
    },
    "id": "onSckzNKONb3",
    "outputId": "2cb5852a-c0d0-4586-8b59-f2e72fd92326"
   },
   "outputs": [],
   "source": [
    "a = \"Nacho Urrutia\"\n",
    "llamar(8, a)\n",
    "enviar_mensaje(10, a, \"abre la puertaaa\")\n",
    "enviar_objetos(3, a, \"Calle Falsa 123\", [\"huevo\", \"palta\", \"papel higiénico\", \"tomate\"])\n"
   ]
  },
  {
   "cell_type": "markdown",
   "metadata": {
    "id": "SHvmf863OJS6"
   },
   "source": [
    "Finalmente, como los decoradores también son funciones, se les pueden entregar argumentos. En este caso, ingresaremos el número de repeticiones como argumento del decorador: "
   ]
  },
  {
   "cell_type": "code",
   "execution_count": null,
   "metadata": {
    "id": "vFXoHUFdQMPf"
   },
   "outputs": [],
   "source": [
    "def repetir_accion(n_spam):\n",
    "  def funcion_decorada(funcion):\n",
    "    def wrapper(*args, **kwargs):\n",
    "      for i in range(n_spam):\n",
    "        funcion(*args, **kwargs)\n",
    "    return wrapper  # Retornamos la función modificada\n",
    "  return funcion_decorada\n"
   ]
  },
  {
   "cell_type": "code",
   "execution_count": null,
   "metadata": {
    "id": "m5rDOUUIQzyx"
   },
   "outputs": [],
   "source": [
    "@repetir_accion(10)\n",
    "def enviar_mensaje(amigo, mensaje):\n",
    "  print(f\"Yo: Querid@ {amigo}, {mensaje}\")\n",
    "\n",
    "@repetir_accion(5)\n",
    "def llamar(amigo):\n",
    "  print(f\"LLamando a {amigo}...\")\n",
    "\n",
    "@repetir_accion(3)\n",
    "def enviar_objetos(amigo, direccion, lista_objetos):\n",
    "  for objeto in (lista_objetos):\n",
    "    print(f\"{amigo} te ha llegado un/a {objeto}\")\n",
    "  print(f\"Los objetos han sido enviados a {direccion}\")"
   ]
  },
  {
   "cell_type": "code",
   "execution_count": null,
   "metadata": {
    "colab": {
     "base_uri": "https://localhost:8080/"
    },
    "id": "STOQ-YDTQ6X2",
    "outputId": "ee0964b5-4112-4e0f-e01e-83803741ebb3"
   },
   "outputs": [],
   "source": [
    "llamar(\"Vale Cordova\")\n",
    "enviar_mensaje(\"Cris Lucho\", \"habla el jaguar, contesta\")\n",
    "enviar_objetos(\"Seba Olivares\", \"Jacarepagua 22302\", [\"DCCobranza\",\"invitacion a DCCita\",\"cubo de DCConsola\"])"
   ]
  },
  {
   "cell_type": "markdown",
   "metadata": {
    "id": "XrqXWLri3sqO"
   },
   "source": [
    "### Ejemplos"
   ]
  },
  {
   "cell_type": "markdown",
   "metadata": {
    "id": "cYlsVlmn1Qn5"
   },
   "source": [
    "Imagina que volvemos a la Tarea 0 y necesitas ingresar un nombre y un apellido de usuario hasta que cumplan con el requerimiento de ser alfanuméricos, pero esta vez tienes tu as bajo la manga: **Decoradores**.  "
   ]
  },
  {
   "cell_type": "code",
   "execution_count": null,
   "metadata": {
    "id": "WBCvRWtl3vAH"
   },
   "outputs": [],
   "source": [
    "\"\"\"\n",
    "Decorador encargado de pedir un input hasta que sea alfanumérico\n",
    "\"\"\"\n",
    "\n",
    "def alfanumerico(categoria):  # Aquí recibimos el nombre de la categoría (en este caso nombre o apellido)\n",
    "  def funcion_decoradora(funcion):    # Recibimos la función sobre la cual actuará el decorador\n",
    "    def wrapper(usuario):     # Recibimos los parámetros de la función anterior (al ser un método recibe como parámetro la clase a la que pertenece)\n",
    "      ingresado = input(f\"Ingresar {categoria}: \") # Pedimos el input\n",
    "      while not ingresado.isalpha():  # Repetimos hasta que se cumplan las condiciones\n",
    "        print(\"Debes ingresar solo caracteres alfanuméricos, inténtalo de nuevo!\")\n",
    "        ingresado = input(f\"Ingresar {categoria}: \")\n",
    "      return funcion(usuario, ingresado)  # Retornamos el resultado del método \n",
    "    return wrapper  # Retornamos la función modificada\n",
    "  return funcion_decoradora"
   ]
  },
  {
   "cell_type": "markdown",
   "metadata": {
    "id": "Y1rOjR7WCDe6"
   },
   "source": [
    "Ahora implementaremos nuestro decorador en una clase `Usuario` para asignarle un nombre y un apellido que cumplan con ser alfanuméricos."
   ]
  },
  {
   "cell_type": "code",
   "execution_count": null,
   "metadata": {
    "id": "MzOFLKilAB8e"
   },
   "outputs": [],
   "source": [
    "class Usuario:\n",
    "  def __init__(self):\n",
    "    self.asignar_nombre()\n",
    "    self.asignar_apellido()\n",
    "    self.saludar()\n",
    "  \n",
    "  @alfanumerico(\"apellido\")\n",
    "  def asignar_apellido(self, apellido):\n",
    "    self.apellido = apellido\n",
    "    \n",
    "  @alfanumerico(\"nombre\")\n",
    "  def asignar_nombre(self, nombre):\n",
    "    self.nombre = nombre\n",
    "\n",
    "  def saludar(self):\n",
    "    print(f\"Bienvenid@ {self.nombre} {self.apellido}!\")"
   ]
  },
  {
   "cell_type": "code",
   "execution_count": null,
   "metadata": {
    "colab": {
     "base_uri": "https://localhost:8080/"
    },
    "id": "17DmdSdw4O89",
    "outputId": "189c4557-4df1-46da-a768-23466b683718"
   },
   "outputs": [],
   "source": [
    "usuario = Usuario()"
   ]
  }
 ],
 "metadata": {
  "colab": {
   "collapsed_sections": [
    "285zS1RL8Dq8",
    "XWI0GlbRAwf2"
   ],
   "name": "Ayudantía 7.ipynb",
   "provenance": []
  },
  "kernelspec": {
   "display_name": "Python 3",
   "language": "python",
   "name": "python3"
  },
  "language_info": {
   "codemirror_mode": {
    "name": "ipython",
    "version": 3
   },
   "file_extension": ".py",
   "mimetype": "text/x-python",
   "name": "python",
   "nbconvert_exporter": "python",
   "pygments_lexer": "ipython3",
   "version": "3.7.4"
  }
 },
 "nbformat": 4,
 "nbformat_minor": 1
}
