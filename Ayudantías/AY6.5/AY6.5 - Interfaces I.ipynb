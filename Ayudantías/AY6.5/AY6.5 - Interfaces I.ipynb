{
 "cells": [
  {
   "cell_type": "markdown",
   "metadata": {
    "slideshow": {
     "slide_type": "slide"
    }
   },
   "source": [
    "# **Ayudantía 6.5: Interfaces Gráficas I**\n",
    "\n",
    "\n",
    "## Autores: [@pablok98](https://github.com/pablok98), [@igbasly](https://github.com/igbasly)\n",
    "*Basada en ayudantía 7 de 2020-1 y 2020-2*"
   ]
  },
  {
   "cell_type": "markdown",
   "metadata": {
    "slideshow": {
     "slide_type": "subslide"
    }
   },
   "source": [
    "# Interfaces Gráficas"
   ]
  },
  {
   "cell_type": "markdown",
   "metadata": {
    "slideshow": {
     "slide_type": "fragment"
    }
   },
   "source": [
    "**¿ _Polling_ ?**\n",
    "\n",
    "Revisión constante y reiterada de los elementos de la ventana."
   ]
  },
  {
   "cell_type": "code",
   "execution_count": null,
   "metadata": {},
   "outputs": [],
   "source": [
    "while True:\n",
    "    if elemento_1:\n",
    "        action()\n",
    "    if elemento_2:\n",
    "        action()\n",
    "    if elemento_n:\n",
    "        action()"
   ]
  },
  {
   "cell_type": "markdown",
   "metadata": {
    "slideshow": {
     "slide_type": "subslide"
    }
   },
   "source": [
    "**Eventos**\n",
    "\n",
    "Desencadenamiento de acciones solo cuando un evento ha ocurrido.\n",
    "\n",
    "* Click en `elemento_1`\n",
    "* Cerrar ventana\n",
    "* Click en `elemento_2`\n",
    "\n",
    "Para esta arquitectura se define como reaccionará el programa cada vez que un evento ocurra, los cuales puden ser manejados de forma asíncrona, es decir, cada uno de forma independiente al programa principal *(threads)*.\n",
    "\n",
    "Para definir como se comporta cada evento, se defininen **manejadores o *handlers* .** Los cuales se accionan cada vez que un evento ocurra.\n",
    "\n",
    "* Click en `elemento_1` $\\Large\\rightarrow$ `accion_1()` $\\Large\\rightarrow$ Abre nueva ventana\n",
    "\n",
    "\n",
    "* Cerrar ventana        $\\Large\\rightarrow$ `accion_2()` $\\Large\\rightarrow$ Termina procesos\n",
    "\n",
    "\n",
    "* Click en `elemento_2`$\\Large\\rightarrow$ `accion_3()` $\\Large\\rightarrow$ Comprobar información"
   ]
  },
  {
   "cell_type": "markdown",
   "metadata": {
    "slideshow": {
     "slide_type": "slide"
    }
   },
   "source": [
    "## PyQt5"
   ]
  },
  {
   "cell_type": "markdown",
   "metadata": {
    "slideshow": {
     "slide_type": "fragment"
    }
   },
   "source": [
    "<img src=\"img/coordinates.png\" width=1000>"
   ]
  },
  {
   "cell_type": "markdown",
   "metadata": {
    "slideshow": {
     "slide_type": "subslide"
    }
   },
   "source": [
    "## **Importación de PyQt**\n",
    "Es importante que recuerden que la librería PyQt está dividida en varios submódulos, los cuales tienen que importar correctamente para utilizar los distintos elementos que se describen en estas ayudantías. Los más importantes que tienen que conocer son:\n",
    "- **QtWidgets**: De aquí se obtienen los *widgets* del funcionamiento principal y los elementos básicos para construir ventanas. Algunos ejemplos notables son: **QApplication**, **QWidget**, **QLabel**, **QPushButton**, **QHBoxLayout**\n",
    "\n",
    "\n",
    "- **QtCore**: De aquí se obtienen las clases principales para el funcionamiento de la aplicación y funcionalidades de PyQt. Algunos ejemplos notables son: **pyqtSignal**, **QObject**, **QTimer**\n",
    "\n",
    "\n",
    "- **QtGui**: De aquí se obtienen los objetos enfocados en imágenes y la interfaz del programa. Algunos ejemplos notables son: **QPixmap**, **QPainter**"
   ]
  },
  {
   "cell_type": "markdown",
   "metadata": {
    "slideshow": {
     "slide_type": "subslide"
    }
   },
   "source": [
    "## **Nociones básicas**\n",
    "### **Qapplication y Qwidget**\n",
    "La base de toda aplicación con PyQt debe tener **siempre** una instancia de QApplication (¡Una! ni más, ni menos) y almenos una instancia de un QWidget (puede ser cualquier tipo de QWidget de los existentes,\n",
    "como los ejemplos que les mostramos más adelante, incluyendo uno personalizado).\n",
    "\n",
    "### **Como crear un programa con PyQt**\n",
    "Para mostrar una ventana, podemos utilizar un QWidget:"
   ]
  },
  {
   "cell_type": "code",
   "execution_count": 1,
   "metadata": {
    "pycharm": {
     "name": "#%%\n"
    },
    "slideshow": {
     "slide_type": "subslide"
    }
   },
   "outputs": [],
   "source": [
    "import sys\n",
    "from PyQt5.QtWidgets import QWidget, QApplication\n",
    "\n",
    "if __name__ == '__main__':\n",
    "    app = QApplication([])\n",
    "    ventana = QWidget()\n",
    "    ventana.show()\n",
    "    sys.exit(app.exec_())"
   ]
  },
  {
   "cell_type": "markdown",
   "metadata": {
    "pycharm": {
     "name": "#%% md\n"
    },
    "slideshow": {
     "slide_type": "skip"
    }
   },
   "source": [
    "### **setGeometry(), setWindowTitle() y show()**\n",
    "\n",
    "- **setGeometry**: Método que establece el **tamaño** y **posición** de una ventana (o un QWidget cualquiera). Sus parámetros son: `posición_x, posición_y, ancho, alto`. Todos *int*.\n",
    "\n",
    "\n",
    "- **setWindowTitle**: Establece el título de la ventana (indicado en la barra superior). Recibe como parámetro un *string* con el nombre de la ventana.\n",
    "\n",
    "\n",
    "- **show**: Método utilizado para mostrar la ventana, como se mostró en el ejemplo anterior. Su contraparte es el método `.hide()` que se encarga de ocultar una ventana (o un QWidget cualquiera, como un botón).\n",
    "\n",
    "En primer lugar, será necesario importar todos los elementos necesarios para nuestra aplicación. En este caso necesitaremos QWidget y QApplication.\n",
    "\n",
    "Siempre partimos instanciando una QApplication genérica. Para efectos del curso, no es necesario editar o trabajar las características de la instancia de QApplication, por lo que\n",
    "no hay problema con que simplemente la instancien tal como se muestra en el ejemplo.\n",
    "\n",
    "Luego, creamos una variable `ventana` que será una instancia de QWidget. Por último, utilizamos el método `.show()` (propio de todo QWidget) para mostrarla en pantalla. Si es que no se llama a este\n",
    "método, ¡entonces no se mostrará nada en pantalla!\n",
    "\n",
    "La última línea de código es algo común que van a ver en los notebooks y ejemplos del curso, esta línea se preocupa de que Python termine su ejecución una vez que se cierran todas las ventanas.\n",
    "\n",
    "### **setGeometry(), setWindowTitle() y show()**\n",
    "Estos son métodos fundamentales para cualquier programa:\n",
    "- **setGeometry**: Método que establece el **tamaño** y **posición** de una ventana (o un QWidget cualquiera). Sus parámetros son: `posición_x, posición_y, ancho, alto`. Todos *int*.\n",
    "    - *Nota*: el punto 0,0 de la pantalla está ubicado en esquina superior izquierda (y la coordenada \"y\" avanza positivamente hacia abajo). La posición que se indica corresponde a la esquina superior izquierda del rectángulo.\n",
    "    \n",
    "    \n",
    "- **setWindowTitle**: Establece el título de la ventana (indicado en la barra superior). Recibe como parámetro un *string* con el nombre de la ventana.\n",
    "\n",
    "\n",
    "- **show**: Método utilizado para mostrar la ventana, como se mostró en el ejemplo anterior. Su contraparte es el método `.hide()` que se encarga de ocultar una ventana (o un QWidget cualquiera, como un botón)."
   ]
  },
  {
   "cell_type": "code",
   "execution_count": 2,
   "metadata": {
    "pycharm": {
     "name": "#%%\n"
    },
    "slideshow": {
     "slide_type": "subslide"
    }
   },
   "outputs": [],
   "source": [
    "import sys\n",
    "from PyQt5.QtWidgets import QWidget, QApplication\n",
    "\n",
    "if __name__ == '__main__':\n",
    "    app = QApplication([])\n",
    "    ventana = QWidget()\n",
    "    ventana.setGeometry(200, 100, 300, 300)\n",
    "    ventana.setWindowTitle('Ventana bien bacan')\n",
    "    ventana.show()\n",
    "    sys.exit(app.exec_())"
   ]
  },
  {
   "cell_type": "markdown",
   "metadata": {
    "pycharm": {
     "name": "#%% md\n"
    },
    "slideshow": {
     "slide_type": "subslide"
    }
   },
   "source": [
    "### **Ventana personalizada**\n",
    "Ustedes podrán construir sus propias ventanas personalizadas. Para esto, simplemente tienen que heredar QWidget (o cualquier otra clase que quieran personalizar, como botones).\n",
    "El ejemplo anterior puede ser programado con un QWidget personalizado:"
   ]
  },
  {
   "cell_type": "code",
   "execution_count": null,
   "metadata": {
    "pycharm": {
     "name": "#%%\n"
    },
    "slideshow": {
     "slide_type": "subslide"
    }
   },
   "outputs": [],
   "source": [
    "import sys\n",
    "from PyQt5.QtWidgets import QWidget, QApplication\n",
    "\n",
    "class MiVentana(QWidget):\n",
    "    def __init__(self):\n",
    "        super().__init__()\n",
    "        self.setGeometry(200, 100, 300, 300)\n",
    "        self.setWindowTitle('Ventana personalizada bien bacan')\n",
    "\n",
    "\n",
    "if __name__ == '__main__':\n",
    "    app = QApplication([])\n",
    "    ventana = MiVentana()\n",
    "    ventana.show()\n",
    "    sys.exit(app.exec_())"
   ]
  },
  {
   "cell_type": "markdown",
   "metadata": {
    "pycharm": {
     "name": "#%% md\n"
    },
    "slideshow": {
     "slide_type": "skip"
    }
   },
   "source": [
    "Recuerden **siempre** llamar a `super()` cuando heredan algun objeto de PyQt, de lo contrario su programa no va a funcionar."
   ]
  },
  {
   "cell_type": "markdown",
   "metadata": {
    "slideshow": {
     "slide_type": "skip"
    }
   },
   "source": [
    "### **Captura de excepciones y debuggeo**\n",
    "Cuando hacen un programa con PyQt es muy dificil obtener en consola las excepciones para visualizarla e identificar los errores de un programa. Por eso, se recomienda siempre utilizar el siguiente\n",
    "fragmento de código para capturar la gran mayoría de las excepciones y poder corregir los errores más fácilmente."
   ]
  },
  {
   "cell_type": "code",
   "execution_count": null,
   "metadata": {
    "pycharm": {
     "name": "#%%\n"
    },
    "slideshow": {
     "slide_type": "skip"
    }
   },
   "outputs": [],
   "source": [
    "import sys\n",
    "def hook(type, value, traceback):\n",
    "        print(type)\n",
    "        print(traceback)\n",
    "sys.__excepthook__ = hook"
   ]
  },
  {
   "cell_type": "markdown",
   "metadata": {
    "pycharm": {
     "name": "#%% md\n"
    },
    "slideshow": {
     "slide_type": "skip"
    }
   },
   "source": [
    "Lo único que tienen que hacer es poner este código al inicio del módulo encargado de instanciar y correr la QApplication."
   ]
  },
  {
   "cell_type": "markdown",
   "metadata": {
    "slideshow": {
     "slide_type": "skip"
    }
   },
   "source": [
    "## **Métodos útiles y comunes**\n",
    "### **Tamaño**\n",
    "Estos métodos les permitirán manipular el tamaño de cualquier *widget*:\n",
    "- **width**: Recibe como parámetro un *int* que indica el ancho de un *widget*.\n",
    "\n",
    "\n",
    "- **height**: Recibe como parámetro un *int* que indica el alto de un *widget*.\n",
    "\n",
    "\n",
    "- **resize**: Cambia el tamaño de un *widget*. Recibe dos parámetros del tipo *int* que indican el *width* (ancho) y *height* (alto) que corresponderán al tamaño deseado.\n",
    "\n",
    "\n",
    "- **setMaximumSize** y **setMinimumSize**: Permiten definir el tamaño máximo y mínimo de un *widget*. Al igual que el método anterior, reciben dos parámetros del tipo *int* que indican el ancho y alto deseado.\n",
    "\n",
    "\n",
    "\n",
    "### **Movimiento**\n",
    "El método `.move(coordenadas)` permite mover la posición de un *widget*. Este recibe dos parámetros del tipo *int* que indican la posición en el eje X y eje Y hasta donde se desea mover.\n",
    "### **Deshabilitar y habilitar**\n",
    "Los métodos `setDisabled` y `setEnabled` permiten deshabilitar/habilitar el funcionamiento de cualquier *widget* según ciertas reglas establecidas por PyQt (¡reglas muy útiles!).\n",
    "Reciben un *bool*. \n",
    "\n",
    "Por ejemplo, si tenemos un QPushButton guardado en la variable `button` y escribimos la setencia `setEnabled(True)` se habilita el botón para ser presionado. Por el contrario, si hiciéramos `setEnabled(False)` se deshabilitaría."
   ]
  },
  {
   "cell_type": "code",
   "execution_count": 1,
   "metadata": {
    "pycharm": {
     "name": "#%%\n"
    },
    "slideshow": {
     "slide_type": "subslide"
    }
   },
   "outputs": [],
   "source": [
    "import sys\n",
    "from PyQt5.QtWidgets import QWidget, QApplication, QPushButton\n",
    "\n",
    "class MiVentana(QWidget):\n",
    "    def __init__(self):\n",
    "        super().__init__()\n",
    "        self.setGeometry(200, 100, 300, 300)\n",
    "        self.setWindowTitle('Ventana personalizada bien bacan')\n",
    "\n",
    "        self.boton_deshabilitado = QPushButton(':(', self)\n",
    "        self.boton_habilitado = QPushButton(':)', self)\n",
    "\n",
    "        self.ini_gui()\n",
    "\n",
    "    def ini_gui(self):\n",
    "        self.boton_deshabilitado.setDisabled(True)\n",
    "        self.boton_deshabilitado.move(100, 0)\n",
    "        self.show()\n",
    "\n",
    "\n",
    "if __name__ == '__main__':\n",
    "    app = QApplication([])\n",
    "    ventana = MiVentana()\n",
    "    sys.exit(app.exec_())"
   ]
  },
  {
   "cell_type": "markdown",
   "metadata": {
    "pycharm": {
     "name": "#%% md\n"
    },
    "slideshow": {
     "slide_type": "skip"
    }
   },
   "source": [
    "Es importante considerar que al deshabilitar un *widget*, entonces todas las widgets que él contenga también serán deshabilitadas."
   ]
  },
  {
   "cell_type": "markdown",
   "metadata": {
    "slideshow": {
     "slide_type": "subslide"
    }
   },
   "source": [
    "## **Widgets útiles y comunes**\n",
    "### **QLabel, texto e imágenes**\n",
    "QLabel es un *widget* básico que se usa para un gran número de aplicaciones. Son básicamente contenedores, y sus usos más comunes son mostrar texto y mostrar imágenes.\n",
    "#### **Texto**\n",
    "Al crear una instancia de QLabel, se le puede pasar un *string* como argumento para que esta muestre el texto entregado.\n",
    "También se puede ocupar el método `.setText(texto)` para cambiar el texto de la QLabel."
   ]
  },
  {
   "cell_type": "code",
   "execution_count": 1,
   "metadata": {
    "pycharm": {
     "name": "#%%\n"
    },
    "slideshow": {
     "slide_type": "skip"
    }
   },
   "outputs": [],
   "source": [
    "import sys\n",
    "from PyQt5.QtWidgets import QWidget, QApplication, QLabel\n",
    "\n",
    "class MiVentana(QWidget):\n",
    "    def __init__(self):\n",
    "        super().__init__()\n",
    "        self.setGeometry(200, 100, 300, 300)\n",
    "        self.setWindowTitle('Ventana personalizada bien bacan')\n",
    "        self.label = QLabel('Este texto no se alcanza a ver :(', self)\n",
    "\n",
    "        self.ini_gui()\n",
    "\n",
    "    def ini_gui(self):\n",
    "        self.label.setText('Cruz era el impostor :O')\n",
    "        self.label.move(50, 50)\n",
    "        self.show()\n",
    "\n",
    "\n",
    "if __name__ == '__main__':\n",
    "    app = QApplication([])\n",
    "    ventana = MiVentana()\n",
    "    sys.exit(app.exec_())"
   ]
  },
  {
   "cell_type": "markdown",
   "metadata": {
    "pycharm": {
     "name": "#%% md\n"
    },
    "slideshow": {
     "slide_type": "subslide"
    }
   },
   "source": [
    "#### **Pixmap**\n",
    "Otro elemento importante para la creación de interfaces gráficas es mostrar imágenes. Esto lo hacemos por medio de QPixmap, el cual se importa desde QtGui.\n",
    "Para utilizar el pixmap, necesitan lo siguiente:\n",
    "- Una imagen que quieran utilizar. Necesitarán definir un *string* con la ruta donde esta se encuentra.\n",
    "\n",
    "\n",
    "- Una instancia de QLabel, la cual contendrá y mostrará la imagen.\n",
    "\n",
    "\n",
    "- Una instancia de QPixmap, a la cual le pasamos como argumento el *string* con la ruta de la imagen\n",
    "\n",
    "\n",
    "- Llamar al método `.setPixmap(pixeles)` de QLabel, donde pixeles corresponde a la instancia de QPixmap creada en el paso anterior.\n",
    "    - Pueden, opcionalmente, llamar al método `.setScaledContents(True)` para que la imagen se ajuste al tamaño del label que la contiene."
   ]
  },
  {
   "cell_type": "code",
   "execution_count": 1,
   "metadata": {
    "pycharm": {
     "name": "#%%\n"
    },
    "slideshow": {
     "slide_type": "skip"
    }
   },
   "outputs": [],
   "source": [
    "import sys\n",
    "import os\n",
    "from PyQt5.QtWidgets import QWidget, QApplication, QLabel\n",
    "from PyQt5.QtGui import QPixmap\n",
    "\n",
    "class MiVentana(QWidget):\n",
    "    def __init__(self):\n",
    "        super().__init__()\n",
    "        self.setGeometry(200, 100, 300, 300)\n",
    "        self.setWindowTitle('Ventana personalizada bien bacan')\n",
    "        self.label = QLabel('Este texto no se alcanza a ver :(', self)\n",
    "\n",
    "        self.ini_gui()\n",
    "\n",
    "    def ini_gui(self):\n",
    "        self.label.setGeometry(50, 50, 200, 190)\n",
    "\n",
    "        ruta = os.path.join('img', 'fall_guys_dab.jpg')\n",
    "        pixeles = QPixmap(ruta)\n",
    "        self.label.setPixmap(pixeles)\n",
    "        # Pueden comentar la siguiente linea para ver los efectos de escalar la imagen\n",
    "        self.label.setScaledContents(True)\n",
    "\n",
    "        self.show()\n",
    "\n",
    "\n",
    "if __name__ == '__main__':\n",
    "    app = QApplication([])\n",
    "    ventana = MiVentana()\n",
    "    sys.exit(app.exec_())"
   ]
  },
  {
   "cell_type": "markdown",
   "metadata": {
    "pycharm": {
     "name": "#%% md\n"
    },
    "slideshow": {
     "slide_type": "subslide"
    }
   },
   "source": [
    "### **QPushButton**\n",
    "Es un botón, tal como los conocen en una aplicación normal y, al crearlo, pueden definir el texto que muestra. Estos permitem enviar una señal cuando son clickeados (explicado en la sección de eventos y señales).\n",
    "### **QLineEdit**\n",
    "Es un cuadro de texto que permite al usuario ingresar **una línea** para poder ser después capturado por el programa. Un ejemplo de este tipo de *widgets* es cuando en un formulario te aparece un campo para escribir tu nombre."
   ]
  },
  {
   "cell_type": "code",
   "execution_count": null,
   "metadata": {
    "pycharm": {
     "name": "#%%\n"
    },
    "slideshow": {
     "slide_type": "skip"
    }
   },
   "outputs": [],
   "source": [
    "import sys\n",
    "from PyQt5.QtWidgets import QWidget, QApplication, QPushButton, QLineEdit\n",
    "\n",
    "class MiVentana(QWidget):\n",
    "    def __init__(self):\n",
    "        super().__init__()\n",
    "        self.setGeometry(200, 100, 300, 300)\n",
    "        self.setWindowTitle('Ventana personalizada bien bacan')\n",
    "\n",
    "        self.boton_print = QPushButton('Imprimir', self)\n",
    "        self.cuadro_texto = QLineEdit(self)\n",
    "\n",
    "        self.ini_gui()\n",
    "\n",
    "    def ini_gui(self):\n",
    "        self.boton_print.move(200, 0)\n",
    "        self.cuadro_texto.move(25, 0)\n",
    "\n",
    "        self.boton_print.clicked.connect(self.imprimir_texto)\n",
    "\n",
    "        self.show()\n",
    "\n",
    "    def imprimir_texto(self):\n",
    "        print(self.cuadro_texto.text())\n",
    "\n",
    "\n",
    "if __name__ == '__main__':\n",
    "    app = QApplication([])\n",
    "    ventana = MiVentana()\n",
    "    sys.exit(app.exec_())"
   ]
  },
  {
   "cell_type": "markdown",
   "metadata": {
    "slideshow": {
     "slide_type": "skip"
    }
   },
   "source": [
    "## **Layouts**\n",
    "### **Qué son y para qué sirven**\n",
    "Son contenedores que determinan el orden de los *widgets*. Son flexibles y muy útiles para determinar la posición de las widgets de manera dinámica y ordenada. Una utilidad importante de estos es que los *widgets* en su interior se acomodan para usar de forma óptica (no necesariamente estética) el espacio. Además, permite el reescalado de tamaño de sus elementos internos al agrandar o achicar la ventana.\n",
    "### **QHBoxLayout y QVBoxLayout**\n",
    "**QHBoxLayout** y **QVBoxLayout** permiten ordenar los *widgets* de manera horizontal o vertical respectivamente. Los *widgets* que están dentro de este layout se ordenarán de izquierda a derecha o arriba a abajo\n",
    "según el orden en que son agregadas, y se posicionaran tal que habrá espacio equivalente entre ellas, independiente del tamaño de la ventana.\n",
    "#### **Métodos para Layouts**\n",
    "- `addWidget` y `addLayout`. El primero nos permite añadir *widgets* (QPushButton, QLabel, etc.) a un layout, mientras que el segundo nos permite añadir un sub-layout al layout externo, por ejemplo, añadir un *hbox* que contenga una serie de botones ordenados horizontalmente a un *vbox* que ordena estas filas hacia abajo, similar al comportamiento de una grilla.\n",
    "\n",
    "\n",
    "- `addStrech`. Este se coloca luego de añadir un *widget* y antes de añadir el siguiente, ya que su función es dejar una separación entre los dos *widgets* agregados."
   ]
  },
  {
   "cell_type": "code",
   "execution_count": 1,
   "metadata": {
    "pycharm": {
     "name": "#%%\n"
    },
    "slideshow": {
     "slide_type": "skip"
    }
   },
   "outputs": [],
   "source": [
    "import sys\n",
    "from PyQt5.QtWidgets import QWidget, QApplication, QPushButton, QHBoxLayout\n",
    "\n",
    "class MiVentana(QWidget):\n",
    "    def __init__(self):\n",
    "        super().__init__()\n",
    "        self.setGeometry(200, 100, 300, 300)\n",
    "        self.setWindowTitle('Ventana personalizada bien bacan')\n",
    "        self.boton_habilitado = QPushButton(':)')\n",
    "        self.boton_deshabilitado = QPushButton(':(')\n",
    "\n",
    "        self.ini_gui()\n",
    "\n",
    "    def ini_gui(self):\n",
    "        self.boton_deshabilitado.setDisabled(True)\n",
    "        self.boton_deshabilitado.move(100, 0)\n",
    "\n",
    "        # El argumento de QHboxLayout es quien va a tener este layout\n",
    "        hbox = QHBoxLayout(self)\n",
    "        # Una alternativa a lo anterior es no poner ningun argumento, y luego self.setLayout(hbox)\n",
    "\n",
    "        # Pueden descomentar la siguiente linea para ver el efecto del stretch\n",
    "        # hbox.addStretch(1)\n",
    "\n",
    "        hbox.addWidget(self.boton_habilitado)\n",
    "        hbox.addWidget(self.boton_deshabilitado)\n",
    "        self.show()\n",
    "\n",
    "\n",
    "if __name__ == '__main__':\n",
    "    app = QApplication([])\n",
    "    ventana = MiVentana()\n",
    "    sys.exit(app.exec_())"
   ]
  },
  {
   "cell_type": "markdown",
   "metadata": {
    "slideshow": {
     "slide_type": "fragment"
    }
   },
   "source": [
    "## ¿Cómo ordenar elementos en *Layouts*?\n",
    "\n",
    "<img src=\"img/expl-layouts.png\" width=1500>"
   ]
  },
  {
   "cell_type": "code",
   "execution_count": null,
   "metadata": {
    "slideshow": {
     "slide_type": "subslide"
    }
   },
   "outputs": [],
   "source": [
    "layout = QVBoxLayout()   # QHBoxLayout\n",
    "layout2 = QHBoxLayout()  # QVBoxLayout\n",
    "\n",
    "layout.addWidget(widget)   # Agregar cualquier clase de Widget\n",
    "\n",
    "layout.addLayout(layout2)  # Agregar otro Layout"
   ]
  },
  {
   "cell_type": "markdown",
   "metadata": {
    "slideshow": {
     "slide_type": "subslide"
    }
   },
   "source": [
    "### **Grid**\n",
    "Funciona muy parecido a los *layouts* anteriores, con la diferencia que se pueden insertar los elementos por filas y columnas, ordenandolos en forma de grilla (como una matriz).\n",
    "Para insertar un elemento, se utiliza el mismo método que en los anteriores (`addWidget`), pero en este caso los argumentos son: (`widget, número_fila, número_columna`)."
   ]
  },
  {
   "cell_type": "markdown",
   "metadata": {
    "pycharm": {
     "name": "#%% md\n"
    },
    "slideshow": {
     "slide_type": "skip"
    }
   },
   "source": [
    "## **Eventos y señales personalizadas**\n",
    "### **Eventos y comunicación entre widgets**\n",
    "La comunicación en los ejemplos vistos es extremadamente sencilla, al igual que la lógica detrás, por lo que puede parecer innecesario separar las funcionalidades en módulos diferentes (*frontend* y *backend*), ya que si, por ejemplo, queremos que una QLabel cambie su texto a algo determinado por una operación, pareciera ser más conveniente hacer todo en el mismo sitio. Sin embargo, los proyectos del mundo real son infinitamente más complejos y extensos, por lo que es indispensable tener una buena separación entre lo que se ve (*frontend*) y lo que \"piensa\" (*backend*). Por otra parte, es evidente que también necesitamos saber cuando el usuario presiona un botón o una tecla.\n",
    "\n",
    "Dicho esto, la solución a todos estos problemas son las señales. Esta nos permiten desacoplar las dos funcionalidades señaladas lo máximo posible, de forma que su único vínculo sea un mensajero que transmite la información de determinados eventos entre las distintas partes de la aplicación. Por ejemplo, al presionar click en un *shooter* nosotros queremos transmitir esa información de forma que el *backend* pueda procesar la trayectoria y si algún jugador recibió el impacto.\n",
    "\n",
    "\n",
    "En el ejemplo que vemos a continuación, conectamos la señal `clicked` de dos botones al método `imprimir_texto`:"
   ]
  },
  {
   "cell_type": "code",
   "execution_count": 1,
   "metadata": {
    "pycharm": {
     "name": "#%%\n"
    },
    "slideshow": {
     "slide_type": "skip"
    }
   },
   "outputs": [],
   "source": [
    "import sys\n",
    "from PyQt5.QtWidgets import QWidget, QApplication, QPushButton, QLineEdit, QLabel\n",
    "\n",
    "class MiVentana(QWidget):\n",
    "    def __init__(self):\n",
    "        super().__init__()\n",
    "        self.setGeometry(200, 100, 300, 300)\n",
    "        self.setWindowTitle('Ventana personalizada bien bacan')\n",
    "\n",
    "        self.boton_print_1 = QPushButton('Mensaje bonito', self)\n",
    "        self.boton_print_2 = QPushButton('Mensaje no tan bonito', self)\n",
    "\n",
    "        self.label_mensaje = QLabel('La bola de cristal dice: ', self)\n",
    "\n",
    "        self.ini_gui()\n",
    "\n",
    "    def ini_gui(self):\n",
    "        self.boton_print_1.setGeometry(50, 0, 150, 50)\n",
    "        self.boton_print_2.setGeometry(50, 100, 150, 50)\n",
    "        self.label_mensaje.move(25, 200)\n",
    "\n",
    "        self.boton_print_1.clicked.connect(self.imprimir_texto)\n",
    "        self.boton_print_2.clicked.connect(self.imprimir_texto)\n",
    "\n",
    "        self.show()\n",
    "\n",
    "    def imprimir_texto(self):\n",
    "        boton_clickeado = self.sender()\n",
    "        texto_boton = boton_clickeado.text()\n",
    "        self.label_mensaje.setText(texto_boton)\n",
    "\n",
    "\n",
    "if __name__ == '__main__':\n",
    "    app = QApplication([])\n",
    "    ventana = MiVentana()\n",
    "    sys.exit(app.exec_())"
   ]
  },
  {
   "cell_type": "markdown",
   "metadata": {
    "pycharm": {
     "name": "#%% md\n"
    },
    "slideshow": {
     "slide_type": "skip"
    }
   },
   "source": [
    "### **Señales personalizadas**\n",
    "En el caso anterior usamos la señal `clicked` que ya está implementada para algunos *widgets*. No obstante, nosotros también podemos crear nuestras propias excepciones. En el siguiente ejemplo creamos la señal `senal_texto` que emite un *string* que será captado por otra ventana para mostrarlo."
   ]
  },
  {
   "cell_type": "code",
   "execution_count": 3,
   "metadata": {
    "pycharm": {
     "name": "#%%\n"
    },
    "slideshow": {
     "slide_type": "skip"
    }
   },
   "outputs": [],
   "source": [
    "import sys\n",
    "from PyQt5.QtWidgets import QWidget, QApplication, QPushButton, QLineEdit, QLabel\n",
    "from PyQt5.QtCore import pyqtSignal\n",
    "\n",
    "class MiVentanaBotones(QWidget):\n",
    "    senal_texto = pyqtSignal(str)\n",
    "\n",
    "    def __init__(self):\n",
    "        super().__init__()\n",
    "        self.setGeometry(200, 100, 300, 300)\n",
    "        self.setWindowTitle('Ventana personalizada con botones bien bacanes')\n",
    "\n",
    "        self.boton_print_1 = QPushButton('Mensaje bonito', self)\n",
    "        self.boton_print_2 = QPushButton('Mensaje no tan bonito', self)\n",
    "\n",
    "        self.ini_gui()\n",
    "\n",
    "    def ini_gui(self):\n",
    "        self.boton_print_1.setGeometry(50, 0, 150, 50)\n",
    "        self.boton_print_2.setGeometry(50, 100, 150, 50)\n",
    "\n",
    "        self.boton_print_1.clicked.connect(self.enviar_texto)\n",
    "        self.boton_print_2.clicked.connect(self.enviar_texto)\n",
    "\n",
    "        self.show()\n",
    "\n",
    "    def enviar_texto(self):\n",
    "        boton_clickeado = self.sender()\n",
    "        texto_boton = boton_clickeado.text()\n",
    "        self.senal_texto.emit(texto_boton)\n",
    "\n",
    "\n",
    "class MiVentanaTexto(QWidget):\n",
    "    def __init__(self):\n",
    "        super().__init__()\n",
    "        self.setGeometry(600, 100, 300, 300)\n",
    "        self.setWindowTitle('Ventana personalizada con texto bien bacan')\n",
    "        self.label_mensaje = QLabel('La bola de cristal dice: ', self)\n",
    "\n",
    "        self.ini_gui()\n",
    "\n",
    "    def ini_gui(self):\n",
    "        self.label_mensaje.move(25, 100)\n",
    "        self.show()\n",
    "\n",
    "    def imprimir_texto(self, texto):\n",
    "        self.label_mensaje.setText(texto)\n",
    "\n",
    "if __name__ == '__main__':\n",
    "    app = QApplication([])\n",
    "    ventana_botones = MiVentanaBotones()\n",
    "    ventana_texto = MiVentanaTexto()\n",
    "\n",
    "    ventana_botones.senal_texto.connect(ventana_texto.imprimir_texto)\n",
    "    sys.exit(app.exec_())"
   ]
  },
  {
   "cell_type": "markdown",
   "metadata": {
    "slideshow": {
     "slide_type": "skip"
    }
   },
   "source": [
    "Podemos notar que la señal `senal_texto` de `ventana_botones` es conectada en la instanciación de QApplication con el método `imprimir_texto` de `ventana_texto`."
   ]
  },
  {
   "cell_type": "markdown",
   "metadata": {
    "slideshow": {
     "slide_type": "slide"
    }
   },
   "source": [
    "## ¡Aprender haciendo! 💪"
   ]
  },
  {
   "cell_type": "markdown",
   "metadata": {
    "slideshow": {
     "slide_type": "fragment"
    }
   },
   "source": [
    "<img src=\"img/logo.png\">"
   ]
  },
  {
   "cell_type": "markdown",
   "metadata": {
    "slideshow": {
     "slide_type": "subslide"
    }
   },
   "source": [
    "DCCorreo es una plataforma sencilla para el envío de emails al interior del curso IIC2233, para su ejecución te entregamos los siguientes archivo:\n",
    "* `Data/mails.csv`: Una base de datos con todos los mails relativos al curso.\n",
    "* `Data/actions.csv`: Una base de datos con todos los mails enviados dentro del curso.\n",
    "* `Data/logo.png`: Una imagen `png` con el logo del programa (se verá bonito).\n",
    "* `systems.py`:Un archivo python que permite manejar todas las interacciones dentro del sistema de correos.\n",
    "* `interfaces.py`: Un archivo python que construye las interfaces para la vizualización del sistema.\n",
    "* `main.py`: Un archivo intermedio para crear el link entre ambos sistemas."
   ]
  },
  {
   "cell_type": "markdown",
   "metadata": {
    "slideshow": {
     "slide_type": "subslide"
    }
   },
   "source": [
    "Para su implementación el archvio `systems.py` contine la clase `Mailer`, la cual a su vez incluye el siguiente método para el funcionamiento del programa:\n",
    "* `send_mail(sender, receiver, subject, content)`: La cual se encarga de \"enviar\" el correo.<br/>\n",
    "Esta función retorna una tupla con un código de error `int`, el cual puede ser `200` si el correo fue enviado exitosamente y `400` o`404` si no se pudo enviar por datos mal ingreados, y un mensaje acorde al estado del envío.\n",
    "\n",
    "**Además, ustedes deben implementar los métodos y señales necesarias dentro de la clase para el manejo de la interfáz.**"
   ]
  },
  {
   "cell_type": "markdown",
   "metadata": {
    "slideshow": {
     "slide_type": "fragment"
    }
   },
   "source": [
    "Por otro lado, en el archivo `windows.py` **deben completar la clase** `MailWindow` **con los elementos, métodos y señales necesarias para que el programa funcione correctamente.**"
   ]
  },
  {
   "cell_type": "markdown",
   "metadata": {
    "slideshow": {
     "slide_type": "subslide"
    }
   },
   "source": [
    "## ¿Cómo debe lucir el DCCorreo?"
   ]
  },
  {
   "cell_type": "markdown",
   "metadata": {
    "slideshow": {
     "slide_type": "fragment"
    }
   },
   "source": [
    "<img src=\"img/ejemplo_1.png\">"
   ]
  },
  {
   "cell_type": "markdown",
   "metadata": {
    "slideshow": {
     "slide_type": "subslide"
    }
   },
   "source": [
    "## ¿Qué componentes utilizar?"
   ]
  },
  {
   "cell_type": "markdown",
   "metadata": {
    "slideshow": {
     "slide_type": "fragment"
    }
   },
   "source": [
    "<img src=\"img/ejemplo_2.png\">"
   ]
  },
  {
   "cell_type": "markdown",
   "metadata": {
    "slideshow": {
     "slide_type": "slide"
    }
   },
   "source": [
    "## Layouts in DCCorreo"
   ]
  },
  {
   "cell_type": "markdown",
   "metadata": {
    "slideshow": {
     "slide_type": "subslide"
    }
   },
   "source": [
    "<img src=\"img/ejemplo_3.png\">"
   ]
  },
  {
   "cell_type": "markdown",
   "metadata": {
    "slideshow": {
     "slide_type": "subslide"
    }
   },
   "source": [
    "## ¿Cuántas señales necesitamos en el DCCorreo?"
   ]
  },
  {
   "cell_type": "markdown",
   "metadata": {
    "slideshow": {
     "slide_type": "fragment"
    }
   },
   "source": [
    "* Una que le envíe al sistema `Mailer` los datos que ha ingresado el usuario.\n",
    "* Una que responda a la ventana que ha sucedido con el mail."
   ]
  },
  {
   "cell_type": "markdown",
   "metadata": {
    "slideshow": {
     "slide_type": "fragment"
    }
   },
   "source": [
    "* `Window` $\\Large\\rightarrow$ `Mailer`\n",
    "* `Window` $\\Large\\leftarrow$ `Mailer`"
   ]
  },
  {
   "cell_type": "markdown",
   "metadata": {
    "slideshow": {
     "slide_type": "subslide"
    }
   },
   "source": [
    "## ¿Dónde las creamos?"
   ]
  },
  {
   "cell_type": "markdown",
   "metadata": {
    "slideshow": {
     "slide_type": "fragment"
    }
   },
   "source": [
    "De vuelta al código.."
   ]
  },
  {
   "cell_type": "markdown",
   "metadata": {},
   "source": [
    "## Ejemplos Ayudantía\n",
    "### Calculadora\n",
    "El primer ejercicio consiste en una calculadora con una sencilla separación entre el *backend* y *frontend*, con algunos eventos conectados mediante señales personalizadas. En esta se usarán *widgets* como QPushButton, QLabel, QVBoxLayout y QGridLayout.\n",
    "### Pou\n",
    "El segundo ejercicio consiste básicamente en un personaje (Pou) mostrado mediante una QLabel con una imagen con el uso de QPixmap. En este se trabajará el manejo de eventos como clicks en botones o uso de teclas para mover al personaje o actualizar su imagen."
   ]
  }
 ],
 "metadata": {
  "celltoolbar": "Slideshow",
  "kernelspec": {
   "display_name": "Python 3",
   "language": "python",
   "name": "python3"
  },
  "language_info": {
   "codemirror_mode": {
    "name": "ipython",
    "version": 3
   },
   "file_extension": ".py",
   "mimetype": "text/x-python",
   "name": "python",
   "nbconvert_exporter": "python",
   "pygments_lexer": "ipython3",
   "version": "3.7.4"
  }
 },
 "nbformat": 4,
 "nbformat_minor": 1
}
